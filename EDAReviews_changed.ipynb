{
  "nbformat": 4,
  "nbformat_minor": 0,
  "metadata": {
    "colab": {
      "name": "EDAReviews.ipynb",
      "version": "0.3.2",
      "provenance": [],
      "collapsed_sections": [],
      "include_colab_link": true
    },
    "kernelspec": {
      "display_name": "Python 3",
      "language": "python",
      "name": "python3"
    }
  },
  "cells": [
    {
      "cell_type": "markdown",
      "metadata": {
        "id": "view-in-github",
        "colab_type": "text"
      },
      "source": [
        "<a href=\"https://colab.research.google.com/github/bee2502/yelp-reviews-data-analysis/blob/master/EDAReviews_changed.ipynb\" target=\"_parent\"><img src=\"https://colab.research.google.com/assets/colab-badge.svg\" alt=\"Open In Colab\"/></a>"
      ]
    },
    {
      "metadata": {
        "id": "f5vMQsqMXE64",
        "colab_type": "code",
        "outputId": "92c83ec1-b6cf-4f6a-c956-4824b438bc6d",
        "colab": {
          "base_uri": "https://localhost:8080/",
          "height": 34
        }
      },
      "cell_type": "code",
      "source": [
        "import numpy as np\n",
        "import pandas as pd\n",
        "import csv\n",
        "import json\n",
        "import matplotlib.pyplot as plt\n",
        "from datetime import datetime\n",
        "from google.colab import drive\n",
        "drive.mount('/content/gdrive',force_remount=True)\n",
        "%matplotlib inline\n",
        "\n"
      ],
      "execution_count": 36,
      "outputs": [
        {
          "output_type": "stream",
          "text": [
            "Mounted at /content/gdrive\n"
          ],
          "name": "stdout"
        }
      ]
    },
    {
      "metadata": {
        "id": "n7WSk_XfDxvQ",
        "colab_type": "code",
        "colab": {}
      },
      "cell_type": "code",
      "source": [
        "import seaborn as sns"
      ],
      "execution_count": 0,
      "outputs": []
    },
    {
      "metadata": {
        "id": "jKmumyH63zvl",
        "colab_type": "code",
        "colab": {}
      },
      "cell_type": "code",
      "source": [
        "!pip install -U -q PyDrive\n",
        "from pydrive.auth import GoogleAuth\n",
        "from pydrive.drive import GoogleDrive\n",
        "from google.colab import auth\n",
        "from oauth2client.client import GoogleCredentials"
      ],
      "execution_count": 0,
      "outputs": []
    },
    {
      "metadata": {
        "id": "FyUUd6_I36jB",
        "colab_type": "code",
        "colab": {}
      },
      "cell_type": "code",
      "source": [
        "auth.authenticate_user()\n",
        "gauth = GoogleAuth()\n",
        "gauth.credentials = GoogleCredentials.get_application_default()\n",
        "drive = GoogleDrive(gauth)"
      ],
      "execution_count": 0,
      "outputs": []
    },
    {
      "metadata": {
        "id": "jBTOk7_SPGkE",
        "colab_type": "code",
        "outputId": "13f99db8-f7c7-4a60-8ef2-0cf065dffbfa",
        "colab": {
          "base_uri": "https://localhost:8080/",
          "height": 375
        }
      },
      "cell_type": "code",
      "source": [
        "#misc\n",
        "import gc\n",
        "import time\n",
        "import warnings\n",
        "\n",
        "\n",
        "#viz\n",
        "import matplotlib.pyplot as plt\n",
        "import seaborn as sns \n",
        "import matplotlib.gridspec as gridspec \n",
        "import matplotlib.gridspec as gridspec \n",
        "\n",
        "# graph viz\n",
        "import plotly.offline as pyo\n",
        "from plotly.graph_objs import *\n",
        "import plotly.graph_objs as go\n",
        "\n",
        "#map section\n",
        "import imageio\n",
        "import folium\n",
        "import folium.plugins as plugins\n",
        "from mpl_toolkits.basemap import Basemap\n",
        "\n",
        "\n",
        "#graph section\n",
        "import networkx as nx\n",
        "import heapq  # for getting top n number of things from list,dict\n"
      ],
      "execution_count": 0,
      "outputs": [
        {
          "output_type": "error",
          "ename": "ModuleNotFoundError",
          "evalue": "ignored",
          "traceback": [
            "\u001b[0;31m---------------------------------------------------------------------------\u001b[0m",
            "\u001b[0;31mModuleNotFoundError\u001b[0m                       Traceback (most recent call last)",
            "\u001b[0;32m<ipython-input-15-112cef680fd7>\u001b[0m in \u001b[0;36m<module>\u001b[0;34m()\u001b[0m\n\u001b[1;32m     16\u001b[0m \u001b[0;34m\u001b[0m\u001b[0m\n\u001b[1;32m     17\u001b[0m \u001b[0;31m#map section\u001b[0m\u001b[0;34m\u001b[0m\u001b[0;34m\u001b[0m\u001b[0;34m\u001b[0m\u001b[0m\n\u001b[0;32m---> 18\u001b[0;31m \u001b[0;32mimport\u001b[0m \u001b[0mimageio\u001b[0m\u001b[0;34m\u001b[0m\u001b[0;34m\u001b[0m\u001b[0m\n\u001b[0m\u001b[1;32m     19\u001b[0m \u001b[0;32mimport\u001b[0m \u001b[0mfolium\u001b[0m\u001b[0;34m\u001b[0m\u001b[0;34m\u001b[0m\u001b[0m\n\u001b[1;32m     20\u001b[0m \u001b[0;32mimport\u001b[0m \u001b[0mfolium\u001b[0m\u001b[0;34m.\u001b[0m\u001b[0mplugins\u001b[0m \u001b[0;32mas\u001b[0m \u001b[0mplugins\u001b[0m\u001b[0;34m\u001b[0m\u001b[0;34m\u001b[0m\u001b[0m\n",
            "\u001b[0;31mModuleNotFoundError\u001b[0m: No module named 'imageio'",
            "",
            "\u001b[0;31m---------------------------------------------------------------------------\u001b[0;32m\nNOTE: If your import is failing due to a missing package, you can\nmanually install dependencies using either !pip or !apt.\n\nTo view examples of installing some common dependencies, click the\n\"Open Examples\" button below.\n\u001b[0;31m---------------------------------------------------------------------------\u001b[0m\n"
          ]
        }
      ]
    },
    {
      "metadata": {
        "id": "Lz5lq3IlPU0M",
        "colab_type": "code",
        "outputId": "c84b5edd-e23a-46bb-ae9b-30d17c8ff2dd",
        "colab": {
          "base_uri": "https://localhost:8080/",
          "height": 245
        }
      },
      "cell_type": "code",
      "source": [
        "!pip install imageio\n",
        "!pip install --upgrade --user matplotlib numpy pyproj pyshp OWSLib Pillow"
      ],
      "execution_count": 0,
      "outputs": [
        {
          "output_type": "stream",
          "text": [
            "Collecting imageio\n",
            "\u001b[?25l  Downloading https://files.pythonhosted.org/packages/28/b4/cbb592964dfd71a9de6a5b08f882fd334fb99ae09ddc82081dbb2f718c81/imageio-2.4.1.tar.gz (3.3MB)\n",
            "\u001b[K    100% |████████████████████████████████| 3.3MB 8.0MB/s \n",
            "\u001b[?25hRequirement already satisfied: numpy in /usr/local/lib/python3.6/dist-packages (from imageio) (1.14.6)\n",
            "Requirement already satisfied: pillow in /usr/local/lib/python3.6/dist-packages (from imageio) (4.0.0)\n",
            "Requirement already satisfied: olefile in /usr/local/lib/python3.6/dist-packages (from pillow->imageio) (0.46)\n",
            "Building wheels for collected packages: imageio\n",
            "  Running setup.py bdist_wheel for imageio ... \u001b[?25l-\b \b\\\b \b|\b \b/\b \bdone\n",
            "\u001b[?25h  Stored in directory: /root/.cache/pip/wheels/e0/43/31/605de9372ceaf657f152d3d5e82f42cf265d81db8bbe63cde1\n",
            "Successfully built imageio\n",
            "Installing collected packages: imageio\n",
            "Successfully installed imageio-2.4.1\n"
          ],
          "name": "stdout"
        }
      ]
    },
    {
      "metadata": {
        "id": "9ww-_9Bt4PU-",
        "colab_type": "code",
        "outputId": "67e36447-8467-4432-e168-7179c72cf731",
        "colab": {
          "base_uri": "https://localhost:8080/",
          "height": 347
        }
      },
      "cell_type": "code",
      "source": [
        "!ls -ltr gdrive/\"My Drive\"\n",
        "\n"
      ],
      "execution_count": 37,
      "outputs": [
        {
          "output_type": "stream",
          "text": [
            "total 8340096\n",
            "-rw------- 1 root root          1 Apr 23  2018 'talkscripts_all_edited_20180307(1).gsheet'\n",
            "-rw------- 1 root root          1 Apr 24  2018 'Copy of talkscripts_all_edited_20180307(1).gsheet'\n",
            "-rw------- 1 root root          1 Apr 25  2018 'talkscripts_all_edited_20180307(1) (1).gsheet'\n",
            "-rw------- 1 root root          1 Jun 12 20:48 'Untitled spreadsheet.gsheet'\n",
            "-rw------- 1 root root          1 Jun 14 14:58 'Untitled spreadsheet (1).gsheet'\n",
            "-rw------- 1 root root   11160765 Sep 11 11:17  app.bao-solutions.com.tar.gz\n",
            "-rw------- 1 root root     281619 Sep 11 23:25  jbpservice.tar.gz\n",
            "-rw------- 1 root root   35257175 Sep 25 21:58  html.tar.gz\n",
            "-rw------- 1 root root     252046 Oct 15 22:35  bao_ColdCalling_Script.pdf\n",
            "-rw------- 1 root root   58574047 Nov 14 09:11  coldcalling.zip\n",
            "drwx------ 2 root root       4096 Nov 19 00:26 'Colab Notebooks'\n",
            "-rw------- 1 root root 4269133614 Nov 19 09:20  yelp_academic_dataset_review.csv\n",
            "-rw------- 1 root root 2188485470 Nov 19 09:31  yelp_academic_dataset_user.json\n",
            "-rw------- 1 root root 1710278701 Nov 19 09:39  yelp_academic_dataset_user.csv\n",
            "-rw------- 1 root root  173856084 Nov 19 12:50  yelp_academic_dataset_business.csv\n",
            "-rw------- 1 root root   52744210 Nov 20 01:15  yelp_academic_dataset_checkin.json\n",
            "-rw------- 1 root root    5053126 Nov 20 02:08  yelp_checkin.csv\n",
            "-rw------- 1 root root   35170333 Nov 20 23:25  yelp_academic_dataset_checkin.csv\n"
          ],
          "name": "stdout"
        }
      ]
    },
    {
      "metadata": {
        "id": "rWwiiUCLXE7N",
        "colab_type": "code",
        "colab": {}
      },
      "cell_type": "code",
      "source": [
        "PATH_TO_REVIEW_FILE = \"/content/gdrive/My Drive/yelp_academic_dataset_review.csv\"\n",
        "PATH_TO_BUSINESS_FILE = \"/content/gdrive/My Drive/yelp_academic_dataset_business.csv\"\n",
        "PATH_TO_USER_FILE = \"/content/gdrive/My Drive/yelp_academic_dataset_user.csv\""
      ],
      "execution_count": 0,
      "outputs": []
    },
    {
      "metadata": {
        "id": "kVFe-S4upZkb",
        "colab_type": "code",
        "colab": {}
      },
      "cell_type": "code",
      "source": [
        "PATH_TO_CHECKIN_FILE = \"/content/gdrive/My Drive/yelp_checkin.csv\""
      ],
      "execution_count": 0,
      "outputs": []
    },
    {
      "metadata": {
        "id": "CQv6FMHXcgz2",
        "colab_type": "text"
      },
      "cell_type": "markdown",
      "source": [
        ""
      ]
    },
    {
      "metadata": {
        "id": "bRfFdy-kXE7Y",
        "colab_type": "code",
        "outputId": "18448c27-5c35-44cc-dcd5-568babf3e196",
        "colab": {
          "base_uri": "https://localhost:8080/",
          "height": 881
        }
      },
      "cell_type": "code",
      "source": [
        "reviews = pd.read_csv(PATH_TO_REVIEW_FILE, sep='\\t')\n",
        "users=pd.read_csv(PATH_TO_USER_FILE, sep='\\t')\n",
        "business=pd.read_csv(PATH_TO_BUSINESS_FILE, sep='\\t')"
      ],
      "execution_count": 0,
      "outputs": [
        {
          "output_type": "error",
          "ename": "FileNotFoundError",
          "evalue": "ignored",
          "traceback": [
            "\u001b[0;31m---------------------------------------------------------------------------\u001b[0m",
            "\u001b[0;31mFileNotFoundError\u001b[0m                         Traceback (most recent call last)",
            "\u001b[0;32m<ipython-input-28-832c8491bf06>\u001b[0m in \u001b[0;36m<module>\u001b[0;34m()\u001b[0m\n\u001b[0;32m----> 1\u001b[0;31m \u001b[0mreviews\u001b[0m \u001b[0;34m=\u001b[0m \u001b[0mpd\u001b[0m\u001b[0;34m.\u001b[0m\u001b[0mread_csv\u001b[0m\u001b[0;34m(\u001b[0m\u001b[0mPATH_TO_REVIEW_FILE\u001b[0m\u001b[0;34m,\u001b[0m \u001b[0msep\u001b[0m\u001b[0;34m=\u001b[0m\u001b[0;34m'\\t'\u001b[0m\u001b[0;34m)\u001b[0m\u001b[0;34m\u001b[0m\u001b[0;34m\u001b[0m\u001b[0m\n\u001b[0m\u001b[1;32m      2\u001b[0m \u001b[0musers\u001b[0m\u001b[0;34m=\u001b[0m\u001b[0mpd\u001b[0m\u001b[0;34m.\u001b[0m\u001b[0mread_csv\u001b[0m\u001b[0;34m(\u001b[0m\u001b[0mPATH_TO_USER_FILE\u001b[0m\u001b[0;34m,\u001b[0m \u001b[0msep\u001b[0m\u001b[0;34m=\u001b[0m\u001b[0;34m'\\t'\u001b[0m\u001b[0;34m)\u001b[0m\u001b[0;34m\u001b[0m\u001b[0;34m\u001b[0m\u001b[0m\n\u001b[1;32m      3\u001b[0m \u001b[0mbusiness\u001b[0m\u001b[0;34m=\u001b[0m\u001b[0mpd\u001b[0m\u001b[0;34m.\u001b[0m\u001b[0mread_csv\u001b[0m\u001b[0;34m(\u001b[0m\u001b[0mPATH_TO_BUSINESS_FILE\u001b[0m\u001b[0;34m,\u001b[0m \u001b[0msep\u001b[0m\u001b[0;34m=\u001b[0m\u001b[0;34m'\\t'\u001b[0m\u001b[0;34m)\u001b[0m\u001b[0;34m\u001b[0m\u001b[0;34m\u001b[0m\u001b[0m\n",
            "\u001b[0;32m/usr/local/lib/python3.6/dist-packages/pandas/io/parsers.py\u001b[0m in \u001b[0;36mparser_f\u001b[0;34m(filepath_or_buffer, sep, delimiter, header, names, index_col, usecols, squeeze, prefix, mangle_dupe_cols, dtype, engine, converters, true_values, false_values, skipinitialspace, skiprows, nrows, na_values, keep_default_na, na_filter, verbose, skip_blank_lines, parse_dates, infer_datetime_format, keep_date_col, date_parser, dayfirst, iterator, chunksize, compression, thousands, decimal, lineterminator, quotechar, quoting, escapechar, comment, encoding, dialect, tupleize_cols, error_bad_lines, warn_bad_lines, skipfooter, skip_footer, doublequote, delim_whitespace, as_recarray, compact_ints, use_unsigned, low_memory, buffer_lines, memory_map, float_precision)\u001b[0m\n\u001b[1;32m    707\u001b[0m                     skip_blank_lines=skip_blank_lines)\n\u001b[1;32m    708\u001b[0m \u001b[0;34m\u001b[0m\u001b[0m\n\u001b[0;32m--> 709\u001b[0;31m         \u001b[0;32mreturn\u001b[0m \u001b[0m_read\u001b[0m\u001b[0;34m(\u001b[0m\u001b[0mfilepath_or_buffer\u001b[0m\u001b[0;34m,\u001b[0m \u001b[0mkwds\u001b[0m\u001b[0;34m)\u001b[0m\u001b[0;34m\u001b[0m\u001b[0;34m\u001b[0m\u001b[0m\n\u001b[0m\u001b[1;32m    710\u001b[0m \u001b[0;34m\u001b[0m\u001b[0m\n\u001b[1;32m    711\u001b[0m     \u001b[0mparser_f\u001b[0m\u001b[0;34m.\u001b[0m\u001b[0m__name__\u001b[0m \u001b[0;34m=\u001b[0m \u001b[0mname\u001b[0m\u001b[0;34m\u001b[0m\u001b[0;34m\u001b[0m\u001b[0m\n",
            "\u001b[0;32m/usr/local/lib/python3.6/dist-packages/pandas/io/parsers.py\u001b[0m in \u001b[0;36m_read\u001b[0;34m(filepath_or_buffer, kwds)\u001b[0m\n\u001b[1;32m    447\u001b[0m \u001b[0;34m\u001b[0m\u001b[0m\n\u001b[1;32m    448\u001b[0m     \u001b[0;31m# Create the parser.\u001b[0m\u001b[0;34m\u001b[0m\u001b[0;34m\u001b[0m\u001b[0;34m\u001b[0m\u001b[0m\n\u001b[0;32m--> 449\u001b[0;31m     \u001b[0mparser\u001b[0m \u001b[0;34m=\u001b[0m \u001b[0mTextFileReader\u001b[0m\u001b[0;34m(\u001b[0m\u001b[0mfilepath_or_buffer\u001b[0m\u001b[0;34m,\u001b[0m \u001b[0;34m**\u001b[0m\u001b[0mkwds\u001b[0m\u001b[0;34m)\u001b[0m\u001b[0;34m\u001b[0m\u001b[0;34m\u001b[0m\u001b[0m\n\u001b[0m\u001b[1;32m    450\u001b[0m \u001b[0;34m\u001b[0m\u001b[0m\n\u001b[1;32m    451\u001b[0m     \u001b[0;32mif\u001b[0m \u001b[0mchunksize\u001b[0m \u001b[0;32mor\u001b[0m \u001b[0miterator\u001b[0m\u001b[0;34m:\u001b[0m\u001b[0;34m\u001b[0m\u001b[0;34m\u001b[0m\u001b[0m\n",
            "\u001b[0;32m/usr/local/lib/python3.6/dist-packages/pandas/io/parsers.py\u001b[0m in \u001b[0;36m__init__\u001b[0;34m(self, f, engine, **kwds)\u001b[0m\n\u001b[1;32m    816\u001b[0m             \u001b[0mself\u001b[0m\u001b[0;34m.\u001b[0m\u001b[0moptions\u001b[0m\u001b[0;34m[\u001b[0m\u001b[0;34m'has_index_names'\u001b[0m\u001b[0;34m]\u001b[0m \u001b[0;34m=\u001b[0m \u001b[0mkwds\u001b[0m\u001b[0;34m[\u001b[0m\u001b[0;34m'has_index_names'\u001b[0m\u001b[0;34m]\u001b[0m\u001b[0;34m\u001b[0m\u001b[0;34m\u001b[0m\u001b[0m\n\u001b[1;32m    817\u001b[0m \u001b[0;34m\u001b[0m\u001b[0m\n\u001b[0;32m--> 818\u001b[0;31m         \u001b[0mself\u001b[0m\u001b[0;34m.\u001b[0m\u001b[0m_make_engine\u001b[0m\u001b[0;34m(\u001b[0m\u001b[0mself\u001b[0m\u001b[0;34m.\u001b[0m\u001b[0mengine\u001b[0m\u001b[0;34m)\u001b[0m\u001b[0;34m\u001b[0m\u001b[0;34m\u001b[0m\u001b[0m\n\u001b[0m\u001b[1;32m    819\u001b[0m \u001b[0;34m\u001b[0m\u001b[0m\n\u001b[1;32m    820\u001b[0m     \u001b[0;32mdef\u001b[0m \u001b[0mclose\u001b[0m\u001b[0;34m(\u001b[0m\u001b[0mself\u001b[0m\u001b[0;34m)\u001b[0m\u001b[0;34m:\u001b[0m\u001b[0;34m\u001b[0m\u001b[0;34m\u001b[0m\u001b[0m\n",
            "\u001b[0;32m/usr/local/lib/python3.6/dist-packages/pandas/io/parsers.py\u001b[0m in \u001b[0;36m_make_engine\u001b[0;34m(self, engine)\u001b[0m\n\u001b[1;32m   1047\u001b[0m     \u001b[0;32mdef\u001b[0m \u001b[0m_make_engine\u001b[0m\u001b[0;34m(\u001b[0m\u001b[0mself\u001b[0m\u001b[0;34m,\u001b[0m \u001b[0mengine\u001b[0m\u001b[0;34m=\u001b[0m\u001b[0;34m'c'\u001b[0m\u001b[0;34m)\u001b[0m\u001b[0;34m:\u001b[0m\u001b[0;34m\u001b[0m\u001b[0;34m\u001b[0m\u001b[0m\n\u001b[1;32m   1048\u001b[0m         \u001b[0;32mif\u001b[0m \u001b[0mengine\u001b[0m \u001b[0;34m==\u001b[0m \u001b[0;34m'c'\u001b[0m\u001b[0;34m:\u001b[0m\u001b[0;34m\u001b[0m\u001b[0;34m\u001b[0m\u001b[0m\n\u001b[0;32m-> 1049\u001b[0;31m             \u001b[0mself\u001b[0m\u001b[0;34m.\u001b[0m\u001b[0m_engine\u001b[0m \u001b[0;34m=\u001b[0m \u001b[0mCParserWrapper\u001b[0m\u001b[0;34m(\u001b[0m\u001b[0mself\u001b[0m\u001b[0;34m.\u001b[0m\u001b[0mf\u001b[0m\u001b[0;34m,\u001b[0m \u001b[0;34m**\u001b[0m\u001b[0mself\u001b[0m\u001b[0;34m.\u001b[0m\u001b[0moptions\u001b[0m\u001b[0;34m)\u001b[0m\u001b[0;34m\u001b[0m\u001b[0;34m\u001b[0m\u001b[0m\n\u001b[0m\u001b[1;32m   1050\u001b[0m         \u001b[0;32melse\u001b[0m\u001b[0;34m:\u001b[0m\u001b[0;34m\u001b[0m\u001b[0;34m\u001b[0m\u001b[0m\n\u001b[1;32m   1051\u001b[0m             \u001b[0;32mif\u001b[0m \u001b[0mengine\u001b[0m \u001b[0;34m==\u001b[0m \u001b[0;34m'python'\u001b[0m\u001b[0;34m:\u001b[0m\u001b[0;34m\u001b[0m\u001b[0;34m\u001b[0m\u001b[0m\n",
            "\u001b[0;32m/usr/local/lib/python3.6/dist-packages/pandas/io/parsers.py\u001b[0m in \u001b[0;36m__init__\u001b[0;34m(self, src, **kwds)\u001b[0m\n\u001b[1;32m   1693\u001b[0m         \u001b[0mkwds\u001b[0m\u001b[0;34m[\u001b[0m\u001b[0;34m'allow_leading_cols'\u001b[0m\u001b[0;34m]\u001b[0m \u001b[0;34m=\u001b[0m \u001b[0mself\u001b[0m\u001b[0;34m.\u001b[0m\u001b[0mindex_col\u001b[0m \u001b[0;32mis\u001b[0m \u001b[0;32mnot\u001b[0m \u001b[0;32mFalse\u001b[0m\u001b[0;34m\u001b[0m\u001b[0;34m\u001b[0m\u001b[0m\n\u001b[1;32m   1694\u001b[0m \u001b[0;34m\u001b[0m\u001b[0m\n\u001b[0;32m-> 1695\u001b[0;31m         \u001b[0mself\u001b[0m\u001b[0;34m.\u001b[0m\u001b[0m_reader\u001b[0m \u001b[0;34m=\u001b[0m \u001b[0mparsers\u001b[0m\u001b[0;34m.\u001b[0m\u001b[0mTextReader\u001b[0m\u001b[0;34m(\u001b[0m\u001b[0msrc\u001b[0m\u001b[0;34m,\u001b[0m \u001b[0;34m**\u001b[0m\u001b[0mkwds\u001b[0m\u001b[0;34m)\u001b[0m\u001b[0;34m\u001b[0m\u001b[0;34m\u001b[0m\u001b[0m\n\u001b[0m\u001b[1;32m   1696\u001b[0m \u001b[0;34m\u001b[0m\u001b[0m\n\u001b[1;32m   1697\u001b[0m         \u001b[0;31m# XXX\u001b[0m\u001b[0;34m\u001b[0m\u001b[0;34m\u001b[0m\u001b[0;34m\u001b[0m\u001b[0m\n",
            "\u001b[0;32mpandas/_libs/parsers.pyx\u001b[0m in \u001b[0;36mpandas._libs.parsers.TextReader.__cinit__\u001b[0;34m()\u001b[0m\n",
            "\u001b[0;32mpandas/_libs/parsers.pyx\u001b[0m in \u001b[0;36mpandas._libs.parsers.TextReader._setup_parser_source\u001b[0;34m()\u001b[0m\n",
            "\u001b[0;31mFileNotFoundError\u001b[0m: File b'/content/gdrive/My Drive/yelp_academic_dataset_review.csv' does not exist"
          ]
        }
      ]
    },
    {
      "metadata": {
        "id": "jzw2ws4cplro",
        "colab_type": "code",
        "colab": {}
      },
      "cell_type": "code",
      "source": [
        "checkin=pd.read_csv(PATH_TO_CHECKIN_FILE)"
      ],
      "execution_count": 0,
      "outputs": []
    },
    {
      "metadata": {
        "id": "B6o354OM9qfR",
        "colab_type": "code",
        "outputId": "b561277b-a892-4f50-828a-4c15018411c5",
        "colab": {
          "base_uri": "https://localhost:8080/",
          "height": 1094
        }
      },
      "cell_type": "code",
      "source": [
        "checkin.dtypes\n"
      ],
      "execution_count": 0,
      "outputs": [
        {
          "output_type": "execute_result",
          "data": {
            "text/plain": [
              "time.Wed-17    float64\n",
              "time.Wed-2     float64\n",
              "time.Sun-4     float64\n",
              "time.Sun-7     float64\n",
              "time.Mon-12    float64\n",
              "time.Mon-20    float64\n",
              "time.Tue-16    float64\n",
              "time.Thu-22    float64\n",
              "time.Fri-21    float64\n",
              "time.Sun-9     float64\n",
              "time.Fri-6     float64\n",
              "time.Wed-9     float64\n",
              "time.Sun-2     float64\n",
              "time.Fri-8     float64\n",
              "time.Mon-6     float64\n",
              "time.Thu-9     float64\n",
              "time.Thu-20    float64\n",
              "time.Sun-11    float64\n",
              "time.Tue-7     float64\n",
              "time.Sun-20    float64\n",
              "time.Tue-8     float64\n",
              "time.Wed-1     float64\n",
              "time.Sun-23    float64\n",
              "time.Thu-10    float64\n",
              "time.Fri-12    float64\n",
              "time.Sun-19    float64\n",
              "time.Thu-1     float64\n",
              "time.Mon-18    float64\n",
              "time.Thu-5     float64\n",
              "time.Sun-15    float64\n",
              "                ...   \n",
              "time.Wed-20    float64\n",
              "time.Tue-11    float64\n",
              "time.Thu-13    float64\n",
              "time.Wed-22    float64\n",
              "time.Fri-16    float64\n",
              "time.Tue-21    float64\n",
              "time.Thu-0     float64\n",
              "time.Tue-6     float64\n",
              "time.Sun-13    float64\n",
              "time.Tue-23    float64\n",
              "time.Tue-9     float64\n",
              "time.Tue-18    float64\n",
              "time.Mon-2     float64\n",
              "time.Tue-22    float64\n",
              "time.Sat-7     float64\n",
              "time.Sat-13    float64\n",
              "time.Tue-15    float64\n",
              "time.Wed-21    float64\n",
              "time.Sun-16    float64\n",
              "time.Sat-23    float64\n",
              "time.Thu-15    float64\n",
              "time.Thu-23    float64\n",
              "time.Sun-8     float64\n",
              "time.Sun-6     float64\n",
              "time.Fri-1     float64\n",
              "time.Fri-17    float64\n",
              "time.Wed-19    float64\n",
              "time.Mon-13    float64\n",
              "time.Sun-3     float64\n",
              "time.Wed-14    float64\n",
              "Length: 169, dtype: object"
            ]
          },
          "metadata": {
            "tags": []
          },
          "execution_count": 7
        }
      ]
    },
    {
      "metadata": {
        "id": "0GtjlHuPB7MB",
        "colab_type": "code",
        "colab": {}
      },
      "cell_type": "code",
      "source": [
        ""
      ],
      "execution_count": 0,
      "outputs": []
    },
    {
      "metadata": {
        "id": "cvDxIqToXE7l",
        "colab_type": "code",
        "colab": {}
      },
      "cell_type": "code",
      "source": [
        "users.name = users.name.str.strip('b\\'')\n",
        "users.yelping_since = users.yelping_since.str.strip('b\\'')\n",
        "users.elite = users.elite.str.strip('b\\'')\n",
        "users.user_id = users.user_id.str.strip('b\\'')"
      ],
      "execution_count": 0,
      "outputs": []
    },
    {
      "metadata": {
        "id": "k3kY4XcuXE_c",
        "colab_type": "code",
        "colab": {}
      },
      "cell_type": "code",
      "source": [
        "user_agg=reviews.groupby('user_id').agg({'review_id':['count'],'date':['min','max'],\n",
        "                                'useful':['sum'],'funny':['sum'],'cool':['sum'],\n",
        "                               'stars':['mean']})"
      ],
      "execution_count": 0,
      "outputs": []
    },
    {
      "metadata": {
        "id": "K2EmbEOTR1Cv",
        "colab_type": "code",
        "outputId": "9907119b-bb87-4064-f838-ccde8a39772e",
        "colab": {
          "base_uri": "https://localhost:8080/",
          "height": 443
        }
      },
      "cell_type": "code",
      "source": [
        "user_agg=user_agg.sort_values([('review_id','count')],ascending=False)\n",
        "print(\"          Top 10 Users in Yelp\")\n",
        "user_agg.head(10)"
      ],
      "execution_count": 0,
      "outputs": [
        {
          "output_type": "stream",
          "text": [
            "          Top 10 Users in Yelp\n"
          ],
          "name": "stdout"
        },
        {
          "output_type": "execute_result",
          "data": {
            "text/html": [
              "<div>\n",
              "<style scoped>\n",
              "    .dataframe tbody tr th:only-of-type {\n",
              "        vertical-align: middle;\n",
              "    }\n",
              "\n",
              "    .dataframe tbody tr th {\n",
              "        vertical-align: top;\n",
              "    }\n",
              "\n",
              "    .dataframe thead tr th {\n",
              "        text-align: left;\n",
              "    }\n",
              "\n",
              "    .dataframe thead tr:last-of-type th {\n",
              "        text-align: right;\n",
              "    }\n",
              "</style>\n",
              "<table border=\"1\" class=\"dataframe\">\n",
              "  <thead>\n",
              "    <tr>\n",
              "      <th></th>\n",
              "      <th>review_id</th>\n",
              "      <th colspan=\"2\" halign=\"left\">date</th>\n",
              "      <th>useful</th>\n",
              "      <th>funny</th>\n",
              "      <th>cool</th>\n",
              "      <th>stars</th>\n",
              "    </tr>\n",
              "    <tr>\n",
              "      <th></th>\n",
              "      <th>count</th>\n",
              "      <th>min</th>\n",
              "      <th>max</th>\n",
              "      <th>sum</th>\n",
              "      <th>sum</th>\n",
              "      <th>sum</th>\n",
              "      <th>mean</th>\n",
              "    </tr>\n",
              "    <tr>\n",
              "      <th>user_id</th>\n",
              "      <th></th>\n",
              "      <th></th>\n",
              "      <th></th>\n",
              "      <th></th>\n",
              "      <th></th>\n",
              "      <th></th>\n",
              "      <th></th>\n",
              "    </tr>\n",
              "  </thead>\n",
              "  <tbody>\n",
              "    <tr>\n",
              "      <th>b'CxDOIDnH8gp9KXzpBHJYXw'</th>\n",
              "      <td>3739</td>\n",
              "      <td>b'2009-11-09'</td>\n",
              "      <td>b'2018-06-27'</td>\n",
              "      <td>12835</td>\n",
              "      <td>5883</td>\n",
              "      <td>7606</td>\n",
              "      <td>3.218775</td>\n",
              "    </tr>\n",
              "    <tr>\n",
              "      <th>b'bLbSNkLggFnqwNNzzq-Ijw'</th>\n",
              "      <td>2229</td>\n",
              "      <td>b'2012-05-20'</td>\n",
              "      <td>b'2018-07-01'</td>\n",
              "      <td>26910</td>\n",
              "      <td>13851</td>\n",
              "      <td>18481</td>\n",
              "      <td>3.274114</td>\n",
              "    </tr>\n",
              "    <tr>\n",
              "      <th>b'PKEzKWv_FktMm2mGPjwd0Q'</th>\n",
              "      <td>1674</td>\n",
              "      <td>b'2008-12-12'</td>\n",
              "      <td>b'2018-07-01'</td>\n",
              "      <td>12804</td>\n",
              "      <td>5259</td>\n",
              "      <td>8724</td>\n",
              "      <td>3.658303</td>\n",
              "    </tr>\n",
              "    <tr>\n",
              "      <th>b'DK57YibC5ShBmqQl97CKog'</th>\n",
              "      <td>1574</td>\n",
              "      <td>b'2006-02-12'</td>\n",
              "      <td>b'2018-07-01'</td>\n",
              "      <td>19096</td>\n",
              "      <td>10150</td>\n",
              "      <td>16319</td>\n",
              "      <td>3.817662</td>\n",
              "    </tr>\n",
              "    <tr>\n",
              "      <th>b'QJI9OSEn6ujRCtrX06vs1w'</th>\n",
              "      <td>1324</td>\n",
              "      <td>b'2007-03-20'</td>\n",
              "      <td>b'2016-05-01'</td>\n",
              "      <td>8791</td>\n",
              "      <td>4118</td>\n",
              "      <td>6159</td>\n",
              "      <td>3.621601</td>\n",
              "    </tr>\n",
              "    <tr>\n",
              "      <th>b'd_TBs6J3twMy9GChqUEXkg'</th>\n",
              "      <td>1245</td>\n",
              "      <td>b'2010-12-27'</td>\n",
              "      <td>b'2018-05-29'</td>\n",
              "      <td>3149</td>\n",
              "      <td>1443</td>\n",
              "      <td>1902</td>\n",
              "      <td>3.478715</td>\n",
              "    </tr>\n",
              "    <tr>\n",
              "      <th>b'hWDybu_KvYLSdEFzGrniTw'</th>\n",
              "      <td>1220</td>\n",
              "      <td>b'2009-03-08'</td>\n",
              "      <td>b'2018-06-11'</td>\n",
              "      <td>8170</td>\n",
              "      <td>5459</td>\n",
              "      <td>6517</td>\n",
              "      <td>3.650000</td>\n",
              "    </tr>\n",
              "    <tr>\n",
              "      <th>b'ELcQDlf69kb-ihJfxZyL0A'</th>\n",
              "      <td>1204</td>\n",
              "      <td>b'2011-04-10'</td>\n",
              "      <td>b'2018-06-29'</td>\n",
              "      <td>2243</td>\n",
              "      <td>1352</td>\n",
              "      <td>1058</td>\n",
              "      <td>2.989203</td>\n",
              "    </tr>\n",
              "    <tr>\n",
              "      <th>b'cMEtAiW60I5wE_vLfTxoJQ'</th>\n",
              "      <td>1201</td>\n",
              "      <td>b'2009-06-12'</td>\n",
              "      <td>b'2018-06-26'</td>\n",
              "      <td>2246</td>\n",
              "      <td>967</td>\n",
              "      <td>1761</td>\n",
              "      <td>4.081599</td>\n",
              "    </tr>\n",
              "    <tr>\n",
              "      <th>b'YRcaNlwQ6XXPFDXWtuMGdA'</th>\n",
              "      <td>1195</td>\n",
              "      <td>b'2009-06-16'</td>\n",
              "      <td>b'2018-05-05'</td>\n",
              "      <td>2630</td>\n",
              "      <td>1088</td>\n",
              "      <td>1262</td>\n",
              "      <td>3.395816</td>\n",
              "    </tr>\n",
              "  </tbody>\n",
              "</table>\n",
              "</div>"
            ],
            "text/plain": [
              "                          review_id           date                useful  \\\n",
              "                              count            min            max    sum   \n",
              "user_id                                                                    \n",
              "b'CxDOIDnH8gp9KXzpBHJYXw'      3739  b'2009-11-09'  b'2018-06-27'  12835   \n",
              "b'bLbSNkLggFnqwNNzzq-Ijw'      2229  b'2012-05-20'  b'2018-07-01'  26910   \n",
              "b'PKEzKWv_FktMm2mGPjwd0Q'      1674  b'2008-12-12'  b'2018-07-01'  12804   \n",
              "b'DK57YibC5ShBmqQl97CKog'      1574  b'2006-02-12'  b'2018-07-01'  19096   \n",
              "b'QJI9OSEn6ujRCtrX06vs1w'      1324  b'2007-03-20'  b'2016-05-01'   8791   \n",
              "b'd_TBs6J3twMy9GChqUEXkg'      1245  b'2010-12-27'  b'2018-05-29'   3149   \n",
              "b'hWDybu_KvYLSdEFzGrniTw'      1220  b'2009-03-08'  b'2018-06-11'   8170   \n",
              "b'ELcQDlf69kb-ihJfxZyL0A'      1204  b'2011-04-10'  b'2018-06-29'   2243   \n",
              "b'cMEtAiW60I5wE_vLfTxoJQ'      1201  b'2009-06-12'  b'2018-06-26'   2246   \n",
              "b'YRcaNlwQ6XXPFDXWtuMGdA'      1195  b'2009-06-16'  b'2018-05-05'   2630   \n",
              "\n",
              "                           funny   cool     stars  \n",
              "                             sum    sum      mean  \n",
              "user_id                                            \n",
              "b'CxDOIDnH8gp9KXzpBHJYXw'   5883   7606  3.218775  \n",
              "b'bLbSNkLggFnqwNNzzq-Ijw'  13851  18481  3.274114  \n",
              "b'PKEzKWv_FktMm2mGPjwd0Q'   5259   8724  3.658303  \n",
              "b'DK57YibC5ShBmqQl97CKog'  10150  16319  3.817662  \n",
              "b'QJI9OSEn6ujRCtrX06vs1w'   4118   6159  3.621601  \n",
              "b'd_TBs6J3twMy9GChqUEXkg'   1443   1902  3.478715  \n",
              "b'hWDybu_KvYLSdEFzGrniTw'   5459   6517  3.650000  \n",
              "b'ELcQDlf69kb-ihJfxZyL0A'   1352   1058  2.989203  \n",
              "b'cMEtAiW60I5wE_vLfTxoJQ'    967   1761  4.081599  \n",
              "b'YRcaNlwQ6XXPFDXWtuMGdA'   1088   1262  3.395816  "
            ]
          },
          "metadata": {
            "tags": []
          },
          "execution_count": 9
        }
      ]
    },
    {
      "metadata": {
        "id": "89aQlboDIz6o",
        "colab_type": "code",
        "colab": {}
      },
      "cell_type": "code",
      "source": [
        "#Stalking the top user:\n",
        "top_user_reviews=reviews[reviews['user_id']=='CxDOIDnH8gp9KXzpBHJYXw']\n",
        "# Get locations of the places he/she has reviewed\n",
        "top_user_locs=pd.merge(top_user_reviews,business,on='business_id')\n",
        "# UNique list of dates from the user's reviews\n",
        "date_list=list(top_user_locs['date'].unique())\n",
        "#rearranging data to suit the format needed for folium\n",
        "data=[]\n",
        "for date in date_list:\n",
        "    subset=top_user_locs[top_user_locs['date']==date]\n",
        "    df=subset[['latitude','longitude','date']]\n",
        "    data.append(subset[['latitude','longitude']].values.tolist())"
      ],
      "execution_count": 0,
      "outputs": []
    },
    {
      "metadata": {
        "id": "6e0ACwuGO50s",
        "colab_type": "code",
        "outputId": "2d2a5e52-b0bb-4c77-8091-68ec53742415",
        "colab": {
          "base_uri": "https://localhost:8080/",
          "height": 663
        }
      },
      "cell_type": "code",
      "source": [
        "#initialize at ontario,Canada (the location our top user is from)\n",
        "lat = 43.860397\n",
        "lon = -79.303184\n",
        "zoom_start=9\n",
        "print(\"                     Stalking the top User    \")\n",
        "# basic map\n",
        "m = folium.Map(location=[lat, lon], tiles=\"Cartodb Positron\", zoom_start=zoom_start)\n",
        "\n",
        "hm = plugins.HeatMapWithTime(data,max_opacity=0.3,auto_play=True,display_index=True)\n",
        "hm.add_to(m)\n",
        "m"
      ],
      "execution_count": 0,
      "outputs": [
        {
          "output_type": "stream",
          "text": [
            "                     Stalking the top User    \n"
          ],
          "name": "stdout"
        },
        {
          "output_type": "execute_result",
          "data": {
            "text/html": [
              "<div style=\"width:100%;\"><div style=\"position:relative;width:100%;height:0;padding-bottom:60%;\"><iframe src=\"data:text/html;charset=utf-8;base64,PCFET0NUWVBFIGh0bWw+CjxoZWFkPiAgICAKICAgIDxtZXRhIGh0dHAtZXF1aXY9ImNvbnRlbnQtdHlwZSIgY29udGVudD0idGV4dC9odG1sOyBjaGFyc2V0PVVURi04IiAvPgogICAgPHNjcmlwdD5MX1BSRUZFUl9DQU5WQVM9ZmFsc2U7IExfTk9fVE9VQ0g9ZmFsc2U7IExfRElTQUJMRV8zRD1mYWxzZTs8L3NjcmlwdD4KICAgIDxzY3JpcHQgc3JjPSJodHRwczovL2Nkbi5qc2RlbGl2ci5uZXQvbnBtL2xlYWZsZXRAMS4yLjAvZGlzdC9sZWFmbGV0LmpzIj48L3NjcmlwdD4KICAgIDxzY3JpcHQgc3JjPSJodHRwczovL2FqYXguZ29vZ2xlYXBpcy5jb20vYWpheC9saWJzL2pxdWVyeS8xLjExLjEvanF1ZXJ5Lm1pbi5qcyI+PC9zY3JpcHQ+CiAgICA8c2NyaXB0IHNyYz0iaHR0cHM6Ly9tYXhjZG4uYm9vdHN0cmFwY2RuLmNvbS9ib290c3RyYXAvMy4yLjAvanMvYm9vdHN0cmFwLm1pbi5qcyI+PC9zY3JpcHQ+CiAgICA8c2NyaXB0IHNyYz0iaHR0cHM6Ly9jZG5qcy5jbG91ZGZsYXJlLmNvbS9hamF4L2xpYnMvTGVhZmxldC5hd2Vzb21lLW1hcmtlcnMvMi4wLjIvbGVhZmxldC5hd2Vzb21lLW1hcmtlcnMuanMiPjwvc2NyaXB0PgogICAgPGxpbmsgcmVsPSJzdHlsZXNoZWV0IiBocmVmPSJodHRwczovL2Nkbi5qc2RlbGl2ci5uZXQvbnBtL2xlYWZsZXRAMS4yLjAvZGlzdC9sZWFmbGV0LmNzcyIvPgogICAgPGxpbmsgcmVsPSJzdHlsZXNoZWV0IiBocmVmPSJodHRwczovL21heGNkbi5ib290c3RyYXBjZG4uY29tL2Jvb3RzdHJhcC8zLjIuMC9jc3MvYm9vdHN0cmFwLm1pbi5jc3MiLz4KICAgIDxsaW5rIHJlbD0ic3R5bGVzaGVldCIgaHJlZj0iaHR0cHM6Ly9tYXhjZG4uYm9vdHN0cmFwY2RuLmNvbS9ib290c3RyYXAvMy4yLjAvY3NzL2Jvb3RzdHJhcC10aGVtZS5taW4uY3NzIi8+CiAgICA8bGluayByZWw9InN0eWxlc2hlZXQiIGhyZWY9Imh0dHBzOi8vbWF4Y2RuLmJvb3RzdHJhcGNkbi5jb20vZm9udC1hd2Vzb21lLzQuNi4zL2Nzcy9mb250LWF3ZXNvbWUubWluLmNzcyIvPgogICAgPGxpbmsgcmVsPSJzdHlsZXNoZWV0IiBocmVmPSJodHRwczovL2NkbmpzLmNsb3VkZmxhcmUuY29tL2FqYXgvbGlicy9MZWFmbGV0LmF3ZXNvbWUtbWFya2Vycy8yLjAuMi9sZWFmbGV0LmF3ZXNvbWUtbWFya2Vycy5jc3MiLz4KICAgIDxsaW5rIHJlbD0ic3R5bGVzaGVldCIgaHJlZj0iaHR0cHM6Ly9yYXdnaXQuY29tL3B5dGhvbi12aXN1YWxpemF0aW9uL2ZvbGl1bS9tYXN0ZXIvZm9saXVtL3RlbXBsYXRlcy9sZWFmbGV0LmF3ZXNvbWUucm90YXRlLmNzcyIvPgogICAgPHN0eWxlPmh0bWwsIGJvZHkge3dpZHRoOiAxMDAlO2hlaWdodDogMTAwJTttYXJnaW46IDA7cGFkZGluZzogMDt9PC9zdHlsZT4KICAgIDxzdHlsZT4jbWFwIHtwb3NpdGlvbjphYnNvbHV0ZTt0b3A6MDtib3R0b206MDtyaWdodDowO2xlZnQ6MDt9PC9zdHlsZT4KICAgIAogICAgPHN0eWxlPiNtYXBfMjVlMjFhZDE2MmQxNGZiOWFlNDBmYWYzNzhlYzNiNjcgewogICAgICAgIHBvc2l0aW9uOiByZWxhdGl2ZTsKICAgICAgICB3aWR0aDogMTAwLjAlOwogICAgICAgIGhlaWdodDogMTAwLjAlOwogICAgICAgIGxlZnQ6IDAuMCU7CiAgICAgICAgdG9wOiAwLjAlOwogICAgICAgIH0KICAgIDwvc3R5bGU+CiAgICA8c2NyaXB0IHNyYz0iaHR0cHM6Ly9yYXdnaXQuY29tL3NvY2liL0xlYWZsZXQuVGltZURpbWVuc2lvbi9tYXN0ZXIvZGlzdC9sZWFmbGV0LnRpbWVkaW1lbnNpb24ubWluLmpzIj48L3NjcmlwdD4KICAgIDxzY3JpcHQgc3JjPSJodHRwczovL3Jhd2dpdC5jb20vcHl0aG9uLXZpc3VhbGl6YXRpb24vZm9saXVtL21hc3Rlci9mb2xpdW0vdGVtcGxhdGVzL3BhN19obS5taW4uanMiPjwvc2NyaXB0PgogICAgPHNjcmlwdCBzcmM9Imh0dHBzOi8vcmF3Z2l0LmNvbS9wYTcvaGVhdG1hcC5qcy9kZXZlbG9wL3BsdWdpbnMvbGVhZmxldC1oZWF0bWFwL2xlYWZsZXQtaGVhdG1hcC5qcyI+PC9zY3JpcHQ+CiAgICA8bGluayByZWw9InN0eWxlc2hlZXQiIGhyZWY9Imh0dHA6Ly9hcHBzLnNvY2liLmVzL0xlYWZsZXQuVGltZURpbWVuc2lvbi9kaXN0L2xlYWZsZXQudGltZWRpbWVuc2lvbi5jb250cm9sLm1pbi5jc3MiLz4KICAgIAogICAgICAgICAgICA8c2NyaXB0PgogICAgICAgICAgICAgICAgdmFyIFRESGVhdG1hcCA9IEwuVGltZURpbWVuc2lvbi5MYXllci5leHRlbmQoewoKICAgICAgICAgICAgaW5pdGlhbGl6ZTogZnVuY3Rpb24oZGF0YSwgb3B0aW9ucykgewogICAgICAgICAgICAgICAgdmFyIGhlYXRtYXBDZmcgPSB7CiAgICAgICAgICAgICAgICAgICAgcmFkaXVzOiAxNSwKICAgICAgICAgICAgICAgICAgICBtYXhPcGFjaXR5OiAxLiwKICAgICAgICAgICAgICAgICAgICBzY2FsZVJhZGl1czogZmFsc2UsCiAgICAgICAgICAgICAgICAgICAgdXNlTG9jYWxFeHRyZW1hOiBmYWxzZSwKICAgICAgICAgICAgICAgICAgICBsYXRGaWVsZDogJ2xhdCcsCiAgICAgICAgICAgICAgICAgICAgbG5nRmllbGQ6ICdsbmcnLAogICAgICAgICAgICAgICAgICAgIHZhbHVlRmllbGQ6ICdjb3VudCcsCiAgICAgICAgICAgICAgICAgICAgZGVmYXVsdFdlaWdodCA6IDEsCiAgICAgICAgICAgICAgICB9OwogICAgICAgICAgICAgICAgaGVhdG1hcENmZyA9ICQuZXh0ZW5kKHt9LCBoZWF0bWFwQ2ZnLCBvcHRpb25zLmhlYXRtYXBPcHRpb25zIHx8IHt9KTsKICAgICAgICAgICAgICAgIHZhciBsYXllciA9IG5ldyBIZWF0bWFwT3ZlcmxheShoZWF0bWFwQ2ZnKTsKICAgICAgICAgICAgICAgIEwuVGltZURpbWVuc2lvbi5MYXllci5wcm90b3R5cGUuaW5pdGlhbGl6ZS5jYWxsKHRoaXMsIGxheWVyLCBvcHRpb25zKTsKICAgICAgICAgICAgICAgIHRoaXMuX2N1cnJlbnRMb2FkZWRUaW1lID0gMDsKICAgICAgICAgICAgICAgIHRoaXMuX2N1cnJlbnRUaW1lRGF0YSA9IHsKICAgICAgICAgICAgICAgICAgICBkYXRhOiBbXQogICAgICAgICAgICAgICAgICAgIH07CiAgICAgICAgICAgICAgICB0aGlzLmRhdGE9IGRhdGE7CiAgICAgICAgICAgICAgICB0aGlzLmRlZmF1bHRXZWlnaHQgPSBoZWF0bWFwQ2ZnLmRlZmF1bHRXZWlnaHQgfHwgMTsKICAgICAgICAgICAgfSwKICAgICAgICAgICAgb25BZGQ6IGZ1bmN0aW9uKG1hcCkgewogICAgICAgICAgICAgICAgTC5UaW1lRGltZW5zaW9uLkxheWVyLnByb3RvdHlwZS5vbkFkZC5jYWxsKHRoaXMsIG1hcCk7CiAgICAgICAgICAgICAgICBtYXAuYWRkTGF5ZXIodGhpcy5fYmFzZUxheWVyKTsKICAgICAgICAgICAgICAgIGlmICh0aGlzLl90aW1lRGltZW5zaW9uKSB7CiAgICAgICAgICAgICAgICAgICAgdGhpcy5fZ2V0RGF0YUZvclRpbWUodGhpcy5fdGltZURpbWVuc2lvbi5nZXRDdXJyZW50VGltZSgpKTsKICAgICAgICAgICAgICAgIH0KICAgICAgICAgICAgfSwKICAgICAgICAgICAgX29uTmV3VGltZUxvYWRpbmc6IGZ1bmN0aW9uKGV2KSB7CiAgICAgICAgICAgICAgICB0aGlzLl9nZXREYXRhRm9yVGltZShldi50aW1lKTsKICAgICAgICAgICAgICAgIHJldHVybjsKICAgICAgICAgICAgfSwKICAgICAgICAgICAgaXNSZWFkeTogZnVuY3Rpb24odGltZSkgewogICAgICAgICAgICAgICAgcmV0dXJuICh0aGlzLl9jdXJyZW50TG9hZGVkVGltZSA9PSB0aW1lKTsKICAgICAgICAgICAgfSwKICAgICAgICAgICAgX3VwZGF0ZTogZnVuY3Rpb24oKSB7CiAgICAgICAgICAgICAgICB0aGlzLl9iYXNlTGF5ZXIuc2V0RGF0YSh0aGlzLl9jdXJyZW50VGltZURhdGEpOwogICAgICAgICAgICAgICAgcmV0dXJuIHRydWU7CiAgICAgICAgICAgIH0sCiAgICAgICAgICAgIF9nZXREYXRhRm9yVGltZTogZnVuY3Rpb24odGltZSkgewogICAgICAgICAgICAgICAgICAgIGRlbGV0ZSB0aGlzLl9jdXJyZW50VGltZURhdGEuZGF0YTsKICAgICAgICAgICAgICAgICAgICB0aGlzLl9jdXJyZW50VGltZURhdGEuZGF0YSA9IFtdOwogICAgICAgICAgICAgICAgICAgIHZhciBkYXRhID0gdGhpcy5kYXRhW3RpbWUtMV07CiAgICAgICAgICAgICAgICAgICAgZm9yICh2YXIgaSA9IDA7IGkgPCBkYXRhLmxlbmd0aDsgaSsrKSB7CiAgICAgICAgICAgICAgICAgICAgICAgIHRoaXMuX2N1cnJlbnRUaW1lRGF0YS5kYXRhLnB1c2goewogICAgICAgICAgICAgICAgICAgICAgICAgICAgICAgIGxhdDogZGF0YVtpXVswXSwKICAgICAgICAgICAgICAgICAgICAgICAgICAgICAgICBsbmc6IGRhdGFbaV1bMV0sCiAgICAgICAgICAgICAgICAgICAgICAgICAgICAgICAgY291bnQ6IGRhdGFbaV0ubGVuZ3RoPjIgPyBkYXRhW2ldWzJdIDogdGhpcy5kZWZhdWx0V2VpZ2h0CiAgICAgICAgICAgICAgICAgICAgICAgICAgICB9KTsKICAgICAgICAgICAgICAgICAgICAgICAgfQogICAgICAgICAgICAgICAgICAgIHRoaXMuX2N1cnJlbnRMb2FkZWRUaW1lID0gdGltZTsKICAgICAgICAgICAgICAgICAgICBpZiAodGhpcy5fdGltZURpbWVuc2lvbiAmJiB0aW1lID09IHRoaXMuX3RpbWVEaW1lbnNpb24uZ2V0Q3VycmVudFRpbWUoKSAmJiAhdGhpcy5fdGltZURpbWVuc2lvbi5pc0xvYWRpbmcoKSkgewogICAgICAgICAgICAgICAgICAgICAgICB0aGlzLl91cGRhdGUoKTsKICAgICAgICAgICAgICAgICAgICB9CiAgICAgICAgICAgICAgICAgICAgdGhpcy5maXJlKCd0aW1lbG9hZCcsIHsKICAgICAgICAgICAgICAgICAgICAgICAgdGltZTogdGltZQogICAgICAgICAgICAgICAgICAgIH0pOwogICAgICAgICAgICAgICAgfQogICAgICAgIH0pOwoKICAgICAgICBMLkNvbnRyb2wuVGltZURpbWVuc2lvbkN1c3RvbSA9IEwuQ29udHJvbC5UaW1lRGltZW5zaW9uLmV4dGVuZCh7CiAgICAgICAgICAgIGluaXRpYWxpemU6IGZ1bmN0aW9uKGluZGV4LCBvcHRpb25zKSB7CiAgICAgICAgICAgICAgICB2YXIgcGxheWVyT3B0aW9ucyA9IHsKICAgICAgICAgICAgICAgICAgICBidWZmZXI6IDEsCiAgICAgICAgICAgICAgICAgICAgbWluQnVmZmVyUmVhZHk6IC0xCiAgICAgICAgICAgICAgICAgICAgfTsKICAgICAgICAgICAgICAgIG9wdGlvbnMucGxheWVyT3B0aW9ucyA9ICQuZXh0ZW5kKHt9LCBwbGF5ZXJPcHRpb25zLCBvcHRpb25zLnBsYXllck9wdGlvbnMgfHwge30pOwogICAgICAgICAgICAgICAgTC5Db250cm9sLlRpbWVEaW1lbnNpb24ucHJvdG90eXBlLmluaXRpYWxpemUuY2FsbCh0aGlzLCBvcHRpb25zKTsKICAgICAgICAgICAgICAgIHRoaXMuaW5kZXggPSBpbmRleDsKICAgICAgICAgICAgICAgIH0sCiAgICAgICAgICAgIF9nZXREaXNwbGF5RGF0ZUZvcm1hdDogZnVuY3Rpb24oZGF0ZSl7CiAgICAgICAgICAgICAgICByZXR1cm4gdGhpcy5pbmRleFtkYXRlLmdldFRpbWUoKS0xXTsKICAgICAgICAgICAgICAgIH0KICAgICAgICAgICAgfSk7CiAgICAgICAgICAgIDwvc2NyaXB0PgogICAgICAgICAgICAgICAgCjwvaGVhZD4KPGJvZHk+ICAgIAogICAgCiAgICA8ZGl2IGNsYXNzPSJmb2xpdW0tbWFwIiBpZD0ibWFwXzI1ZTIxYWQxNjJkMTRmYjlhZTQwZmFmMzc4ZWMzYjY3IiA+PC9kaXY+CjwvYm9keT4KPHNjcmlwdD4gICAgCiAgICAKICAgIAogICAgICAgIHZhciBib3VuZHMgPSBudWxsOwogICAgCgogICAgdmFyIG1hcF8yNWUyMWFkMTYyZDE0ZmI5YWU0MGZhZjM3OGVjM2I2NyA9IEwubWFwKAogICAgICAgICdtYXBfMjVlMjFhZDE2MmQxNGZiOWFlNDBmYWYzNzhlYzNiNjcnLCB7CiAgICAgICAgY2VudGVyOiBbNDMuODYwMzk3LCAtNzkuMzAzMTg0XSwKICAgICAgICB6b29tOiA5LAogICAgICAgIG1heEJvdW5kczogYm91bmRzLAogICAgICAgIGxheWVyczogW10sCiAgICAgICAgd29ybGRDb3B5SnVtcDogZmFsc2UsCiAgICAgICAgY3JzOiBMLkNSUy5FUFNHMzg1NywKICAgICAgICB6b29tQ29udHJvbDogdHJ1ZSwKICAgICAgICB9KTsKCiAgICAKICAgIAogICAgdmFyIHRpbGVfbGF5ZXJfOTBmNjhjMzU3YjI4NGY1N2FmOTczODhiZWRmOTNiYzggPSBMLnRpbGVMYXllcigKICAgICAgICAnaHR0cHM6Ly9jYXJ0b2RiLWJhc2VtYXBzLXtzfS5nbG9iYWwuc3NsLmZhc3RseS5uZXQvbGlnaHRfYWxsL3t6fS97eH0ve3l9LnBuZycsCiAgICAgICAgewogICAgICAgICJhdHRyaWJ1dGlvbiI6IG51bGwsCiAgICAgICAgImRldGVjdFJldGluYSI6IGZhbHNlLAogICAgICAgICJtYXhOYXRpdmVab29tIjogMTgsCiAgICAgICAgIm1heFpvb20iOiAxOCwKICAgICAgICAibWluWm9vbSI6IDAsCiAgICAgICAgIm5vV3JhcCI6IGZhbHNlLAogICAgICAgICJzdWJkb21haW5zIjogImFiYyIKfSkuYWRkVG8obWFwXzI1ZTIxYWQxNjJkMTRmYjlhZTQwZmFmMzc4ZWMzYjY3KTsKICAgIAoKICAgICAgICAgICAgdmFyIHRpbWVzID0gW107CgogICAgICAgICAgICBtYXBfMjVlMjFhZDE2MmQxNGZiOWFlNDBmYWYzNzhlYzNiNjcudGltZURpbWVuc2lvbiA9IEwudGltZURpbWVuc2lvbigKICAgICAgICAgICAgICAgIHt0aW1lcyA6IHRpbWVzLCBjdXJyZW50VGltZTogbmV3IERhdGUoMSl9CiAgICAgICAgICAgICk7CgogICAgICAgICAgICB2YXIgaGVhdF9tYXBfMjZjMjdlYjQzYWEwNGQ2NTkwYmQxMjFlZDk0N2EwOWFDb250cm9sID0gbmV3IEwuQ29udHJvbC5UaW1lRGltZW5zaW9uQ3VzdG9tKFtdLCB7CiAgICAgICAgICAgICAgICBhdXRvUGxheTogdHJ1ZSwKICAgICAgICAgICAgICAgIGJhY2t3YXJkQnV0dG9uOiB0cnVlLAogICAgICAgICAgICAgICAgZGlzcGxheURhdGU6IHRydWUsCiAgICAgICAgICAgICAgICBmb3J3YXJkQnV0dG9uOiB0cnVlLAogICAgICAgICAgICAgICAgbGltaXRNaW5pbXVtUmFuZ2U6IDUsCiAgICAgICAgICAgICAgICBsaW1pdFNsaWRlcnM6IHRydWUsCiAgICAgICAgICAgICAgICBsb29wQnV0dG9uOiB0cnVlLAogICAgICAgICAgICAgICAgbWF4U3BlZWQ6IDEwLAogICAgICAgICAgICAgICAgbWluU3BlZWQ6IDAuMSwKICAgICAgICAgICAgICAgIHBsYXlCdXR0b246IHRydWUsCiAgICAgICAgICAgICAgICBwbGF5UmV2ZXJzZUJ1dHRvbjogdHJ1ZSwKICAgICAgICAgICAgICAgIHBvc2l0aW9uOiAiYm90dG9tbGVmdCIsCiAgICAgICAgICAgICAgICBzcGVlZFNsaWRlcjogdHJ1ZSwKICAgICAgICAgICAgICAgIHNwZWVkU3RlcDogMC4xLAogICAgICAgICAgICAgICAgc3R5bGVOUzogImxlYWZsZXQtY29udHJvbC10aW1lY29udHJvbCIsCiAgICAgICAgICAgICAgICB0aW1lU2xpZGVyOiB0cnVlLAogICAgICAgICAgICAgICAgdGltZVNsaWRlckRyYXBVcGRhdGU6IGZhbHNlLAogICAgICAgICAgICAgICAgdGltZVN0ZXBzOiAxCiAgICAgICAgICAgICAgICB9KQogICAgICAgICAgICAgICAgLmFkZFRvKG1hcF8yNWUyMWFkMTYyZDE0ZmI5YWU0MGZhZjM3OGVjM2I2Nyk7CgogICAgICAgICAgICAgICAgdmFyIGhlYXRfbWFwXzI2YzI3ZWI0M2FhMDRkNjU5MGJkMTIxZWQ5NDdhMDlhID0gbmV3IFRESGVhdG1hcChbXSwKICAgICAgICAgICAgICAgIHtoZWF0bWFwT3B0aW9uczogewogICAgICAgICAgICAgICAgICAgICAgICByYWRpdXM6IDE1LAogICAgICAgICAgICAgICAgICAgICAgICBtaW5PcGFjaXR5OiAwLAogICAgICAgICAgICAgICAgICAgICAgICBtYXhPcGFjaXR5OiAwLjMsCiAgICAgICAgICAgICAgICAgICAgICAgIHNjYWxlUmFkaXVzOiBmYWxzZSwKICAgICAgICAgICAgICAgICAgICAgICAgdXNlTG9jYWxFeHRyZW1hOiBmYWxzZSwKICAgICAgICAgICAgICAgICAgICAgICAgZGVmYXVsdFdlaWdodDogMSwKICAgICAgICAgICAgICAgICAgICAgICAgCiAgICAgICAgICAgICAgICAgICAgfQogICAgICAgICAgICAgICAgfSkKICAgICAgICAgICAgICAgIC5hZGRUbyhtYXBfMjVlMjFhZDE2MmQxNGZiOWFlNDBmYWYzNzhlYzNiNjcpOwoKICAgICAgICAKPC9zY3JpcHQ+\" style=\"position:absolute;width:100%;height:100%;left:0;top:0;border:none !important;\" allowfullscreen webkitallowfullscreen mozallowfullscreen></iframe></div></div>"
            ],
            "text/plain": [
              "<folium.folium.Map at 0x7f11850b8208>"
            ]
          },
          "metadata": {
            "tags": []
          },
          "execution_count": 31
        }
      ]
    },
    {
      "metadata": {
        "id": "QH5X5Sn6O8zK",
        "colab_type": "code",
        "outputId": "8708a4b2-af08-4d64-c4e6-b37c052c9193",
        "colab": {
          "base_uri": "https://localhost:8080/",
          "height": 315
        }
      },
      "cell_type": "code",
      "source": [
        "!pip install folium"
      ],
      "execution_count": 0,
      "outputs": [
        {
          "output_type": "stream",
          "text": [
            "Collecting folium\n",
            "\u001b[?25l  Downloading https://files.pythonhosted.org/packages/88/89/8186c3441eb2a224d2896d9a8db6ded20ddd225f109e6144494a9893a0c1/folium-0.6.0-py3-none-any.whl (79kB)\n",
            "\u001b[K    100% |████████████████████████████████| 81kB 2.5MB/s \n",
            "\u001b[?25hCollecting branca>=0.3.0 (from folium)\n",
            "  Downloading https://files.pythonhosted.org/packages/63/36/1c93318e9653f4e414a2e0c3b98fc898b4970e939afeedeee6075dd3b703/branca-0.3.1-py3-none-any.whl\n",
            "Requirement already satisfied: numpy in /usr/local/lib/python3.6/dist-packages (from folium) (1.14.6)\n",
            "Requirement already satisfied: jinja2 in /usr/local/lib/python3.6/dist-packages (from folium) (2.10)\n",
            "Requirement already satisfied: requests in /usr/local/lib/python3.6/dist-packages (from folium) (2.18.4)\n",
            "Requirement already satisfied: six in /usr/local/lib/python3.6/dist-packages (from folium) (1.11.0)\n",
            "Requirement already satisfied: MarkupSafe>=0.23 in /usr/local/lib/python3.6/dist-packages (from jinja2->folium) (1.1.0)\n",
            "Requirement already satisfied: chardet<3.1.0,>=3.0.2 in /usr/local/lib/python3.6/dist-packages (from requests->folium) (3.0.4)\n",
            "Requirement already satisfied: certifi>=2017.4.17 in /usr/local/lib/python3.6/dist-packages (from requests->folium) (2018.10.15)\n",
            "Requirement already satisfied: idna<2.7,>=2.5 in /usr/local/lib/python3.6/dist-packages (from requests->folium) (2.6)\n",
            "Requirement already satisfied: urllib3<1.23,>=1.21.1 in /usr/local/lib/python3.6/dist-packages (from requests->folium) (1.22)\n",
            "Installing collected packages: branca, folium\n",
            "Successfully installed branca-0.3.1 folium-0.6.0\n"
          ],
          "name": "stdout"
        }
      ]
    },
    {
      "metadata": {
        "id": "0aDdt3mUXU5N",
        "colab_type": "code",
        "outputId": "3f9cf8ec-4b14-4d59-d532-4a8ea42fee96",
        "colab": {
          "base_uri": "https://localhost:8080/",
          "height": 713
        }
      },
      "cell_type": "code",
      "source": [
        "# Cap max reviews to 30 for better visuals\n",
        "user_agg[('review_id','count')].loc[user_agg[('review_id','count')]>30] = 30\n",
        "plt.figure(figsize=(12,5))\n",
        "plt.suptitle(\"User Deep dive\",fontsize=20)\n",
        "gridspec.GridSpec(1,2)\n",
        "plt.subplot2grid((1,2),(0,0))\n",
        "#Cumulative Distribution\n",
        "ax=sns.kdeplot(user_agg[('review_id','count')],shade=True,color='r')\n",
        "plt.title(\"How many reviews does an average user give?\",fontsize=15)\n",
        "plt.xlabel('# of reviews given', fontsize=12)\n",
        "plt.ylabel('# of users', fontsize=12)\n",
        "\n",
        "#Cumulative Distribution\n",
        "plt.subplot2grid((1,2),(0,1))\n",
        "sns.distplot(user_agg[('review_id','count')],\n",
        "             kde_kws=dict(cumulative=True))\n",
        "plt.title(\"Cumulative distance of user reviews\",fontsize=15)\n",
        "plt.ylabel('Cumulative percentage of users', fontsize=12)\n",
        "plt.xlabel('# of reviews given', fontsize=12)\n",
        "\n",
        "plt.show()\n",
        "end_time=time.time()\n",
        "start_time=time.time()\n",
        "print(\"Took\",end_time-start_time,\"s\")\n"
      ],
      "execution_count": 0,
      "outputs": [
        {
          "output_type": "stream",
          "text": [
            "/usr/local/lib/python3.6/dist-packages/pandas/core/indexing.py:194: SettingWithCopyWarning:\n",
            "\n",
            "\n",
            "A value is trying to be set on a copy of a slice from a DataFrame\n",
            "\n",
            "See the caveats in the documentation: http://pandas.pydata.org/pandas-docs/stable/indexing.html#indexing-view-versus-copy\n",
            "\n"
          ],
          "name": "stderr"
        },
        {
          "output_type": "display_data",
          "data": {
            "image/png": "[encoded data removed]",
            "text/plain": [
              "<matplotlib.figure.Figure at 0x7f118501fef0>"
            ]
          },
          "metadata": {
            "tags": []
          }
        },
        {
          "output_type": "stream",
          "text": [
            "Took -3.361701965332031e-05 s\n"
          ],
          "name": "stdout"
        },
        {
          "output_type": "error",
          "ename": "NameError",
          "evalue": "ignored",
          "traceback": [
            "\u001b[0;31m---------------------------------------------------------------------------\u001b[0m",
            "\u001b[0;31mNameError\u001b[0m                                 Traceback (most recent call last)",
            "\u001b[0;32m<ipython-input-39-7b64320cd230>\u001b[0m in \u001b[0;36m<module>\u001b[0;34m()\u001b[0m\n\u001b[1;32m     22\u001b[0m \u001b[0mstart_time\u001b[0m\u001b[0;34m=\u001b[0m\u001b[0mtime\u001b[0m\u001b[0;34m.\u001b[0m\u001b[0mtime\u001b[0m\u001b[0;34m(\u001b[0m\u001b[0;34m)\u001b[0m\u001b[0;34m\u001b[0m\u001b[0m\n\u001b[1;32m     23\u001b[0m \u001b[0mprint\u001b[0m\u001b[0;34m(\u001b[0m\u001b[0;34m\"Took\"\u001b[0m\u001b[0;34m,\u001b[0m\u001b[0mend_time\u001b[0m\u001b[0;34m-\u001b[0m\u001b[0mstart_time\u001b[0m\u001b[0;34m,\u001b[0m\u001b[0;34m\"s\"\u001b[0m\u001b[0;34m)\u001b[0m\u001b[0;34m\u001b[0m\u001b[0m\n\u001b[0;32m---> 24\u001b[0;31m \u001b[0mplt\u001b[0m\u001b[0;34m.\u001b[0m\u001b[0mtitle\u001b[0m\u001b[0;34m(\u001b[0m\u001b[0mtitle\u001b[0m\u001b[0;34m)\u001b[0m\u001b[0;34m\u001b[0m\u001b[0m\n\u001b[0m\u001b[1;32m     25\u001b[0m \u001b[0mplt\u001b[0m\u001b[0;34m.\u001b[0m\u001b[0msavefig\u001b[0m\u001b[0;34m(\u001b[0m\u001b[0mfname\u001b[0m\u001b[0;34m=\u001b[0m\u001b[0mtitle\u001b[0m\u001b[0;34m+\u001b[0m\u001b[0;34m'.png'\u001b[0m\u001b[0;34m)\u001b[0m\u001b[0;34m;\u001b[0m\u001b[0;34m\u001b[0m\u001b[0m\n",
            "\u001b[0;31mNameError\u001b[0m: name 'title' is not defined"
          ]
        }
      ]
    },
    {
      "metadata": {
        "id": "fqsH6JNrp0Om",
        "colab_type": "code",
        "colab": {}
      },
      "cell_type": "code",
      "source": [
        "def highlight_max(data, color='yellow'):\n",
        "    '''\n",
        "    highlight the maximum in a Series or DataFrame\n",
        "    '''\n",
        "    attr = 'background-color: {}'.format(color)\n",
        "    if data.ndim == 1:  # Series from .apply(axis=0) or axis=1\n",
        "        is_max = data == data.max()\n",
        "        return [attr if v else '' for v in is_max]\n",
        "    else:  # from .apply(axis=None)\n",
        "        is_max = data == data.max().max()\n",
        "        return pd.DataFrame(np.where(is_max, attr, ''),\n",
        "                            index=data.index, columns=data.columns)"
      ],
      "execution_count": 0,
      "outputs": []
    },
    {
      "metadata": {
        "id": "2RoU0XtSp_nQ",
        "colab_type": "code",
        "outputId": "bc1d5450-1d07-4734-ae50-9345a5298277",
        "colab": {
          "base_uri": "https://localhost:8080/",
          "height": 743
        }
      },
      "cell_type": "code",
      "source": [
        "#checkins exploration\n",
        "df=checkin.groupby(['weekday','hour'])['checkins'].sum()\n",
        "df=df.reset_index()\n",
        "df=df.pivot(index='hour',columns='weekday')[['checkins']]\n",
        "df.columns = df.columns.droplevel()\n",
        "df=df.reset_index()\n",
        "# Workaround for not being able to sort the values by hour\n",
        "df.hour=df.hour.apply(lambda x: str(x).split(':')[0])\n",
        "df.hour=df.hour.astype(int)\n",
        "# Sort the hour column \n",
        "df=df.sort_values('hour')\n",
        "df=df[['hour','Mon', 'Tue','Wed','Thu','Fri','Sat', 'Sun' ]]\n",
        "# df=df.set_index('hour')\n",
        "cm = sns.light_palette(\"orange\", as_cmap=True)\n",
        "#highlight the max of each column\n",
        "df.style.apply(highlight_max, color='darkorange', axis=0)"
      ],
      "execution_count": 0,
      "outputs": [
        {
          "output_type": "error",
          "ename": "KeyError",
          "evalue": "ignored",
          "traceback": [
            "\u001b[0;31m---------------------------------------------------------------------------\u001b[0m",
            "\u001b[0;31mKeyError\u001b[0m                                  Traceback (most recent call last)",
            "\u001b[0;32m<ipython-input-9-cd88dab5c01a>\u001b[0m in \u001b[0;36m<module>\u001b[0;34m()\u001b[0m\n\u001b[0;32m----> 1\u001b[0;31m \u001b[0mdf\u001b[0m\u001b[0;34m=\u001b[0m\u001b[0mcheckin\u001b[0m\u001b[0;34m.\u001b[0m\u001b[0mgroupby\u001b[0m\u001b[0;34m(\u001b[0m\u001b[0;34m[\u001b[0m\u001b[0;34m'weekday'\u001b[0m\u001b[0;34m,\u001b[0m\u001b[0;34m'hour'\u001b[0m\u001b[0;34m]\u001b[0m\u001b[0;34m)\u001b[0m\u001b[0;34m[\u001b[0m\u001b[0;34m'checkins'\u001b[0m\u001b[0;34m]\u001b[0m\u001b[0;34m.\u001b[0m\u001b[0msum\u001b[0m\u001b[0;34m(\u001b[0m\u001b[0;34m)\u001b[0m\u001b[0;34m\u001b[0m\u001b[0;34m\u001b[0m\u001b[0m\n\u001b[0m\u001b[1;32m      2\u001b[0m \u001b[0mdf\u001b[0m\u001b[0;34m=\u001b[0m\u001b[0mdf\u001b[0m\u001b[0;34m.\u001b[0m\u001b[0mreset_index\u001b[0m\u001b[0;34m(\u001b[0m\u001b[0;34m)\u001b[0m\u001b[0;34m\u001b[0m\u001b[0;34m\u001b[0m\u001b[0m\n\u001b[1;32m      3\u001b[0m \u001b[0mdf\u001b[0m\u001b[0;34m=\u001b[0m\u001b[0mdf\u001b[0m\u001b[0;34m.\u001b[0m\u001b[0mpivot\u001b[0m\u001b[0;34m(\u001b[0m\u001b[0mindex\u001b[0m\u001b[0;34m=\u001b[0m\u001b[0;34m'hour'\u001b[0m\u001b[0;34m,\u001b[0m\u001b[0mcolumns\u001b[0m\u001b[0;34m=\u001b[0m\u001b[0;34m'weekday'\u001b[0m\u001b[0;34m)\u001b[0m\u001b[0;34m[\u001b[0m\u001b[0;34m[\u001b[0m\u001b[0;34m'checkins'\u001b[0m\u001b[0;34m]\u001b[0m\u001b[0;34m]\u001b[0m\u001b[0;34m\u001b[0m\u001b[0;34m\u001b[0m\u001b[0m\n\u001b[1;32m      4\u001b[0m \u001b[0mdf\u001b[0m\u001b[0;34m.\u001b[0m\u001b[0mcolumns\u001b[0m \u001b[0;34m=\u001b[0m \u001b[0mdf\u001b[0m\u001b[0;34m.\u001b[0m\u001b[0mcolumns\u001b[0m\u001b[0;34m.\u001b[0m\u001b[0mdroplevel\u001b[0m\u001b[0;34m(\u001b[0m\u001b[0;34m)\u001b[0m\u001b[0;34m\u001b[0m\u001b[0;34m\u001b[0m\u001b[0m\n\u001b[1;32m      5\u001b[0m \u001b[0mdf\u001b[0m\u001b[0;34m=\u001b[0m\u001b[0mdf\u001b[0m\u001b[0;34m.\u001b[0m\u001b[0mreset_index\u001b[0m\u001b[0;34m(\u001b[0m\u001b[0;34m)\u001b[0m\u001b[0;34m\u001b[0m\u001b[0;34m\u001b[0m\u001b[0m\n",
            "\u001b[0;32m/usr/local/lib/python3.6/dist-packages/pandas/core/generic.py\u001b[0m in \u001b[0;36mgroupby\u001b[0;34m(self, by, axis, level, as_index, sort, group_keys, squeeze, **kwargs)\u001b[0m\n\u001b[1;32m   5160\u001b[0m         return groupby(self, by=by, axis=axis, level=level, as_index=as_index,\n\u001b[1;32m   5161\u001b[0m                        \u001b[0msort\u001b[0m\u001b[0;34m=\u001b[0m\u001b[0msort\u001b[0m\u001b[0;34m,\u001b[0m \u001b[0mgroup_keys\u001b[0m\u001b[0;34m=\u001b[0m\u001b[0mgroup_keys\u001b[0m\u001b[0;34m,\u001b[0m \u001b[0msqueeze\u001b[0m\u001b[0;34m=\u001b[0m\u001b[0msqueeze\u001b[0m\u001b[0;34m,\u001b[0m\u001b[0;34m\u001b[0m\u001b[0;34m\u001b[0m\u001b[0m\n\u001b[0;32m-> 5162\u001b[0;31m                        **kwargs)\n\u001b[0m\u001b[1;32m   5163\u001b[0m \u001b[0;34m\u001b[0m\u001b[0m\n\u001b[1;32m   5164\u001b[0m     def asfreq(self, freq, method=None, how=None, normalize=False,\n",
            "\u001b[0;32m/usr/local/lib/python3.6/dist-packages/pandas/core/groupby.py\u001b[0m in \u001b[0;36mgroupby\u001b[0;34m(obj, by, **kwds)\u001b[0m\n\u001b[1;32m   1846\u001b[0m         \u001b[0;32mraise\u001b[0m \u001b[0mTypeError\u001b[0m\u001b[0;34m(\u001b[0m\u001b[0;34m'invalid type: %s'\u001b[0m \u001b[0;34m%\u001b[0m \u001b[0mtype\u001b[0m\u001b[0;34m(\u001b[0m\u001b[0mobj\u001b[0m\u001b[0;34m)\u001b[0m\u001b[0;34m)\u001b[0m\u001b[0;34m\u001b[0m\u001b[0;34m\u001b[0m\u001b[0m\n\u001b[1;32m   1847\u001b[0m \u001b[0;34m\u001b[0m\u001b[0m\n\u001b[0;32m-> 1848\u001b[0;31m     \u001b[0;32mreturn\u001b[0m \u001b[0mklass\u001b[0m\u001b[0;34m(\u001b[0m\u001b[0mobj\u001b[0m\u001b[0;34m,\u001b[0m \u001b[0mby\u001b[0m\u001b[0;34m,\u001b[0m \u001b[0;34m**\u001b[0m\u001b[0mkwds\u001b[0m\u001b[0;34m)\u001b[0m\u001b[0;34m\u001b[0m\u001b[0;34m\u001b[0m\u001b[0m\n\u001b[0m\u001b[1;32m   1849\u001b[0m \u001b[0;34m\u001b[0m\u001b[0m\n\u001b[1;32m   1850\u001b[0m \u001b[0;34m\u001b[0m\u001b[0m\n",
            "\u001b[0;32m/usr/local/lib/python3.6/dist-packages/pandas/core/groupby.py\u001b[0m in \u001b[0;36m__init__\u001b[0;34m(self, obj, keys, axis, level, grouper, exclusions, selection, as_index, sort, group_keys, squeeze, **kwargs)\u001b[0m\n\u001b[1;32m    514\u001b[0m                                                     \u001b[0mlevel\u001b[0m\u001b[0;34m=\u001b[0m\u001b[0mlevel\u001b[0m\u001b[0;34m,\u001b[0m\u001b[0;34m\u001b[0m\u001b[0;34m\u001b[0m\u001b[0m\n\u001b[1;32m    515\u001b[0m                                                     \u001b[0msort\u001b[0m\u001b[0;34m=\u001b[0m\u001b[0msort\u001b[0m\u001b[0;34m,\u001b[0m\u001b[0;34m\u001b[0m\u001b[0;34m\u001b[0m\u001b[0m\n\u001b[0;32m--> 516\u001b[0;31m                                                     mutated=self.mutated)\n\u001b[0m\u001b[1;32m    517\u001b[0m \u001b[0;34m\u001b[0m\u001b[0m\n\u001b[1;32m    518\u001b[0m         \u001b[0mself\u001b[0m\u001b[0;34m.\u001b[0m\u001b[0mobj\u001b[0m \u001b[0;34m=\u001b[0m \u001b[0mobj\u001b[0m\u001b[0;34m\u001b[0m\u001b[0;34m\u001b[0m\u001b[0m\n",
            "\u001b[0;32m/usr/local/lib/python3.6/dist-packages/pandas/core/groupby.py\u001b[0m in \u001b[0;36m_get_grouper\u001b[0;34m(obj, key, axis, level, sort, mutated, validate)\u001b[0m\n\u001b[1;32m   2932\u001b[0m                 \u001b[0min_axis\u001b[0m\u001b[0;34m,\u001b[0m \u001b[0mname\u001b[0m\u001b[0;34m,\u001b[0m \u001b[0mlevel\u001b[0m\u001b[0;34m,\u001b[0m \u001b[0mgpr\u001b[0m \u001b[0;34m=\u001b[0m \u001b[0;32mFalse\u001b[0m\u001b[0;34m,\u001b[0m \u001b[0;32mNone\u001b[0m\u001b[0;34m,\u001b[0m \u001b[0mgpr\u001b[0m\u001b[0;34m,\u001b[0m \u001b[0;32mNone\u001b[0m\u001b[0;34m\u001b[0m\u001b[0;34m\u001b[0m\u001b[0m\n\u001b[1;32m   2933\u001b[0m             \u001b[0;32melse\u001b[0m\u001b[0;34m:\u001b[0m\u001b[0;34m\u001b[0m\u001b[0;34m\u001b[0m\u001b[0m\n\u001b[0;32m-> 2934\u001b[0;31m                 \u001b[0;32mraise\u001b[0m \u001b[0mKeyError\u001b[0m\u001b[0;34m(\u001b[0m\u001b[0mgpr\u001b[0m\u001b[0;34m)\u001b[0m\u001b[0;34m\u001b[0m\u001b[0;34m\u001b[0m\u001b[0m\n\u001b[0m\u001b[1;32m   2935\u001b[0m         \u001b[0;32melif\u001b[0m \u001b[0misinstance\u001b[0m\u001b[0;34m(\u001b[0m\u001b[0mgpr\u001b[0m\u001b[0;34m,\u001b[0m \u001b[0mGrouper\u001b[0m\u001b[0;34m)\u001b[0m \u001b[0;32mand\u001b[0m \u001b[0mgpr\u001b[0m\u001b[0;34m.\u001b[0m\u001b[0mkey\u001b[0m \u001b[0;32mis\u001b[0m \u001b[0;32mnot\u001b[0m \u001b[0;32mNone\u001b[0m\u001b[0;34m:\u001b[0m\u001b[0;34m\u001b[0m\u001b[0;34m\u001b[0m\u001b[0m\n\u001b[1;32m   2936\u001b[0m             \u001b[0;31m# Add key to exclusions\u001b[0m\u001b[0;34m\u001b[0m\u001b[0;34m\u001b[0m\u001b[0;34m\u001b[0m\u001b[0m\n",
            "\u001b[0;31mKeyError\u001b[0m: 'weekday'"
          ]
        }
      ]
    },
    {
      "metadata": {
        "id": "FsyztVXj5P3W",
        "colab_type": "code",
        "outputId": "32f91558-de8d-406c-a9ac-1540489c27cd",
        "colab": {
          "base_uri": "https://localhost:8080/",
          "height": 254
        }
      },
      "cell_type": "code",
      "source": [
        "#https://python-graph-gallery.com/125-small-multiples-for-line-chart/  \n",
        "# Initialize the figure\n",
        "plt.style.use('seaborn-darkgrid')\n",
        "# create a color palette\n",
        "palette = plt.get_cmap('Set1')\n",
        "plt.figure(figsize=(10,10))\n",
        "plt.suptitle(\"Checkins variation across time\",fontsize=20)\n",
        "gridspec.GridSpec(3,3)\n",
        "plt.subplots_adjust(hspace=0.4)\n",
        "\n",
        "# multiple line plot\n",
        "num=0\n",
        "for column in df.drop('hour', axis=1):\n",
        "    num+=1\n",
        "    # Find the right spot on the plot\n",
        "    \n",
        "    if num==7:  # adjustment to fit sunday\n",
        "        plt.subplot2grid((3,3),(2,0),colspan=3)\n",
        "    else:\n",
        "        plt.subplot(3,3, num)\n",
        "    \n",
        "    # plot every groups, but discreet\n",
        "    for v in df.drop('hour', axis=1):\n",
        "        plt.plot(df['hour'], df[v], marker='', color='grey', linewidth=0.6, alpha=0.3)\n",
        "    # Plot the lineplot\n",
        "    plt.plot(df['hour'], df[column], marker='', color=palette(num), linewidth=2.4, alpha=0.9, label=column)\n",
        "    # Same limits for everybody!\n",
        "    plt.xlim(0,24)\n",
        "    plt.ylim(-2,260000)\n",
        "    # Not ticks everywhere\n",
        "    if num in range(4) :\n",
        "        plt.tick_params(labelbottom='off')\n",
        "    if num not in [1,4,7] :\n",
        "        plt.tick_params(labelleft='off')\n",
        "       \n",
        "    # Add title\n",
        "    plt.title(column, loc='left', fontsize=12, fontweight=0, color=palette(num))\n",
        "         \n",
        "    plt.ylabel('# of checkin', fontsize=12)\n",
        "    plt.xlabel('Time of checkins', fontsize=12)"
      ],
      "execution_count": 0,
      "outputs": [
        {
          "output_type": "error",
          "ename": "NameError",
          "evalue": "ignored",
          "traceback": [
            "\u001b[0;31m---------------------------------------------------------------------------\u001b[0m",
            "\u001b[0;31mNameError\u001b[0m                                 Traceback (most recent call last)",
            "\u001b[0;32m<ipython-input-10-091192cd6e1a>\u001b[0m in \u001b[0;36m<module>\u001b[0;34m()\u001b[0m\n\u001b[1;32m      4\u001b[0m \u001b[0mplt\u001b[0m\u001b[0;34m.\u001b[0m\u001b[0mfigure\u001b[0m\u001b[0;34m(\u001b[0m\u001b[0mfigsize\u001b[0m\u001b[0;34m=\u001b[0m\u001b[0;34m(\u001b[0m\u001b[0;36m10\u001b[0m\u001b[0;34m,\u001b[0m\u001b[0;36m10\u001b[0m\u001b[0;34m)\u001b[0m\u001b[0;34m)\u001b[0m\u001b[0;34m\u001b[0m\u001b[0;34m\u001b[0m\u001b[0m\n\u001b[1;32m      5\u001b[0m \u001b[0mplt\u001b[0m\u001b[0;34m.\u001b[0m\u001b[0msuptitle\u001b[0m\u001b[0;34m(\u001b[0m\u001b[0;34m\"Checkins variation across time\"\u001b[0m\u001b[0;34m,\u001b[0m\u001b[0mfontsize\u001b[0m\u001b[0;34m=\u001b[0m\u001b[0;36m20\u001b[0m\u001b[0;34m)\u001b[0m\u001b[0;34m\u001b[0m\u001b[0;34m\u001b[0m\u001b[0m\n\u001b[0;32m----> 6\u001b[0;31m \u001b[0mgridspec\u001b[0m\u001b[0;34m.\u001b[0m\u001b[0mGridSpec\u001b[0m\u001b[0;34m(\u001b[0m\u001b[0;36m3\u001b[0m\u001b[0;34m,\u001b[0m\u001b[0;36m3\u001b[0m\u001b[0;34m)\u001b[0m\u001b[0;34m\u001b[0m\u001b[0;34m\u001b[0m\u001b[0m\n\u001b[0m\u001b[1;32m      7\u001b[0m \u001b[0mplt\u001b[0m\u001b[0;34m.\u001b[0m\u001b[0msubplots_adjust\u001b[0m\u001b[0;34m(\u001b[0m\u001b[0mhspace\u001b[0m\u001b[0;34m=\u001b[0m\u001b[0;36m0.4\u001b[0m\u001b[0;34m)\u001b[0m\u001b[0;34m\u001b[0m\u001b[0;34m\u001b[0m\u001b[0m\n\u001b[1;32m      8\u001b[0m \u001b[0;34m\u001b[0m\u001b[0m\n",
            "\u001b[0;31mNameError\u001b[0m: name 'gridspec' is not defined"
          ]
        },
        {
          "output_type": "display_data",
          "data": {
            "text/plain": [
              "<matplotlib.figure.Figure at 0x7f56412036d8>"
            ]
          },
          "metadata": {
            "tags": []
          }
        }
      ]
    },
    {
      "metadata": {
        "id": "poeJYB4THZpX",
        "colab_type": "code",
        "colab": {}
      },
      "cell_type": "code",
      "source": [
        "\n",
        "\n",
        "nrow = checkin.shape[0]\n",
        "\n",
        "\n"
      ],
      "execution_count": 0,
      "outputs": []
    },
    {
      "metadata": {
        "id": "0dLos9I8E34Y",
        "colab_type": "code",
        "outputId": "b09e493f-2fa8-4ad7-8e91-4d2e65461696",
        "colab": {
          "base_uri": "https://localhost:8080/",
          "height": 5505
        }
      },
      "cell_type": "code",
      "source": [
        "checkin.head\n"
      ],
      "execution_count": 0,
      "outputs": [
        {
          "output_type": "execute_result",
          "data": {
            "text/plain": [
              "<bound method NDFrame.head of         time.Wed-17  time.Wed-2  time.Sun-4  time.Sun-7  time.Mon-12  \\\n",
              "0               1.0         1.0         NaN         NaN          1.0   \n",
              "1               1.0         NaN         NaN         NaN          NaN   \n",
              "2               NaN         NaN         NaN         NaN          1.0   \n",
              "3               NaN         NaN         NaN         NaN          NaN   \n",
              "4               NaN         NaN         NaN         NaN          NaN   \n",
              "5               NaN         NaN         NaN         NaN          NaN   \n",
              "6               NaN         NaN         NaN         NaN          NaN   \n",
              "7               NaN         NaN         NaN         NaN          1.0   \n",
              "8               NaN         NaN         NaN         NaN          NaN   \n",
              "9               NaN         NaN         NaN         NaN          NaN   \n",
              "10              NaN         NaN         NaN         NaN          NaN   \n",
              "11              NaN         NaN         NaN         NaN          NaN   \n",
              "12              1.0         NaN         NaN         NaN          NaN   \n",
              "13              NaN         1.0         NaN         NaN          NaN   \n",
              "14              NaN         NaN         NaN         NaN          NaN   \n",
              "15              NaN         NaN         NaN         NaN          NaN   \n",
              "16              1.0         NaN         NaN         NaN          NaN   \n",
              "17              NaN         1.0         NaN         NaN          NaN   \n",
              "18              1.0         NaN         NaN         NaN          NaN   \n",
              "19              NaN         NaN         NaN         NaN          NaN   \n",
              "20              NaN         NaN         NaN         NaN          NaN   \n",
              "21              NaN         NaN         NaN         NaN          NaN   \n",
              "22              NaN         NaN         NaN         NaN          NaN   \n",
              "23              NaN         NaN         NaN         NaN          NaN   \n",
              "24              NaN         NaN         NaN         NaN          NaN   \n",
              "25              1.0         NaN         NaN         NaN          NaN   \n",
              "26              NaN         NaN         NaN         NaN          NaN   \n",
              "27              NaN         NaN         NaN         NaN          1.0   \n",
              "28              1.0         2.0         1.0         NaN          NaN   \n",
              "29              NaN         NaN         NaN         NaN          NaN   \n",
              "...             ...         ...         ...         ...          ...   \n",
              "157045          NaN         NaN         NaN         NaN          NaN   \n",
              "157046          NaN         NaN         NaN         NaN          NaN   \n",
              "157047          NaN         NaN         NaN         NaN          NaN   \n",
              "157048          NaN         NaN         NaN         NaN          NaN   \n",
              "157049          NaN         NaN         NaN         NaN          NaN   \n",
              "157050          NaN         NaN         1.0         NaN          NaN   \n",
              "157051          NaN         NaN         NaN         NaN          NaN   \n",
              "157052          NaN         1.0         NaN         NaN          NaN   \n",
              "157053          NaN         NaN         NaN         NaN          NaN   \n",
              "157054          NaN         NaN         NaN         NaN          NaN   \n",
              "157055          NaN         NaN         NaN         NaN          NaN   \n",
              "157056          NaN         NaN         NaN         NaN          NaN   \n",
              "157057          NaN         NaN         NaN         NaN          NaN   \n",
              "157058          NaN         NaN         NaN         NaN          NaN   \n",
              "157059          NaN         NaN         NaN         NaN          NaN   \n",
              "157060          NaN         NaN         NaN         NaN          NaN   \n",
              "157061          NaN         NaN         NaN         NaN          NaN   \n",
              "157062          NaN         NaN         NaN         NaN          NaN   \n",
              "157063          NaN         NaN         NaN         NaN          NaN   \n",
              "157064          NaN         NaN         NaN         NaN          NaN   \n",
              "157065          NaN         NaN         NaN         NaN          NaN   \n",
              "157066          NaN         NaN         NaN         NaN          NaN   \n",
              "157067          NaN         NaN         NaN         NaN          NaN   \n",
              "157068          NaN         NaN         NaN         NaN          NaN   \n",
              "157069          NaN         NaN         NaN         NaN          NaN   \n",
              "157070          NaN         NaN         NaN         NaN          NaN   \n",
              "157071          NaN         NaN         NaN         NaN          NaN   \n",
              "157072          NaN         NaN         NaN         NaN          NaN   \n",
              "157073          NaN         NaN         NaN         NaN          NaN   \n",
              "157074          NaN         NaN         NaN         NaN          NaN   \n",
              "\n",
              "        time.Mon-20  time.Tue-16  time.Thu-22  time.Fri-21  time.Sun-9  \\\n",
              "0               1.0          1.0          1.0          4.0         NaN   \n",
              "1               NaN          NaN          NaN          NaN         NaN   \n",
              "2               NaN          NaN          NaN          NaN         NaN   \n",
              "3               1.0          NaN          NaN          NaN         NaN   \n",
              "4               NaN          NaN          NaN          NaN         NaN   \n",
              "5               NaN          NaN          NaN          NaN         NaN   \n",
              "6               NaN          1.0          NaN          NaN         NaN   \n",
              "7               NaN          NaN          1.0          2.0         NaN   \n",
              "8               3.0          NaN          NaN          NaN         NaN   \n",
              "9               NaN          NaN          NaN          NaN         NaN   \n",
              "10              NaN          NaN          NaN          NaN         NaN   \n",
              "11              NaN          NaN          NaN          NaN         NaN   \n",
              "12              NaN          NaN          1.0          NaN         NaN   \n",
              "13              NaN          NaN          1.0          NaN         NaN   \n",
              "14              NaN          NaN          NaN          NaN         NaN   \n",
              "15              NaN          NaN          NaN          NaN         NaN   \n",
              "16              NaN          NaN          NaN          1.0         NaN   \n",
              "17              NaN          NaN          NaN          NaN         NaN   \n",
              "18              NaN          NaN          2.0         10.0         NaN   \n",
              "19              1.0          NaN          NaN          NaN         NaN   \n",
              "20              NaN          NaN          NaN          NaN         NaN   \n",
              "21              NaN          NaN          2.0          1.0         NaN   \n",
              "22              NaN          NaN          NaN          NaN         NaN   \n",
              "23              NaN          NaN          NaN          1.0         NaN   \n",
              "24              NaN          NaN          NaN          NaN         NaN   \n",
              "25              NaN          NaN          NaN          1.0         NaN   \n",
              "26              NaN          NaN          NaN          NaN         NaN   \n",
              "27              NaN          NaN          NaN          NaN         NaN   \n",
              "28              NaN          NaN          1.0          NaN         NaN   \n",
              "29              NaN          NaN          1.0          2.0         NaN   \n",
              "...             ...          ...          ...          ...         ...   \n",
              "157045          NaN          NaN          NaN          NaN         NaN   \n",
              "157046          NaN          NaN          1.0          NaN         NaN   \n",
              "157047          NaN          NaN          NaN          NaN         NaN   \n",
              "157048          NaN          NaN          NaN          NaN         NaN   \n",
              "157049          NaN          NaN          NaN          NaN         NaN   \n",
              "157050          NaN          NaN          NaN          NaN         NaN   \n",
              "157051          NaN          NaN          NaN          NaN         NaN   \n",
              "157052          NaN          NaN          NaN          NaN         NaN   \n",
              "157053          NaN          NaN          NaN          NaN         NaN   \n",
              "157054          2.0          NaN          NaN          NaN         NaN   \n",
              "157055          NaN          NaN          1.0          NaN         NaN   \n",
              "157056          NaN          NaN          NaN          2.0         NaN   \n",
              "157057          NaN          NaN          NaN          NaN         NaN   \n",
              "157058          NaN          NaN          NaN          NaN         NaN   \n",
              "157059          NaN          NaN          NaN          NaN         NaN   \n",
              "157060          NaN          NaN          NaN          NaN         NaN   \n",
              "157061          NaN          NaN          NaN          NaN         NaN   \n",
              "157062          NaN          1.0          NaN          NaN         NaN   \n",
              "157063          NaN          NaN          NaN          NaN         NaN   \n",
              "157064          1.0          NaN          NaN          NaN         NaN   \n",
              "157065          NaN          NaN          NaN          NaN         NaN   \n",
              "157066          NaN          NaN          NaN          NaN         NaN   \n",
              "157067          NaN          NaN          NaN          NaN         NaN   \n",
              "157068          NaN          NaN          NaN          NaN         NaN   \n",
              "157069          NaN          NaN          NaN          NaN         NaN   \n",
              "157070          NaN          NaN          NaN          NaN         NaN   \n",
              "157071          NaN          NaN         12.0          NaN         NaN   \n",
              "157072          NaN          NaN          NaN          NaN         NaN   \n",
              "157073          NaN          NaN          NaN          NaN         NaN   \n",
              "157074          NaN          NaN          NaN          NaN         NaN   \n",
              "\n",
              "           ...       time.Thu-15  time.Thu-23  time.Sun-8  time.Sun-6  \\\n",
              "0          ...               2.0          2.0         NaN         1.0   \n",
              "1          ...               NaN          NaN         NaN         NaN   \n",
              "2          ...               NaN          NaN         NaN         NaN   \n",
              "3          ...               NaN          NaN         NaN         NaN   \n",
              "4          ...               NaN          1.0         NaN         NaN   \n",
              "5          ...               NaN          NaN         NaN         NaN   \n",
              "6          ...               NaN          NaN         NaN         NaN   \n",
              "7          ...               NaN          NaN         NaN         NaN   \n",
              "8          ...               NaN          NaN         NaN         NaN   \n",
              "9          ...               1.0          NaN         NaN         NaN   \n",
              "10         ...               NaN          NaN         NaN         NaN   \n",
              "11         ...               NaN          NaN         NaN         NaN   \n",
              "12         ...               NaN          1.0         NaN         NaN   \n",
              "13         ...               1.0          NaN         NaN         NaN   \n",
              "14         ...               NaN          NaN         NaN         NaN   \n",
              "15         ...               NaN          NaN         NaN         NaN   \n",
              "16         ...               NaN          NaN         NaN         NaN   \n",
              "17         ...               NaN          NaN         NaN         NaN   \n",
              "18         ...               NaN          4.0         NaN         NaN   \n",
              "19         ...               1.0          NaN         NaN         NaN   \n",
              "20         ...               NaN          NaN         NaN         NaN   \n",
              "21         ...               NaN          NaN         NaN         NaN   \n",
              "22         ...               NaN          NaN         NaN         NaN   \n",
              "23         ...               NaN          NaN         NaN         NaN   \n",
              "24         ...               NaN          NaN         NaN         NaN   \n",
              "25         ...               NaN          NaN         NaN         NaN   \n",
              "26         ...               NaN          NaN         NaN         NaN   \n",
              "27         ...               NaN          NaN         NaN         NaN   \n",
              "28         ...               NaN          2.0         NaN         NaN   \n",
              "29         ...               NaN          1.0         NaN         NaN   \n",
              "...        ...               ...          ...         ...         ...   \n",
              "157045     ...               NaN          1.0         NaN         NaN   \n",
              "157046     ...               NaN          NaN         NaN         NaN   \n",
              "157047     ...               NaN          NaN         NaN         NaN   \n",
              "157048     ...               NaN          NaN         NaN         NaN   \n",
              "157049     ...               NaN          NaN         NaN         NaN   \n",
              "157050     ...               NaN          NaN         NaN         NaN   \n",
              "157051     ...               NaN          NaN         NaN         NaN   \n",
              "157052     ...               NaN          NaN         NaN         NaN   \n",
              "157053     ...               NaN          NaN         NaN         NaN   \n",
              "157054     ...               NaN          NaN         NaN         NaN   \n",
              "157055     ...               NaN          NaN         NaN         NaN   \n",
              "157056     ...               NaN          NaN         NaN         NaN   \n",
              "157057     ...               NaN          NaN         NaN         NaN   \n",
              "157058     ...               NaN          NaN         NaN         NaN   \n",
              "157059     ...               NaN          NaN         NaN         NaN   \n",
              "157060     ...               NaN          NaN         NaN         NaN   \n",
              "157061     ...               NaN          NaN         NaN         NaN   \n",
              "157062     ...               NaN          NaN         NaN         NaN   \n",
              "157063     ...               NaN          8.0         NaN         NaN   \n",
              "157064     ...               NaN          NaN         NaN         NaN   \n",
              "157065     ...               NaN          NaN         NaN         NaN   \n",
              "157066     ...               NaN          NaN         NaN         NaN   \n",
              "157067     ...               NaN          NaN         NaN         NaN   \n",
              "157068     ...               NaN          NaN         NaN         NaN   \n",
              "157069     ...               NaN          NaN         NaN         NaN   \n",
              "157070     ...               NaN          NaN         NaN         NaN   \n",
              "157071     ...               NaN          1.0         NaN         NaN   \n",
              "157072     ...               NaN          NaN         NaN         NaN   \n",
              "157073     ...               NaN          NaN         NaN         NaN   \n",
              "157074     ...               NaN          NaN         NaN         NaN   \n",
              "\n",
              "        time.Fri-1  time.Fri-17  time.Wed-19  time.Mon-13  time.Sun-3  \\\n",
              "0              1.0          1.0          1.0          NaN         3.0   \n",
              "1              NaN          NaN          NaN          1.0         NaN   \n",
              "2              NaN          NaN          NaN          NaN         NaN   \n",
              "3              NaN          NaN          NaN          NaN         NaN   \n",
              "4              NaN          NaN          NaN          NaN         NaN   \n",
              "5              NaN          NaN          NaN          NaN         NaN   \n",
              "6              NaN          1.0          1.0          NaN         NaN   \n",
              "7              NaN          NaN          NaN          NaN         NaN   \n",
              "8              1.0          NaN          NaN          NaN         1.0   \n",
              "9              NaN          NaN          NaN          NaN         NaN   \n",
              "10             NaN          NaN          NaN          NaN         NaN   \n",
              "11             1.0          NaN          NaN          NaN         NaN   \n",
              "12             NaN          2.0          NaN          NaN         NaN   \n",
              "13             NaN          NaN          NaN          NaN         NaN   \n",
              "14             NaN          NaN          NaN          NaN         NaN   \n",
              "15             NaN          NaN          NaN          NaN         NaN   \n",
              "16             NaN          NaN          NaN          NaN         NaN   \n",
              "17             NaN          NaN          NaN          NaN         1.0   \n",
              "18             1.0          3.0          1.0          NaN         NaN   \n",
              "19             NaN          NaN          NaN          NaN         NaN   \n",
              "20             NaN          NaN          NaN          NaN         NaN   \n",
              "21             1.0          NaN          NaN          NaN         1.0   \n",
              "22             NaN          NaN          NaN          NaN         NaN   \n",
              "23             NaN          NaN          NaN          NaN         NaN   \n",
              "24             NaN          NaN          NaN          NaN         1.0   \n",
              "25             NaN          1.0          NaN          NaN         NaN   \n",
              "26             NaN          NaN          NaN          NaN         NaN   \n",
              "27             NaN          NaN          NaN          NaN         NaN   \n",
              "28             1.0          1.0          NaN          1.0         1.0   \n",
              "29             NaN          NaN          NaN          NaN         NaN   \n",
              "...            ...          ...          ...          ...         ...   \n",
              "157045         9.0          NaN          NaN          NaN         NaN   \n",
              "157046         1.0          NaN          NaN          NaN         NaN   \n",
              "157047         NaN          NaN          NaN          NaN         NaN   \n",
              "157048         NaN          NaN          NaN          NaN         NaN   \n",
              "157049         NaN          NaN          NaN          NaN         NaN   \n",
              "157050         NaN          NaN          NaN          NaN         NaN   \n",
              "157051         NaN          NaN          NaN          NaN         NaN   \n",
              "157052         NaN          NaN          NaN          NaN         1.0   \n",
              "157053         NaN          NaN          NaN          NaN         NaN   \n",
              "157054         NaN          NaN          NaN          NaN         NaN   \n",
              "157055         NaN          NaN          NaN          NaN         NaN   \n",
              "157056         NaN          NaN          NaN          NaN         NaN   \n",
              "157057         NaN          NaN          NaN          NaN         NaN   \n",
              "157058         NaN          NaN          NaN          NaN         NaN   \n",
              "157059         NaN          NaN          NaN          NaN         NaN   \n",
              "157060         NaN          NaN          NaN          NaN         NaN   \n",
              "157061         NaN          NaN          NaN          NaN         NaN   \n",
              "157062         NaN          NaN          NaN          NaN         NaN   \n",
              "157063         NaN          NaN          NaN          NaN         NaN   \n",
              "157064         NaN          NaN          NaN          NaN         NaN   \n",
              "157065         NaN          NaN          NaN          NaN         NaN   \n",
              "157066         NaN          NaN          NaN          NaN         NaN   \n",
              "157067         NaN          NaN          NaN          NaN         NaN   \n",
              "157068         NaN          NaN          NaN          NaN         NaN   \n",
              "157069         NaN          NaN          NaN          NaN         NaN   \n",
              "157070         NaN          NaN          NaN          NaN         NaN   \n",
              "157071         NaN          NaN          NaN          NaN         NaN   \n",
              "157072         NaN          NaN          NaN          NaN         NaN   \n",
              "157073         NaN          NaN          NaN          NaN         NaN   \n",
              "157074         NaN          NaN          NaN          NaN         NaN   \n",
              "\n",
              "        time.Wed-14  \n",
              "0               2.0  \n",
              "1               NaN  \n",
              "2               NaN  \n",
              "3               NaN  \n",
              "4               NaN  \n",
              "5               NaN  \n",
              "6               NaN  \n",
              "7               NaN  \n",
              "8               NaN  \n",
              "9               NaN  \n",
              "10              NaN  \n",
              "11              NaN  \n",
              "12              NaN  \n",
              "13              2.0  \n",
              "14              NaN  \n",
              "15              NaN  \n",
              "16              NaN  \n",
              "17              NaN  \n",
              "18              NaN  \n",
              "19              NaN  \n",
              "20              NaN  \n",
              "21              NaN  \n",
              "22              NaN  \n",
              "23              NaN  \n",
              "24              NaN  \n",
              "25              NaN  \n",
              "26              NaN  \n",
              "27              NaN  \n",
              "28              NaN  \n",
              "29              NaN  \n",
              "...             ...  \n",
              "157045          NaN  \n",
              "157046          NaN  \n",
              "157047          NaN  \n",
              "157048          NaN  \n",
              "157049          NaN  \n",
              "157050          NaN  \n",
              "157051          NaN  \n",
              "157052          NaN  \n",
              "157053          NaN  \n",
              "157054          NaN  \n",
              "157055          NaN  \n",
              "157056          NaN  \n",
              "157057          NaN  \n",
              "157058          NaN  \n",
              "157059          NaN  \n",
              "157060          NaN  \n",
              "157061          NaN  \n",
              "157062          NaN  \n",
              "157063          NaN  \n",
              "157064          NaN  \n",
              "157065          NaN  \n",
              "157066          NaN  \n",
              "157067          NaN  \n",
              "157068          NaN  \n",
              "157069          NaN  \n",
              "157070          NaN  \n",
              "157071          NaN  \n",
              "157072          NaN  \n",
              "157073          NaN  \n",
              "157074          NaN  \n",
              "\n",
              "[157075 rows x 169 columns]>"
            ]
          },
          "metadata": {
            "tags": []
          },
          "execution_count": 83
        }
      ]
    },
    {
      "metadata": {
        "id": "pxCFPr7dVeNC",
        "colab_type": "code",
        "colab": {}
      },
      "cell_type": "code",
      "source": [
        ""
      ],
      "execution_count": 0,
      "outputs": []
    },
    {
      "metadata": {
        "id": "NB1IDiTfDC0X",
        "colab_type": "code",
        "outputId": "532174a8-6744-4203-a264-578d26d12f2c",
        "colab": {
          "base_uri": "https://localhost:8080/",
          "height": 2935
        }
      },
      "cell_type": "code",
      "source": [
        "times = [col for col in checkin.columns if 'time.' in col]\n",
        "checkins = dict.fromkeys(times, 0)\n",
        "for key in checkins.keys():\n",
        "    checkin[key].fillna(0)\n",
        "    checkins[key] = checkin[key].max()\n",
        "checkins"
      ],
      "execution_count": 0,
      "outputs": [
        {
          "output_type": "execute_result",
          "data": {
            "text/plain": [
              "{'time.Fri-0': 1132.0,\n",
              " 'time.Fri-1': 1332.0,\n",
              " 'time.Fri-10': 456.0,\n",
              " 'time.Fri-11': 434.0,\n",
              " 'time.Fri-12': 588.0,\n",
              " 'time.Fri-13': 789.0,\n",
              " 'time.Fri-14': 1115.0,\n",
              " 'time.Fri-15': 1275.0,\n",
              " 'time.Fri-16': 1288.0,\n",
              " 'time.Fri-17': 1308.0,\n",
              " 'time.Fri-18': 1308.0,\n",
              " 'time.Fri-19': 1275.0,\n",
              " 'time.Fri-2': 1263.0,\n",
              " 'time.Fri-20': 1214.0,\n",
              " 'time.Fri-21': 1281.0,\n",
              " 'time.Fri-22': 1340.0,\n",
              " 'time.Fri-23': 1505.0,\n",
              " 'time.Fri-3': 1193.0,\n",
              " 'time.Fri-4': 1220.0,\n",
              " 'time.Fri-5': 1118.0,\n",
              " 'time.Fri-6': 886.0,\n",
              " 'time.Fri-7': 492.0,\n",
              " 'time.Fri-8': 204.0,\n",
              " 'time.Fri-9': 166.0,\n",
              " 'time.Mon-0': 1421.0,\n",
              " 'time.Mon-1': 1442.0,\n",
              " 'time.Mon-10': 482.0,\n",
              " 'time.Mon-11': 516.0,\n",
              " 'time.Mon-12': 745.0,\n",
              " 'time.Mon-13': 1039.0,\n",
              " 'time.Mon-14': 1215.0,\n",
              " 'time.Mon-15': 1480.0,\n",
              " 'time.Mon-16': 1375.0,\n",
              " 'time.Mon-17': 1283.0,\n",
              " 'time.Mon-18': 1265.0,\n",
              " 'time.Mon-19': 1222.0,\n",
              " 'time.Mon-2': 1397.0,\n",
              " 'time.Mon-20': 1188.0,\n",
              " 'time.Mon-21': 1215.0,\n",
              " 'time.Mon-22': 1112.0,\n",
              " 'time.Mon-23': 1192.0,\n",
              " 'time.Mon-3': 1301.0,\n",
              " 'time.Mon-4': 1220.0,\n",
              " 'time.Mon-5': 1009.0,\n",
              " 'time.Mon-6': 656.0,\n",
              " 'time.Mon-7': 466.0,\n",
              " 'time.Mon-8': 323.0,\n",
              " 'time.Mon-9': 193.0,\n",
              " 'time.Sat-0': 1471.0,\n",
              " 'time.Sat-1': 1513.0,\n",
              " 'time.Sat-10': 415.0,\n",
              " 'time.Sat-11': 362.0,\n",
              " 'time.Sat-12': 425.0,\n",
              " 'time.Sat-13': 564.0,\n",
              " 'time.Sat-14': 857.0,\n",
              " 'time.Sat-15': 1109.0,\n",
              " 'time.Sat-16': 1184.0,\n",
              " 'time.Sat-17': 1193.0,\n",
              " 'time.Sat-18': 1193.0,\n",
              " 'time.Sat-19': 1079.0,\n",
              " 'time.Sat-2': 1491.0,\n",
              " 'time.Sat-20': 1048.0,\n",
              " 'time.Sat-21': 1057.0,\n",
              " 'time.Sat-22': 1012.0,\n",
              " 'time.Sat-23': 1022.0,\n",
              " 'time.Sat-3': 1434.0,\n",
              " 'time.Sat-4': 1559.0,\n",
              " 'time.Sat-5': 1486.0,\n",
              " 'time.Sat-6': 1035.0,\n",
              " 'time.Sat-7': 635.0,\n",
              " 'time.Sat-8': 494.0,\n",
              " 'time.Sat-9': 419.0,\n",
              " 'time.Sun-0': 933.0,\n",
              " 'time.Sun-1': 998.0,\n",
              " 'time.Sun-10': 361.0,\n",
              " 'time.Sun-11': 263.0,\n",
              " 'time.Sun-12': 497.0,\n",
              " 'time.Sun-13': 812.0,\n",
              " 'time.Sun-14': 1011.0,\n",
              " 'time.Sun-15': 1175.0,\n",
              " 'time.Sun-16': 1267.0,\n",
              " 'time.Sun-17': 1302.0,\n",
              " 'time.Sun-18': 1437.0,\n",
              " 'time.Sun-19': 1330.0,\n",
              " 'time.Sun-2': 887.0,\n",
              " 'time.Sun-20': 1348.0,\n",
              " 'time.Sun-21': 1368.0,\n",
              " 'time.Sun-22': 1377.0,\n",
              " 'time.Sun-23': 1460.0,\n",
              " 'time.Sun-3': 691.0,\n",
              " 'time.Sun-4': 726.0,\n",
              " 'time.Sun-5': 943.0,\n",
              " 'time.Sun-6': 1141.0,\n",
              " 'time.Sun-7': 993.0,\n",
              " 'time.Sun-8': 620.0,\n",
              " 'time.Sun-9': 392.0,\n",
              " 'time.Thu-0': 939.0,\n",
              " 'time.Thu-1': 984.0,\n",
              " 'time.Thu-10': 397.0,\n",
              " 'time.Thu-11': 427.0,\n",
              " 'time.Thu-12': 566.0,\n",
              " 'time.Thu-13': 734.0,\n",
              " 'time.Thu-14': 1100.0,\n",
              " 'time.Thu-15': 1156.0,\n",
              " 'time.Thu-16': 1117.0,\n",
              " 'time.Thu-17': 1057.0,\n",
              " 'time.Thu-18': 1170.0,\n",
              " 'time.Thu-19': 1081.0,\n",
              " 'time.Thu-2': 959.0,\n",
              " 'time.Thu-20': 1136.0,\n",
              " 'time.Thu-21': 1120.0,\n",
              " 'time.Thu-22': 1084.0,\n",
              " 'time.Thu-23': 1153.0,\n",
              " 'time.Thu-3': 880.0,\n",
              " 'time.Thu-4': 789.0,\n",
              " 'time.Thu-5': 612.0,\n",
              " 'time.Thu-6': 466.0,\n",
              " 'time.Thu-7': 352.0,\n",
              " 'time.Thu-8': 174.0,\n",
              " 'time.Thu-9': 134.0,\n",
              " 'time.Tue-0': 1129.0,\n",
              " 'time.Tue-1': 1133.0,\n",
              " 'time.Tue-10': 383.0,\n",
              " 'time.Tue-11': 360.0,\n",
              " 'time.Tue-12': 509.0,\n",
              " 'time.Tue-13': 702.0,\n",
              " 'time.Tue-14': 938.0,\n",
              " 'time.Tue-15': 1184.0,\n",
              " 'time.Tue-16': 1072.0,\n",
              " 'time.Tue-17': 1089.0,\n",
              " 'time.Tue-18': 1012.0,\n",
              " 'time.Tue-19': 963.0,\n",
              " 'time.Tue-2': 1148.0,\n",
              " 'time.Tue-20': 940.0,\n",
              " 'time.Tue-21': 860.0,\n",
              " 'time.Tue-22': 849.0,\n",
              " 'time.Tue-23': 905.0,\n",
              " 'time.Tue-3': 992.0,\n",
              " 'time.Tue-4': 881.0,\n",
              " 'time.Tue-5': 671.0,\n",
              " 'time.Tue-6': 521.0,\n",
              " 'time.Tue-7': 344.0,\n",
              " 'time.Tue-8': 225.0,\n",
              " 'time.Tue-9': 145.0,\n",
              " 'time.Wed-0': 827.0,\n",
              " 'time.Wed-1': 887.0,\n",
              " 'time.Wed-10': 399.0,\n",
              " 'time.Wed-11': 375.0,\n",
              " 'time.Wed-12': 527.0,\n",
              " 'time.Wed-13': 672.0,\n",
              " 'time.Wed-14': 966.0,\n",
              " 'time.Wed-15': 1129.0,\n",
              " 'time.Wed-16': 1072.0,\n",
              " 'time.Wed-17': 952.0,\n",
              " 'time.Wed-18': 933.0,\n",
              " 'time.Wed-19': 971.0,\n",
              " 'time.Wed-2': 839.0,\n",
              " 'time.Wed-20': 900.0,\n",
              " 'time.Wed-21': 903.0,\n",
              " 'time.Wed-22': 945.0,\n",
              " 'time.Wed-23': 1044.0,\n",
              " 'time.Wed-3': 761.0,\n",
              " 'time.Wed-4': 624.0,\n",
              " 'time.Wed-5': 520.0,\n",
              " 'time.Wed-6': 405.0,\n",
              " 'time.Wed-7': 282.0,\n",
              " 'time.Wed-8': 108.0,\n",
              " 'time.Wed-9': 106.0}"
            ]
          },
          "metadata": {
            "tags": []
          },
          "execution_count": 24
        }
      ]
    },
    {
      "metadata": {
        "id": "Gd9uHMs_mPNs",
        "colab_type": "code",
        "outputId": "7a5fcb4b-7e3b-46f1-8823-e10308408b52",
        "colab": {
          "base_uri": "https://localhost:8080/",
          "height": 1992
        }
      },
      "cell_type": "code",
      "source": [
        "pd.DataFrame.from_dict(checkins, orient='index')"
      ],
      "execution_count": 0,
      "outputs": [
        {
          "output_type": "execute_result",
          "data": {
            "text/html": [
              "<div>\n",
              "<style scoped>\n",
              "    .dataframe tbody tr th:only-of-type {\n",
              "        vertical-align: middle;\n",
              "    }\n",
              "\n",
              "    .dataframe tbody tr th {\n",
              "        vertical-align: top;\n",
              "    }\n",
              "\n",
              "    .dataframe thead th {\n",
              "        text-align: right;\n",
              "    }\n",
              "</style>\n",
              "<table border=\"1\" class=\"dataframe\">\n",
              "  <thead>\n",
              "    <tr style=\"text-align: right;\">\n",
              "      <th></th>\n",
              "      <th>0</th>\n",
              "    </tr>\n",
              "  </thead>\n",
              "  <tbody>\n",
              "    <tr>\n",
              "      <th>time.Wed-17</th>\n",
              "      <td>952.0</td>\n",
              "    </tr>\n",
              "    <tr>\n",
              "      <th>time.Wed-2</th>\n",
              "      <td>839.0</td>\n",
              "    </tr>\n",
              "    <tr>\n",
              "      <th>time.Sun-4</th>\n",
              "      <td>726.0</td>\n",
              "    </tr>\n",
              "    <tr>\n",
              "      <th>time.Sun-7</th>\n",
              "      <td>993.0</td>\n",
              "    </tr>\n",
              "    <tr>\n",
              "      <th>time.Mon-12</th>\n",
              "      <td>745.0</td>\n",
              "    </tr>\n",
              "    <tr>\n",
              "      <th>time.Mon-20</th>\n",
              "      <td>1188.0</td>\n",
              "    </tr>\n",
              "    <tr>\n",
              "      <th>time.Tue-16</th>\n",
              "      <td>1072.0</td>\n",
              "    </tr>\n",
              "    <tr>\n",
              "      <th>time.Thu-22</th>\n",
              "      <td>1084.0</td>\n",
              "    </tr>\n",
              "    <tr>\n",
              "      <th>time.Fri-21</th>\n",
              "      <td>1281.0</td>\n",
              "    </tr>\n",
              "    <tr>\n",
              "      <th>time.Sun-9</th>\n",
              "      <td>392.0</td>\n",
              "    </tr>\n",
              "    <tr>\n",
              "      <th>time.Fri-6</th>\n",
              "      <td>886.0</td>\n",
              "    </tr>\n",
              "    <tr>\n",
              "      <th>time.Wed-9</th>\n",
              "      <td>106.0</td>\n",
              "    </tr>\n",
              "    <tr>\n",
              "      <th>time.Sun-2</th>\n",
              "      <td>887.0</td>\n",
              "    </tr>\n",
              "    <tr>\n",
              "      <th>time.Fri-8</th>\n",
              "      <td>204.0</td>\n",
              "    </tr>\n",
              "    <tr>\n",
              "      <th>time.Mon-6</th>\n",
              "      <td>656.0</td>\n",
              "    </tr>\n",
              "    <tr>\n",
              "      <th>time.Thu-9</th>\n",
              "      <td>134.0</td>\n",
              "    </tr>\n",
              "    <tr>\n",
              "      <th>time.Thu-20</th>\n",
              "      <td>1136.0</td>\n",
              "    </tr>\n",
              "    <tr>\n",
              "      <th>time.Sun-11</th>\n",
              "      <td>263.0</td>\n",
              "    </tr>\n",
              "    <tr>\n",
              "      <th>time.Tue-7</th>\n",
              "      <td>344.0</td>\n",
              "    </tr>\n",
              "    <tr>\n",
              "      <th>time.Sun-20</th>\n",
              "      <td>1348.0</td>\n",
              "    </tr>\n",
              "    <tr>\n",
              "      <th>time.Tue-8</th>\n",
              "      <td>225.0</td>\n",
              "    </tr>\n",
              "    <tr>\n",
              "      <th>time.Wed-1</th>\n",
              "      <td>887.0</td>\n",
              "    </tr>\n",
              "    <tr>\n",
              "      <th>time.Sun-23</th>\n",
              "      <td>1460.0</td>\n",
              "    </tr>\n",
              "    <tr>\n",
              "      <th>time.Thu-10</th>\n",
              "      <td>397.0</td>\n",
              "    </tr>\n",
              "    <tr>\n",
              "      <th>time.Fri-12</th>\n",
              "      <td>588.0</td>\n",
              "    </tr>\n",
              "    <tr>\n",
              "      <th>time.Sun-19</th>\n",
              "      <td>1330.0</td>\n",
              "    </tr>\n",
              "    <tr>\n",
              "      <th>time.Thu-1</th>\n",
              "      <td>984.0</td>\n",
              "    </tr>\n",
              "    <tr>\n",
              "      <th>time.Mon-18</th>\n",
              "      <td>1265.0</td>\n",
              "    </tr>\n",
              "    <tr>\n",
              "      <th>time.Thu-5</th>\n",
              "      <td>612.0</td>\n",
              "    </tr>\n",
              "    <tr>\n",
              "      <th>time.Sun-15</th>\n",
              "      <td>1175.0</td>\n",
              "    </tr>\n",
              "    <tr>\n",
              "      <th>...</th>\n",
              "      <td>...</td>\n",
              "    </tr>\n",
              "    <tr>\n",
              "      <th>time.Wed-20</th>\n",
              "      <td>900.0</td>\n",
              "    </tr>\n",
              "    <tr>\n",
              "      <th>time.Tue-11</th>\n",
              "      <td>360.0</td>\n",
              "    </tr>\n",
              "    <tr>\n",
              "      <th>time.Thu-13</th>\n",
              "      <td>734.0</td>\n",
              "    </tr>\n",
              "    <tr>\n",
              "      <th>time.Wed-22</th>\n",
              "      <td>945.0</td>\n",
              "    </tr>\n",
              "    <tr>\n",
              "      <th>time.Fri-16</th>\n",
              "      <td>1288.0</td>\n",
              "    </tr>\n",
              "    <tr>\n",
              "      <th>time.Tue-21</th>\n",
              "      <td>860.0</td>\n",
              "    </tr>\n",
              "    <tr>\n",
              "      <th>time.Thu-0</th>\n",
              "      <td>939.0</td>\n",
              "    </tr>\n",
              "    <tr>\n",
              "      <th>time.Tue-6</th>\n",
              "      <td>521.0</td>\n",
              "    </tr>\n",
              "    <tr>\n",
              "      <th>time.Sun-13</th>\n",
              "      <td>812.0</td>\n",
              "    </tr>\n",
              "    <tr>\n",
              "      <th>time.Tue-23</th>\n",
              "      <td>905.0</td>\n",
              "    </tr>\n",
              "    <tr>\n",
              "      <th>time.Tue-9</th>\n",
              "      <td>145.0</td>\n",
              "    </tr>\n",
              "    <tr>\n",
              "      <th>time.Tue-18</th>\n",
              "      <td>1012.0</td>\n",
              "    </tr>\n",
              "    <tr>\n",
              "      <th>time.Mon-2</th>\n",
              "      <td>1397.0</td>\n",
              "    </tr>\n",
              "    <tr>\n",
              "      <th>time.Tue-22</th>\n",
              "      <td>849.0</td>\n",
              "    </tr>\n",
              "    <tr>\n",
              "      <th>time.Sat-7</th>\n",
              "      <td>635.0</td>\n",
              "    </tr>\n",
              "    <tr>\n",
              "      <th>time.Sat-13</th>\n",
              "      <td>564.0</td>\n",
              "    </tr>\n",
              "    <tr>\n",
              "      <th>time.Tue-15</th>\n",
              "      <td>1184.0</td>\n",
              "    </tr>\n",
              "    <tr>\n",
              "      <th>time.Wed-21</th>\n",
              "      <td>903.0</td>\n",
              "    </tr>\n",
              "    <tr>\n",
              "      <th>time.Sun-16</th>\n",
              "      <td>1267.0</td>\n",
              "    </tr>\n",
              "    <tr>\n",
              "      <th>time.Sat-23</th>\n",
              "      <td>1022.0</td>\n",
              "    </tr>\n",
              "    <tr>\n",
              "      <th>time.Thu-15</th>\n",
              "      <td>1156.0</td>\n",
              "    </tr>\n",
              "    <tr>\n",
              "      <th>time.Thu-23</th>\n",
              "      <td>1153.0</td>\n",
              "    </tr>\n",
              "    <tr>\n",
              "      <th>time.Sun-8</th>\n",
              "      <td>620.0</td>\n",
              "    </tr>\n",
              "    <tr>\n",
              "      <th>time.Sun-6</th>\n",
              "      <td>1141.0</td>\n",
              "    </tr>\n",
              "    <tr>\n",
              "      <th>time.Fri-1</th>\n",
              "      <td>1332.0</td>\n",
              "    </tr>\n",
              "    <tr>\n",
              "      <th>time.Fri-17</th>\n",
              "      <td>1308.0</td>\n",
              "    </tr>\n",
              "    <tr>\n",
              "      <th>time.Wed-19</th>\n",
              "      <td>971.0</td>\n",
              "    </tr>\n",
              "    <tr>\n",
              "      <th>time.Mon-13</th>\n",
              "      <td>1039.0</td>\n",
              "    </tr>\n",
              "    <tr>\n",
              "      <th>time.Sun-3</th>\n",
              "      <td>691.0</td>\n",
              "    </tr>\n",
              "    <tr>\n",
              "      <th>time.Wed-14</th>\n",
              "      <td>966.0</td>\n",
              "    </tr>\n",
              "  </tbody>\n",
              "</table>\n",
              "<p>168 rows × 1 columns</p>\n",
              "</div>"
            ],
            "text/plain": [
              "                  0\n",
              "time.Wed-17   952.0\n",
              "time.Wed-2    839.0\n",
              "time.Sun-4    726.0\n",
              "time.Sun-7    993.0\n",
              "time.Mon-12   745.0\n",
              "time.Mon-20  1188.0\n",
              "time.Tue-16  1072.0\n",
              "time.Thu-22  1084.0\n",
              "time.Fri-21  1281.0\n",
              "time.Sun-9    392.0\n",
              "time.Fri-6    886.0\n",
              "time.Wed-9    106.0\n",
              "time.Sun-2    887.0\n",
              "time.Fri-8    204.0\n",
              "time.Mon-6    656.0\n",
              "time.Thu-9    134.0\n",
              "time.Thu-20  1136.0\n",
              "time.Sun-11   263.0\n",
              "time.Tue-7    344.0\n",
              "time.Sun-20  1348.0\n",
              "time.Tue-8    225.0\n",
              "time.Wed-1    887.0\n",
              "time.Sun-23  1460.0\n",
              "time.Thu-10   397.0\n",
              "time.Fri-12   588.0\n",
              "time.Sun-19  1330.0\n",
              "time.Thu-1    984.0\n",
              "time.Mon-18  1265.0\n",
              "time.Thu-5    612.0\n",
              "time.Sun-15  1175.0\n",
              "...             ...\n",
              "time.Wed-20   900.0\n",
              "time.Tue-11   360.0\n",
              "time.Thu-13   734.0\n",
              "time.Wed-22   945.0\n",
              "time.Fri-16  1288.0\n",
              "time.Tue-21   860.0\n",
              "time.Thu-0    939.0\n",
              "time.Tue-6    521.0\n",
              "time.Sun-13   812.0\n",
              "time.Tue-23   905.0\n",
              "time.Tue-9    145.0\n",
              "time.Tue-18  1012.0\n",
              "time.Mon-2   1397.0\n",
              "time.Tue-22   849.0\n",
              "time.Sat-7    635.0\n",
              "time.Sat-13   564.0\n",
              "time.Tue-15  1184.0\n",
              "time.Wed-21   903.0\n",
              "time.Sun-16  1267.0\n",
              "time.Sat-23  1022.0\n",
              "time.Thu-15  1156.0\n",
              "time.Thu-23  1153.0\n",
              "time.Sun-8    620.0\n",
              "time.Sun-6   1141.0\n",
              "time.Fri-1   1332.0\n",
              "time.Fri-17  1308.0\n",
              "time.Wed-19   971.0\n",
              "time.Mon-13  1039.0\n",
              "time.Sun-3    691.0\n",
              "time.Wed-14   966.0\n",
              "\n",
              "[168 rows x 1 columns]"
            ]
          },
          "metadata": {
            "tags": []
          },
          "execution_count": 35
        }
      ]
    },
    {
      "metadata": {
        "id": "oRaHefNig6Xq",
        "colab_type": "code",
        "outputId": "37ffe205-1bb8-46da-93f6-407ccdfe53c3",
        "colab": {
          "base_uri": "https://localhost:8080/",
          "height": 130
        }
      },
      "cell_type": "code",
      "source": [
        "\n",
        "\n",
        "checkin[checkin['time.Sat-14']==857]\n",
        "\n"
      ],
      "execution_count": 0,
      "outputs": [
        {
          "output_type": "execute_result",
          "data": {
            "text/html": [
              "<div>\n",
              "<style scoped>\n",
              "    .dataframe tbody tr th:only-of-type {\n",
              "        vertical-align: middle;\n",
              "    }\n",
              "\n",
              "    .dataframe tbody tr th {\n",
              "        vertical-align: top;\n",
              "    }\n",
              "\n",
              "    .dataframe thead th {\n",
              "        text-align: right;\n",
              "    }\n",
              "</style>\n",
              "<table border=\"1\" class=\"dataframe\">\n",
              "  <thead>\n",
              "    <tr style=\"text-align: right;\">\n",
              "      <th></th>\n",
              "      <th>time.Wed-17</th>\n",
              "      <th>time.Wed-2</th>\n",
              "      <th>time.Sun-4</th>\n",
              "      <th>time.Sun-7</th>\n",
              "      <th>time.Mon-12</th>\n",
              "      <th>time.Mon-20</th>\n",
              "      <th>time.Tue-16</th>\n",
              "      <th>time.Thu-22</th>\n",
              "      <th>time.Fri-21</th>\n",
              "      <th>time.Sun-9</th>\n",
              "      <th>...</th>\n",
              "      <th>time.Thu-15</th>\n",
              "      <th>time.Thu-23</th>\n",
              "      <th>time.Sun-8</th>\n",
              "      <th>time.Sun-6</th>\n",
              "      <th>time.Fri-1</th>\n",
              "      <th>time.Fri-17</th>\n",
              "      <th>time.Wed-19</th>\n",
              "      <th>time.Mon-13</th>\n",
              "      <th>time.Sun-3</th>\n",
              "      <th>time.Wed-14</th>\n",
              "    </tr>\n",
              "  </thead>\n",
              "  <tbody>\n",
              "    <tr>\n",
              "      <th>14299</th>\n",
              "      <td>952.0</td>\n",
              "      <td>839.0</td>\n",
              "      <td>516.0</td>\n",
              "      <td>248.0</td>\n",
              "      <td>745.0</td>\n",
              "      <td>1188.0</td>\n",
              "      <td>971.0</td>\n",
              "      <td>1052.0</td>\n",
              "      <td>1281.0</td>\n",
              "      <td>37.0</td>\n",
              "      <td>...</td>\n",
              "      <td>1115.0</td>\n",
              "      <td>1153.0</td>\n",
              "      <td>152.0</td>\n",
              "      <td>343.0</td>\n",
              "      <td>1102.0</td>\n",
              "      <td>1308.0</td>\n",
              "      <td>971.0</td>\n",
              "      <td>1039.0</td>\n",
              "      <td>666.0</td>\n",
              "      <td>788.0</td>\n",
              "    </tr>\n",
              "  </tbody>\n",
              "</table>\n",
              "<p>1 rows × 169 columns</p>\n",
              "</div>"
            ],
            "text/plain": [
              "       time.Wed-17  time.Wed-2  time.Sun-4  time.Sun-7  time.Mon-12  \\\n",
              "14299        952.0       839.0       516.0       248.0        745.0   \n",
              "\n",
              "       time.Mon-20  time.Tue-16  time.Thu-22  time.Fri-21  time.Sun-9  \\\n",
              "14299       1188.0        971.0       1052.0       1281.0        37.0   \n",
              "\n",
              "          ...       time.Thu-15  time.Thu-23  time.Sun-8  time.Sun-6  \\\n",
              "14299     ...            1115.0       1153.0       152.0       343.0   \n",
              "\n",
              "       time.Fri-1  time.Fri-17  time.Wed-19  time.Mon-13  time.Sun-3  \\\n",
              "14299      1102.0       1308.0        971.0       1039.0       666.0   \n",
              "\n",
              "       time.Wed-14  \n",
              "14299        788.0  \n",
              "\n",
              "[1 rows x 169 columns]"
            ]
          },
          "metadata": {
            "tags": []
          },
          "execution_count": 28
        }
      ]
    },
    {
      "metadata": {
        "id": "viLJzC3lC4FU",
        "colab_type": "code",
        "colab": {
          "base_uri": "https://localhost:8080/",
          "height": 444
        },
        "outputId": "fc6a483c-e9ce-4034-eef6-b02eb89a359c"
      },
      "cell_type": "code",
      "source": [
        "f,ax = plt.subplots(1,2, figsize = (14,6))\n",
        "ax1,ax2, = ax.flatten()\n",
        "cnt = checkin['weekday'].value_counts().to_frame()\n",
        "sns.barplot(cnt['weekday'], cnt.index, palette = 'ocean', ax=ax1)\n",
        "ax1.set_title('Distribution of weekday')\n",
        "ax1.set_xlabel('')\n",
        "\n",
        "cnt = checkin['hour'].value_counts().to_frame()\n",
        "sns.barplot(cnt['hour'], cnt.index, palette = 'hot', ax=ax2)\n",
        "ax2.set_title('Distribution of Hour')\n",
        "ax2.set_xlabel('');\n"
      ],
      "execution_count": 48,
      "outputs": [
        {
          "output_type": "stream",
          "text": [
            "/usr/local/lib/python3.6/dist-packages/seaborn/categorical.py:1428: FutureWarning: remove_na is deprecated and is a private function. Do not use.\n",
            "  stat_data = remove_na(group_data)\n"
          ],
          "name": "stderr"
        },
        {
          "output_type": "display_data",
          "data": {
            "image/png": "[encoded data removed]",
            "text/plain": [
              "<matplotlib.figure.Figure at 0x7f563b506278>"
            ]
          },
          "metadata": {
            "tags": []
          }
        }
      ]
    },
    {
      "metadata": {
        "id": "xB_SX7IUEDke",
        "colab_type": "code",
        "colab": {
          "base_uri": "https://localhost:8080/",
          "height": 473
        },
        "outputId": "5da3adc9-f111-4ba8-a966-82512dc2ed15"
      },
      "cell_type": "code",
      "source": [
        "k = checkin.groupby(['weekday','hour',])['checkins'].sum().to_frame().reset_index()\n",
        "\n",
        "plt.figure(figsize=(14,6))\n",
        "sns.pointplot(y = k['checkins'],x = k['hour'],hue = k['weekday'],alpha=0.3)\n",
        "plt.ylabel('Checkins')\n",
        "plt.title('Distribution of checkins on different weekday (log)')\n",
        "plt.xlabel('Weekday')\n",
        "plt.xticks(rotation=45);"
      ],
      "execution_count": 49,
      "outputs": [
        {
          "output_type": "stream",
          "text": [
            "/usr/local/lib/python3.6/dist-packages/seaborn/categorical.py:1468: FutureWarning: remove_na is deprecated and is a private function. Do not use.\n",
            "  stat_data = remove_na(group_data[hue_mask])\n"
          ],
          "name": "stderr"
        },
        {
          "output_type": "display_data",
          "data": {
            "image/png": "[encoded data removed]",
            "text/plain": [
              "<matplotlib.figure.Figure at 0x7f563b39b390>"
            ]
          },
          "metadata": {
            "tags": []
          }
        }
      ]
    },
    {
      "metadata": {
        "id": "gml1Mv2XDGof",
        "colab_type": "code",
        "colab": {}
      },
      "cell_type": "code",
      "source": [
        ""
      ],
      "execution_count": 0,
      "outputs": []
    }
  ]
}