{
 "cells": [
  {
   "cell_type": "code",
   "execution_count": 7,
   "metadata": {},
   "outputs": [],
   "source": [
    "import json\n",
    "import pandas as pd\n",
    "import numpy as np\n",
    "import matplotlib.pyplot as plt\n",
    "\n",
    "%matplotlib inline\n",
    "\n",
    "with open('/Users/jieyizhang/Downloads/yelp_dataset/yelp_academic_dataset_review.json') as json_file:      \n",
    "    data = json_file.readlines()\n",
    "    data = list(map(json.loads, data)) \n",
    "\n",
    "review_df = pd.DataFrame(data)"
   ]
  },
  {
   "cell_type": "code",
   "execution_count": 19,
   "metadata": {},
   "outputs": [
    {
     "data": {
      "text/plain": [
       "date\n",
       "2004    4.461538\n",
       "2005    4.015046\n",
       "2006    3.800727\n",
       "2007    3.807520\n",
       "2008    3.705130\n",
       "2009    3.673905\n",
       "2010    3.684188\n",
       "2011    3.671164\n",
       "2012    3.652588\n",
       "2013    3.666671\n",
       "2014    3.693788\n",
       "2015    3.722607\n",
       "2016    3.760973\n",
       "2017    3.787071\n",
       "2018    3.810170\n",
       "Name: stars, dtype: float64"
      ]
     },
     "execution_count": 19,
     "metadata": {},
     "output_type": "execute_result"
    }
   ],
   "source": [
    "review_df[\"date\"]=pd.to_datetime(review_df[\"date\"], format='%Y-%m-%d')\n",
    "review_df.groupby(review_df[\"date\"].dt.year)['stars'].mean()"
   ]
  },
  {
   "cell_type": "code",
   "execution_count": 25,
   "metadata": {},
   "outputs": [
    {
     "data": {
      "image/png": "[encoded data removed]",
      "text/plain": [
       "<matplotlib.figure.Figure at 0x1754ad908>"
      ]
     },
     "metadata": {},
     "output_type": "display_data"
    }
   ],
   "source": [
    "axis = np.arange(15)\n",
    "x = [4.461538,4.015046,3.800727,3.807520,3.705130,3.673905,3.684188,3.671164,3.652588,3.666671,3.693788,3.722607,3.760973,3.787071,3.810170]\n",
    "y = ['2004','2005','2006','2007','2008','2009','2010','2011','2012','2013','2014','2015','2016','2017','2018']\n",
    "plt.rcParams['figure.figsize']=(10,6)\n",
    "plt.xlabel('Year')\n",
    "plt.ylabel('AVG Rating')\n",
    "plt.bar(axis,x)\n",
    "plt.xticks(axis, y)\n",
    "plt.title('Average Rating Each Year')\n",
    "plt.savefig('/Users/jieyizhang/Downloads/yelp_dataset/Average Rating Each Year.png')"
   ]
  },
  {
   "cell_type": "code",
   "execution_count": 23,
   "metadata": {},
   "outputs": [
    {
     "data": {
      "text/plain": [
       "date\n",
       "1     3.754995\n",
       "2     3.749029\n",
       "3     3.743872\n",
       "4     3.749247\n",
       "5     3.734803\n",
       "6     3.743243\n",
       "7     3.730090\n",
       "8     3.727595\n",
       "9     3.723471\n",
       "10    3.734005\n",
       "11    3.730949\n",
       "12    3.705201\n",
       "Name: stars, dtype: float64"
      ]
     },
     "execution_count": 23,
     "metadata": {},
     "output_type": "execute_result"
    }
   ],
   "source": [
    "review_df.groupby(review_df[\"date\"].dt.month)['stars'].mean()"
   ]
  },
  {
   "cell_type": "code",
   "execution_count": 26,
   "metadata": {},
   "outputs": [
    {
     "data": {
      "image/png": "[encoded data removed]",
      "text/plain": [
       "<matplotlib.figure.Figure at 0x1335aa9b0>"
      ]
     },
     "metadata": {},
     "output_type": "display_data"
    }
   ],
   "source": [
    "axis = np.arange(12)\n",
    "x = [3.754995,3.749029,3.743872,3.749247,3.734803,3.743243,3.730090,3.727595,3.723471,3.734005,3.730949,3.705201]\n",
    "y = ['Jan','Feb','March','April','May','June','July','Aug','Sept','Oct','Nov','Dec']\n",
    "plt.rcParams['figure.figsize']=(10,6)\n",
    "plt.xlabel('Month')\n",
    "plt.ylabel('AVG Rating')\n",
    "plt.bar(axis,x)\n",
    "plt.xticks(axis, y)\n",
    "plt.title('Average Rating Each Month')\n",
    "plt.savefig('/Users/jieyizhang/Downloads/yelp_dataset/Average Rating Each Month.png')"
   ]
  }
 ],
 "metadata": {
  "kernelspec": {
   "display_name": "Python 3",
   "language": "python",
   "name": "python3"
  },
  "language_info": {
   "codemirror_mode": {
    "name": "ipython",
    "version": 3
   },
   "file_extension": ".py",
   "mimetype": "text/x-python",
   "name": "python",
   "nbconvert_exporter": "python",
   "pygments_lexer": "ipython3",
   "version": "3.6.2"
  }
 },
 "nbformat": 4,
 "nbformat_minor": 2
}
