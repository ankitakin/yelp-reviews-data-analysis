{
  "nbformat": 4,
  "nbformat_minor": 0,
  "metadata": {
    "colab": {
      "name": "EDAReviews.ipynb",
      "version": "0.3.2",
      "provenance": [],
      "collapsed_sections": []
    },
    "kernelspec": {
      "display_name": "Python 3",
      "language": "python",
      "name": "python3"
    }
  },
  "cells": [
    {
      "metadata": {
        "id": "f5vMQsqMXE64",
        "colab_type": "code",
        "outputId": "b13c63ce-b004-4502-d1b8-4e2388b13c83",
        "colab": {
          "base_uri": "https://localhost:8080/",
          "height": 35
        }
      },
      "cell_type": "code",
      "source": [
        "import numpy as np\n",
        "import pandas as pd\n",
        "import csv\n",
        "import json\n",
        "import matplotlib.pyplot as plt\n",
        "from datetime import datetime\n",
        "from google.colab import drive\n",
        "drive.mount('/content/gdrive')\n",
        "%matplotlib inline\n",
        "\n"
      ],
      "execution_count": 46,
      "outputs": [
        {
          "output_type": "stream",
          "text": [
            "Drive already mounted at /content/gdrive; to attempt to forcibly remount, call drive.mount(\"/content/gdrive\", force_remount=True).\n"
          ],
          "name": "stdout"
        }
      ]
    },
    {
      "metadata": {
        "id": "jBTOk7_SPGkE",
        "colab_type": "code",
        "colab": {
          "base_uri": "https://localhost:8080/",
          "height": 386
        },
        "outputId": "3e06973b-bb68-44a6-9a51-02c484b0ff69"
      },
      "cell_type": "code",
      "source": [
        "#misc\n",
        "import gc\n",
        "import time\n",
        "import warnings\n",
        "\n",
        "\n",
        "#viz\n",
        "import matplotlib.pyplot as plt\n",
        "import seaborn as sns \n",
        "import matplotlib.gridspec as gridspec \n",
        "import matplotlib.gridspec as gridspec \n",
        "\n",
        "# graph viz\n",
        "import plotly.offline as pyo\n",
        "from plotly.graph_objs import *\n",
        "import plotly.graph_objs as go\n",
        "\n",
        "#map section\n",
        "import imageio\n",
        "import folium\n",
        "import folium.plugins as plugins\n",
        "from mpl_toolkits.basemap import Basemap\n",
        "\n",
        "\n",
        "#graph section\n",
        "import networkx as nx\n",
        "import heapq  # for getting top n number of things from list,dict\n"
      ],
      "execution_count": 33,
      "outputs": [
        {
          "output_type": "error",
          "ename": "ModuleNotFoundError",
          "evalue": "ignored",
          "traceback": [
            "\u001b[0;31m---------------------------------------------------------------------------\u001b[0m",
            "\u001b[0;31mModuleNotFoundError\u001b[0m                       Traceback (most recent call last)",
            "\u001b[0;32m<ipython-input-33-112cef680fd7>\u001b[0m in \u001b[0;36m<module>\u001b[0;34m()\u001b[0m\n\u001b[1;32m     19\u001b[0m \u001b[0;32mimport\u001b[0m \u001b[0mfolium\u001b[0m\u001b[0;34m\u001b[0m\u001b[0m\n\u001b[1;32m     20\u001b[0m \u001b[0;32mimport\u001b[0m \u001b[0mfolium\u001b[0m\u001b[0;34m.\u001b[0m\u001b[0mplugins\u001b[0m \u001b[0;32mas\u001b[0m \u001b[0mplugins\u001b[0m\u001b[0;34m\u001b[0m\u001b[0m\n\u001b[0;32m---> 21\u001b[0;31m \u001b[0;32mfrom\u001b[0m \u001b[0mmpl_toolkits\u001b[0m\u001b[0;34m.\u001b[0m\u001b[0mbasemap\u001b[0m \u001b[0;32mimport\u001b[0m \u001b[0mBasemap\u001b[0m\u001b[0;34m\u001b[0m\u001b[0m\n\u001b[0m\u001b[1;32m     22\u001b[0m \u001b[0;34m\u001b[0m\u001b[0m\n\u001b[1;32m     23\u001b[0m \u001b[0;34m\u001b[0m\u001b[0m\n",
            "\u001b[0;31mModuleNotFoundError\u001b[0m: No module named 'mpl_toolkits.basemap'",
            "",
            "\u001b[0;31m---------------------------------------------------------------------------\u001b[0;32m\nNOTE: If your import is failing due to a missing package, you can\nmanually install dependencies using either !pip or !apt.\n\nTo view examples of installing some common dependencies, click the\n\"Open Examples\" button below.\n\u001b[0;31m---------------------------------------------------------------------------\u001b[0m\n"
          ]
        }
      ]
    },
    {
      "metadata": {
        "id": "Lz5lq3IlPU0M",
        "colab_type": "code",
        "colab": {
          "base_uri": "https://localhost:8080/",
          "height": 252
        },
        "outputId": "c84b5edd-e23a-46bb-ae9b-30d17c8ff2dd"
      },
      "cell_type": "code",
      "source": [
        "!pip install imageio\n",
        "!pip install --upgrade --user matplotlib numpy pyproj pyshp OWSLib Pillow"
      ],
      "execution_count": 12,
      "outputs": [
        {
          "output_type": "stream",
          "text": [
            "Collecting imageio\n",
            "\u001b[?25l  Downloading https://files.pythonhosted.org/packages/28/b4/cbb592964dfd71a9de6a5b08f882fd334fb99ae09ddc82081dbb2f718c81/imageio-2.4.1.tar.gz (3.3MB)\n",
            "\u001b[K    100% |████████████████████████████████| 3.3MB 8.0MB/s \n",
            "\u001b[?25hRequirement already satisfied: numpy in /usr/local/lib/python3.6/dist-packages (from imageio) (1.14.6)\n",
            "Requirement already satisfied: pillow in /usr/local/lib/python3.6/dist-packages (from imageio) (4.0.0)\n",
            "Requirement already satisfied: olefile in /usr/local/lib/python3.6/dist-packages (from pillow->imageio) (0.46)\n",
            "Building wheels for collected packages: imageio\n",
            "  Running setup.py bdist_wheel for imageio ... \u001b[?25l-\b \b\\\b \b|\b \b/\b \bdone\n",
            "\u001b[?25h  Stored in directory: /root/.cache/pip/wheels/e0/43/31/605de9372ceaf657f152d3d5e82f42cf265d81db8bbe63cde1\n",
            "Successfully built imageio\n",
            "Installing collected packages: imageio\n",
            "Successfully installed imageio-2.4.1\n"
          ],
          "name": "stdout"
        }
      ]
    },
    {
      "metadata": {
        "id": "rWwiiUCLXE7N",
        "colab_type": "code",
        "colab": {}
      },
      "cell_type": "code",
      "source": [
        "PATH_TO_REVIEW_FILE = \"/content/gdrive/My Drive/yelp_academic_dataset_review.csv\"\n",
        "PATH_TO_BUSINESS_FILE = \"/content/gdrive/My Drive/yelp_academic_dataset_business.csv\"\n",
        "PATH_TO_USER_FILE = \"/content/gdrive/My Drive/yelp_academic_dataset_user.csv\""
      ],
      "execution_count": 0,
      "outputs": []
    },
    {
      "metadata": {
        "id": "kVFe-S4upZkb",
        "colab_type": "code",
        "colab": {}
      },
      "cell_type": "code",
      "source": [
        "PATH_TO_CHECKIN_FILE = \"/content/gdrive/My Drive/yelp_checkin.csv\""
      ],
      "execution_count": 0,
      "outputs": []
    },
    {
      "metadata": {
        "id": "bRfFdy-kXE7Y",
        "colab_type": "code",
        "colab": {}
      },
      "cell_type": "code",
      "source": [
        "reviews = pd.read_csv(PATH_TO_REVIEW_FILE, sep='\\t')\n",
        "users=pd.read_csv(PATH_TO_USER_FILE, sep='\\t')\n",
        "business=pd.read_csv(PATH_TO_BUSINESS_FILE, sep='\\t')"
      ],
      "execution_count": 0,
      "outputs": []
    },
    {
      "metadata": {
        "id": "jzw2ws4cplro",
        "colab_type": "code",
        "colab": {}
      },
      "cell_type": "code",
      "source": [
        "checkin=pd.read_csv(PATH_TO_CHECKIN_FILE, sep=',')"
      ],
      "execution_count": 0,
      "outputs": []
    },
    {
      "metadata": {
        "id": "cvDxIqToXE7l",
        "colab_type": "code",
        "colab": {}
      },
      "cell_type": "code",
      "source": [
        "users.name = users.name.str.strip('b\\'')\n",
        "users.yelping_since = users.yelping_since.str.strip('b\\'')\n",
        "users.elite = users.elite.str.strip('b\\'')\n",
        "users.user_id = users.user_id.str.strip('b\\'')"
      ],
      "execution_count": 0,
      "outputs": []
    },
    {
      "metadata": {
        "id": "k3kY4XcuXE_c",
        "colab_type": "code",
        "colab": {}
      },
      "cell_type": "code",
      "source": [
        "user_agg=reviews.groupby('user_id').agg({'review_id':['count'],'date':['min','max'],\n",
        "                                'useful':['sum'],'funny':['sum'],'cool':['sum'],\n",
        "                               'stars':['mean']})"
      ],
      "execution_count": 0,
      "outputs": []
    },
    {
      "metadata": {
        "id": "K2EmbEOTR1Cv",
        "colab_type": "code",
        "outputId": "9907119b-bb87-4064-f838-ccde8a39772e",
        "colab": {
          "base_uri": "https://localhost:8080/",
          "height": 443
        }
      },
      "cell_type": "code",
      "source": [
        "user_agg=user_agg.sort_values([('review_id','count')],ascending=False)\n",
        "print(\"          Top 10 Users in Yelp\")\n",
        "user_agg.head(10)"
      ],
      "execution_count": 0,
      "outputs": [
        {
          "output_type": "stream",
          "text": [
            "          Top 10 Users in Yelp\n"
          ],
          "name": "stdout"
        },
        {
          "output_type": "execute_result",
          "data": {
            "text/html": [
              "<div>\n",
              "<style scoped>\n",
              "    .dataframe tbody tr th:only-of-type {\n",
              "        vertical-align: middle;\n",
              "    }\n",
              "\n",
              "    .dataframe tbody tr th {\n",
              "        vertical-align: top;\n",
              "    }\n",
              "\n",
              "    .dataframe thead tr th {\n",
              "        text-align: left;\n",
              "    }\n",
              "\n",
              "    .dataframe thead tr:last-of-type th {\n",
              "        text-align: right;\n",
              "    }\n",
              "</style>\n",
              "<table border=\"1\" class=\"dataframe\">\n",
              "  <thead>\n",
              "    <tr>\n",
              "      <th></th>\n",
              "      <th>review_id</th>\n",
              "      <th colspan=\"2\" halign=\"left\">date</th>\n",
              "      <th>useful</th>\n",
              "      <th>funny</th>\n",
              "      <th>cool</th>\n",
              "      <th>stars</th>\n",
              "    </tr>\n",
              "    <tr>\n",
              "      <th></th>\n",
              "      <th>count</th>\n",
              "      <th>min</th>\n",
              "      <th>max</th>\n",
              "      <th>sum</th>\n",
              "      <th>sum</th>\n",
              "      <th>sum</th>\n",
              "      <th>mean</th>\n",
              "    </tr>\n",
              "    <tr>\n",
              "      <th>user_id</th>\n",
              "      <th></th>\n",
              "      <th></th>\n",
              "      <th></th>\n",
              "      <th></th>\n",
              "      <th></th>\n",
              "      <th></th>\n",
              "      <th></th>\n",
              "    </tr>\n",
              "  </thead>\n",
              "  <tbody>\n",
              "    <tr>\n",
              "      <th>b'CxDOIDnH8gp9KXzpBHJYXw'</th>\n",
              "      <td>3739</td>\n",
              "      <td>b'2009-11-09'</td>\n",
              "      <td>b'2018-06-27'</td>\n",
              "      <td>12835</td>\n",
              "      <td>5883</td>\n",
              "      <td>7606</td>\n",
              "      <td>3.218775</td>\n",
              "    </tr>\n",
              "    <tr>\n",
              "      <th>b'bLbSNkLggFnqwNNzzq-Ijw'</th>\n",
              "      <td>2229</td>\n",
              "      <td>b'2012-05-20'</td>\n",
              "      <td>b'2018-07-01'</td>\n",
              "      <td>26910</td>\n",
              "      <td>13851</td>\n",
              "      <td>18481</td>\n",
              "      <td>3.274114</td>\n",
              "    </tr>\n",
              "    <tr>\n",
              "      <th>b'PKEzKWv_FktMm2mGPjwd0Q'</th>\n",
              "      <td>1674</td>\n",
              "      <td>b'2008-12-12'</td>\n",
              "      <td>b'2018-07-01'</td>\n",
              "      <td>12804</td>\n",
              "      <td>5259</td>\n",
              "      <td>8724</td>\n",
              "      <td>3.658303</td>\n",
              "    </tr>\n",
              "    <tr>\n",
              "      <th>b'DK57YibC5ShBmqQl97CKog'</th>\n",
              "      <td>1574</td>\n",
              "      <td>b'2006-02-12'</td>\n",
              "      <td>b'2018-07-01'</td>\n",
              "      <td>19096</td>\n",
              "      <td>10150</td>\n",
              "      <td>16319</td>\n",
              "      <td>3.817662</td>\n",
              "    </tr>\n",
              "    <tr>\n",
              "      <th>b'QJI9OSEn6ujRCtrX06vs1w'</th>\n",
              "      <td>1324</td>\n",
              "      <td>b'2007-03-20'</td>\n",
              "      <td>b'2016-05-01'</td>\n",
              "      <td>8791</td>\n",
              "      <td>4118</td>\n",
              "      <td>6159</td>\n",
              "      <td>3.621601</td>\n",
              "    </tr>\n",
              "    <tr>\n",
              "      <th>b'd_TBs6J3twMy9GChqUEXkg'</th>\n",
              "      <td>1245</td>\n",
              "      <td>b'2010-12-27'</td>\n",
              "      <td>b'2018-05-29'</td>\n",
              "      <td>3149</td>\n",
              "      <td>1443</td>\n",
              "      <td>1902</td>\n",
              "      <td>3.478715</td>\n",
              "    </tr>\n",
              "    <tr>\n",
              "      <th>b'hWDybu_KvYLSdEFzGrniTw'</th>\n",
              "      <td>1220</td>\n",
              "      <td>b'2009-03-08'</td>\n",
              "      <td>b'2018-06-11'</td>\n",
              "      <td>8170</td>\n",
              "      <td>5459</td>\n",
              "      <td>6517</td>\n",
              "      <td>3.650000</td>\n",
              "    </tr>\n",
              "    <tr>\n",
              "      <th>b'ELcQDlf69kb-ihJfxZyL0A'</th>\n",
              "      <td>1204</td>\n",
              "      <td>b'2011-04-10'</td>\n",
              "      <td>b'2018-06-29'</td>\n",
              "      <td>2243</td>\n",
              "      <td>1352</td>\n",
              "      <td>1058</td>\n",
              "      <td>2.989203</td>\n",
              "    </tr>\n",
              "    <tr>\n",
              "      <th>b'cMEtAiW60I5wE_vLfTxoJQ'</th>\n",
              "      <td>1201</td>\n",
              "      <td>b'2009-06-12'</td>\n",
              "      <td>b'2018-06-26'</td>\n",
              "      <td>2246</td>\n",
              "      <td>967</td>\n",
              "      <td>1761</td>\n",
              "      <td>4.081599</td>\n",
              "    </tr>\n",
              "    <tr>\n",
              "      <th>b'YRcaNlwQ6XXPFDXWtuMGdA'</th>\n",
              "      <td>1195</td>\n",
              "      <td>b'2009-06-16'</td>\n",
              "      <td>b'2018-05-05'</td>\n",
              "      <td>2630</td>\n",
              "      <td>1088</td>\n",
              "      <td>1262</td>\n",
              "      <td>3.395816</td>\n",
              "    </tr>\n",
              "  </tbody>\n",
              "</table>\n",
              "</div>"
            ],
            "text/plain": [
              "                          review_id           date                useful  \\\n",
              "                              count            min            max    sum   \n",
              "user_id                                                                    \n",
              "b'CxDOIDnH8gp9KXzpBHJYXw'      3739  b'2009-11-09'  b'2018-06-27'  12835   \n",
              "b'bLbSNkLggFnqwNNzzq-Ijw'      2229  b'2012-05-20'  b'2018-07-01'  26910   \n",
              "b'PKEzKWv_FktMm2mGPjwd0Q'      1674  b'2008-12-12'  b'2018-07-01'  12804   \n",
              "b'DK57YibC5ShBmqQl97CKog'      1574  b'2006-02-12'  b'2018-07-01'  19096   \n",
              "b'QJI9OSEn6ujRCtrX06vs1w'      1324  b'2007-03-20'  b'2016-05-01'   8791   \n",
              "b'd_TBs6J3twMy9GChqUEXkg'      1245  b'2010-12-27'  b'2018-05-29'   3149   \n",
              "b'hWDybu_KvYLSdEFzGrniTw'      1220  b'2009-03-08'  b'2018-06-11'   8170   \n",
              "b'ELcQDlf69kb-ihJfxZyL0A'      1204  b'2011-04-10'  b'2018-06-29'   2243   \n",
              "b'cMEtAiW60I5wE_vLfTxoJQ'      1201  b'2009-06-12'  b'2018-06-26'   2246   \n",
              "b'YRcaNlwQ6XXPFDXWtuMGdA'      1195  b'2009-06-16'  b'2018-05-05'   2630   \n",
              "\n",
              "                           funny   cool     stars  \n",
              "                             sum    sum      mean  \n",
              "user_id                                            \n",
              "b'CxDOIDnH8gp9KXzpBHJYXw'   5883   7606  3.218775  \n",
              "b'bLbSNkLggFnqwNNzzq-Ijw'  13851  18481  3.274114  \n",
              "b'PKEzKWv_FktMm2mGPjwd0Q'   5259   8724  3.658303  \n",
              "b'DK57YibC5ShBmqQl97CKog'  10150  16319  3.817662  \n",
              "b'QJI9OSEn6ujRCtrX06vs1w'   4118   6159  3.621601  \n",
              "b'd_TBs6J3twMy9GChqUEXkg'   1443   1902  3.478715  \n",
              "b'hWDybu_KvYLSdEFzGrniTw'   5459   6517  3.650000  \n",
              "b'ELcQDlf69kb-ihJfxZyL0A'   1352   1058  2.989203  \n",
              "b'cMEtAiW60I5wE_vLfTxoJQ'    967   1761  4.081599  \n",
              "b'YRcaNlwQ6XXPFDXWtuMGdA'   1088   1262  3.395816  "
            ]
          },
          "metadata": {
            "tags": []
          },
          "execution_count": 9
        }
      ]
    },
    {
      "metadata": {
        "id": "89aQlboDIz6o",
        "colab_type": "code",
        "colab": {}
      },
      "cell_type": "code",
      "source": [
        "#Stalking the top user:\n",
        "top_user_reviews=reviews[reviews['user_id']=='CxDOIDnH8gp9KXzpBHJYXw']\n",
        "# Get locations of the places he/she has reviewed\n",
        "top_user_locs=pd.merge(top_user_reviews,business,on='business_id')\n",
        "# UNique list of dates from the user's reviews\n",
        "date_list=list(top_user_locs['date'].unique())\n",
        "#rearranging data to suit the format needed for folium\n",
        "data=[]\n",
        "for date in date_list:\n",
        "    subset=top_user_locs[top_user_locs['date']==date]\n",
        "    df=subset[['latitude','longitude','date']]\n",
        "    data.append(subset[['latitude','longitude']].values.tolist())"
      ],
      "execution_count": 0,
      "outputs": []
    },
    {
      "metadata": {
        "id": "6e0ACwuGO50s",
        "colab_type": "code",
        "colab": {
          "base_uri": "https://localhost:8080/",
          "height": 808
        },
        "outputId": "2d2a5e52-b0bb-4c77-8091-68ec53742415"
      },
      "cell_type": "code",
      "source": [
        "#initialize at ontario,Canada (the location our top user is from)\n",
        "lat = 43.860397\n",
        "lon = -79.303184\n",
        "zoom_start=9\n",
        "print(\"                     Stalking the top User    \")\n",
        "# basic map\n",
        "m = folium.Map(location=[lat, lon], tiles=\"Cartodb Positron\", zoom_start=zoom_start)\n",
        "\n",
        "hm = plugins.HeatMapWithTime(data,max_opacity=0.3,auto_play=True,display_index=True)\n",
        "hm.add_to(m)\n",
        "m"
      ],
      "execution_count": 31,
      "outputs": [
        {
          "output_type": "stream",
          "text": [
            "                     Stalking the top User    \n"
          ],
          "name": "stdout"
        },
        {
          "output_type": "execute_result",
          "data": {
            "text/html": [
              "<div style=\"width:100%;\"><div style=\"position:relative;width:100%;height:0;padding-bottom:60%;\"><iframe src=\"data:text/html;charset=utf-8;base64,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\" style=\"position:absolute;width:100%;height:100%;left:0;top:0;border:none !important;\" allowfullscreen webkitallowfullscreen mozallowfullscreen></iframe></div></div>"
            ],
            "text/plain": [
              "<folium.folium.Map at 0x7f11850b8208>"
            ]
          },
          "metadata": {
            "tags": []
          },
          "execution_count": 31
        }
      ]
    },
    {
      "metadata": {
        "id": "QH5X5Sn6O8zK",
        "colab_type": "code",
        "colab": {
          "base_uri": "https://localhost:8080/",
          "height": 324
        },
        "outputId": "8708a4b2-af08-4d64-c4e6-b37c052c9193"
      },
      "cell_type": "code",
      "source": [
        "!pip install folium"
      ],
      "execution_count": 7,
      "outputs": [
        {
          "output_type": "stream",
          "text": [
            "Collecting folium\n",
            "\u001b[?25l  Downloading https://files.pythonhosted.org/packages/88/89/8186c3441eb2a224d2896d9a8db6ded20ddd225f109e6144494a9893a0c1/folium-0.6.0-py3-none-any.whl (79kB)\n",
            "\u001b[K    100% |████████████████████████████████| 81kB 2.5MB/s \n",
            "\u001b[?25hCollecting branca>=0.3.0 (from folium)\n",
            "  Downloading https://files.pythonhosted.org/packages/63/36/1c93318e9653f4e414a2e0c3b98fc898b4970e939afeedeee6075dd3b703/branca-0.3.1-py3-none-any.whl\n",
            "Requirement already satisfied: numpy in /usr/local/lib/python3.6/dist-packages (from folium) (1.14.6)\n",
            "Requirement already satisfied: jinja2 in /usr/local/lib/python3.6/dist-packages (from folium) (2.10)\n",
            "Requirement already satisfied: requests in /usr/local/lib/python3.6/dist-packages (from folium) (2.18.4)\n",
            "Requirement already satisfied: six in /usr/local/lib/python3.6/dist-packages (from folium) (1.11.0)\n",
            "Requirement already satisfied: MarkupSafe>=0.23 in /usr/local/lib/python3.6/dist-packages (from jinja2->folium) (1.1.0)\n",
            "Requirement already satisfied: chardet<3.1.0,>=3.0.2 in /usr/local/lib/python3.6/dist-packages (from requests->folium) (3.0.4)\n",
            "Requirement already satisfied: certifi>=2017.4.17 in /usr/local/lib/python3.6/dist-packages (from requests->folium) (2018.10.15)\n",
            "Requirement already satisfied: idna<2.7,>=2.5 in /usr/local/lib/python3.6/dist-packages (from requests->folium) (2.6)\n",
            "Requirement already satisfied: urllib3<1.23,>=1.21.1 in /usr/local/lib/python3.6/dist-packages (from requests->folium) (1.22)\n",
            "Installing collected packages: branca, folium\n",
            "Successfully installed branca-0.3.1 folium-0.6.0\n"
          ],
          "name": "stdout"
        }
      ]
    },
    {
      "metadata": {
        "id": "0aDdt3mUXU5N",
        "colab_type": "code",
        "colab": {
          "base_uri": "https://localhost:8080/",
          "height": 723
        },
        "outputId": "3f9cf8ec-4b14-4d59-d532-4a8ea42fee96"
      },
      "cell_type": "code",
      "source": [
        "# Cap max reviews to 30 for better visuals\n",
        "user_agg[('review_id','count')].loc[user_agg[('review_id','count')]>30] = 30\n",
        "plt.figure(figsize=(12,5))\n",
        "plt.suptitle(\"User Deep dive\",fontsize=20)\n",
        "gridspec.GridSpec(1,2)\n",
        "plt.subplot2grid((1,2),(0,0))\n",
        "#Cumulative Distribution\n",
        "ax=sns.kdeplot(user_agg[('review_id','count')],shade=True,color='r')\n",
        "plt.title(\"How many reviews does an average user give?\",fontsize=15)\n",
        "plt.xlabel('# of reviews given', fontsize=12)\n",
        "plt.ylabel('# of users', fontsize=12)\n",
        "\n",
        "#Cumulative Distribution\n",
        "plt.subplot2grid((1,2),(0,1))\n",
        "sns.distplot(user_agg[('review_id','count')],\n",
        "             kde_kws=dict(cumulative=True))\n",
        "plt.title(\"Cumulative distance of user reviews\",fontsize=15)\n",
        "plt.ylabel('Cumulative percentage of users', fontsize=12)\n",
        "plt.xlabel('# of reviews given', fontsize=12)\n",
        "\n",
        "plt.show()\n",
        "end_time=time.time()\n",
        "start_time=time.time()\n",
        "print(\"Took\",end_time-start_time,\"s\")\n"
      ],
      "execution_count": 39,
      "outputs": [
        {
          "output_type": "stream",
          "text": [
            "/usr/local/lib/python3.6/dist-packages/pandas/core/indexing.py:194: SettingWithCopyWarning:\n",
            "\n",
            "\n",
            "A value is trying to be set on a copy of a slice from a DataFrame\n",
            "\n",
            "See the caveats in the documentation: http://pandas.pydata.org/pandas-docs/stable/indexing.html#indexing-view-versus-copy\n",
            "\n"
          ],
          "name": "stderr"
        },
        {
          "output_type": "display_data",
          "data": {
            "image/png": "[encoded data removed]",
            "text/plain": [
              "<matplotlib.figure.Figure at 0x7f118501fef0>"
            ]
          },
          "metadata": {
            "tags": []
          }
        },
        {
          "output_type": "stream",
          "text": [
            "Took -3.361701965332031e-05 s\n"
          ],
          "name": "stdout"
        },
        {
          "output_type": "error",
          "ename": "NameError",
          "evalue": "ignored",
          "traceback": [
            "\u001b[0;31m---------------------------------------------------------------------------\u001b[0m",
            "\u001b[0;31mNameError\u001b[0m                                 Traceback (most recent call last)",
            "\u001b[0;32m<ipython-input-39-7b64320cd230>\u001b[0m in \u001b[0;36m<module>\u001b[0;34m()\u001b[0m\n\u001b[1;32m     22\u001b[0m \u001b[0mstart_time\u001b[0m\u001b[0;34m=\u001b[0m\u001b[0mtime\u001b[0m\u001b[0;34m.\u001b[0m\u001b[0mtime\u001b[0m\u001b[0;34m(\u001b[0m\u001b[0;34m)\u001b[0m\u001b[0;34m\u001b[0m\u001b[0m\n\u001b[1;32m     23\u001b[0m \u001b[0mprint\u001b[0m\u001b[0;34m(\u001b[0m\u001b[0;34m\"Took\"\u001b[0m\u001b[0;34m,\u001b[0m\u001b[0mend_time\u001b[0m\u001b[0;34m-\u001b[0m\u001b[0mstart_time\u001b[0m\u001b[0;34m,\u001b[0m\u001b[0;34m\"s\"\u001b[0m\u001b[0;34m)\u001b[0m\u001b[0;34m\u001b[0m\u001b[0m\n\u001b[0;32m---> 24\u001b[0;31m \u001b[0mplt\u001b[0m\u001b[0;34m.\u001b[0m\u001b[0mtitle\u001b[0m\u001b[0;34m(\u001b[0m\u001b[0mtitle\u001b[0m\u001b[0;34m)\u001b[0m\u001b[0;34m\u001b[0m\u001b[0m\n\u001b[0m\u001b[1;32m     25\u001b[0m \u001b[0mplt\u001b[0m\u001b[0;34m.\u001b[0m\u001b[0msavefig\u001b[0m\u001b[0;34m(\u001b[0m\u001b[0mfname\u001b[0m\u001b[0;34m=\u001b[0m\u001b[0mtitle\u001b[0m\u001b[0;34m+\u001b[0m\u001b[0;34m'.png'\u001b[0m\u001b[0;34m)\u001b[0m\u001b[0;34m;\u001b[0m\u001b[0;34m\u001b[0m\u001b[0m\n",
            "\u001b[0;31mNameError\u001b[0m: name 'title' is not defined"
          ]
        }
      ]
    },
    {
      "metadata": {
        "id": "fqsH6JNrp0Om",
        "colab_type": "code",
        "colab": {}
      },
      "cell_type": "code",
      "source": [
        "def highlight_max(data, color='yellow'):\n",
        "    '''\n",
        "    highlight the maximum in a Series or DataFrame\n",
        "    '''\n",
        "    attr = 'background-color: {}'.format(color)\n",
        "    if data.ndim == 1:  # Series from .apply(axis=0) or axis=1\n",
        "        is_max = data == data.max()\n",
        "        return [attr if v else '' for v in is_max]\n",
        "    else:  # from .apply(axis=None)\n",
        "        is_max = data == data.max().max()\n",
        "        return pd.DataFrame(np.where(is_max, attr, ''),\n",
        "                            index=data.index, columns=data.columns)"
      ],
      "execution_count": 0,
      "outputs": []
    },
    {
      "metadata": {
        "id": "2RoU0XtSp_nQ",
        "colab_type": "code",
        "colab": {
          "base_uri": "https://localhost:8080/",
          "height": 553
        },
        "outputId": "79d88dab-9c3d-4e3e-b24e-4e6d3cdcac37"
      },
      "cell_type": "code",
      "source": [
        "#checkins exploration\n",
        "df=checkin.groupby(['weekday','hour'])['checkins'].sum()\n",
        "df=df.reset_index()\n",
        "df=df.pivot(index='hour',columns='weekday')[['checkins']]\n",
        "df.columns = df.columns.droplevel()\n",
        "df=df.reset_index()\n",
        "# Workaround for not being able to sort the values by hour\n",
        "df.hour=df.hour.apply(lambda x: str(x).split(':')[0])\n",
        "df.hour=df.hour.astype(int)\n",
        "# Sort the hour column \n",
        "df=df.sort_values('hour')\n",
        "df=df[['hour','Mon', 'Tue','Wed','Thu','Fri','Sat', 'Sun' ]]\n",
        "# df=df.set_index('hour')\n",
        "cm = sns.light_palette(\"orange\", as_cmap=True)\n",
        "#highlight the max of each column\n",
        "df.style.apply(highlight_max, color='darkorange', axis=0)"
      ],
      "execution_count": 72,
      "outputs": [
        {
          "output_type": "execute_result",
          "data": {
            "text/html": [
              "<style  type=\"text/css\" >\n",
              "    #T_475fb7b8_ec71_11e8_9eb6_0242ac1c0002row1_col6 {\n",
              "            background-color:  darkorange;\n",
              "        }    #T_475fb7b8_ec71_11e8_9eb6_0242ac1c0002row2_col4 {\n",
              "            background-color:  darkorange;\n",
              "        }    #T_475fb7b8_ec71_11e8_9eb6_0242ac1c0002row3_col3 {\n",
              "            background-color:  darkorange;\n",
              "        }    #T_475fb7b8_ec71_11e8_9eb6_0242ac1c0002row8_col5 {\n",
              "            background-color:  darkorange;\n",
              "        }    #T_475fb7b8_ec71_11e8_9eb6_0242ac1c0002row20_col7 {\n",
              "            background-color:  darkorange;\n",
              "        }    #T_475fb7b8_ec71_11e8_9eb6_0242ac1c0002row21_col1 {\n",
              "            background-color:  darkorange;\n",
              "        }    #T_475fb7b8_ec71_11e8_9eb6_0242ac1c0002row23_col0 {\n",
              "            background-color:  darkorange;\n",
              "        }    #T_475fb7b8_ec71_11e8_9eb6_0242ac1c0002row23_col2 {\n",
              "            background-color:  darkorange;\n",
              "        }</style>  \n",
              "<table id=\"T_475fb7b8_ec71_11e8_9eb6_0242ac1c0002\" > \n",
              "<thead>    <tr> \n",
              "        <th class=\"index_name level0\" >weekday</th> \n",
              "        <th class=\"col_heading level0 col0\" >hour</th> \n",
              "        <th class=\"col_heading level0 col1\" >Mon</th> \n",
              "        <th class=\"col_heading level0 col2\" >Tue</th> \n",
              "        <th class=\"col_heading level0 col3\" >Wed</th> \n",
              "        <th class=\"col_heading level0 col4\" >Thu</th> \n",
              "        <th class=\"col_heading level0 col5\" >Fri</th> \n",
              "        <th class=\"col_heading level0 col6\" >Sat</th> \n",
              "        <th class=\"col_heading level0 col7\" >Sun</th> \n",
              "    </tr></thead> \n",
              "<tbody>    <tr> \n",
              "        <th id=\"T_475fb7b8_ec71_11e8_9eb6_0242ac1c0002level0_row0\" class=\"row_heading level0 row0\" >0</th> \n",
              "        <td id=\"T_475fb7b8_ec71_11e8_9eb6_0242ac1c0002row0_col0\" class=\"data row0 col0\" >0</td> \n",
              "        <td id=\"T_475fb7b8_ec71_11e8_9eb6_0242ac1c0002row0_col1\" class=\"data row0 col1\" >558</td> \n",
              "        <td id=\"T_475fb7b8_ec71_11e8_9eb6_0242ac1c0002row0_col2\" class=\"data row0 col2\" >127</td> \n",
              "        <td id=\"T_475fb7b8_ec71_11e8_9eb6_0242ac1c0002row0_col3\" class=\"data row0 col3\" >680</td> \n",
              "        <td id=\"T_475fb7b8_ec71_11e8_9eb6_0242ac1c0002row0_col4\" class=\"data row0 col4\" >1720</td> \n",
              "        <td id=\"T_475fb7b8_ec71_11e8_9eb6_0242ac1c0002row0_col5\" class=\"data row0 col5\" >2321</td> \n",
              "        <td id=\"T_475fb7b8_ec71_11e8_9eb6_0242ac1c0002row0_col6\" class=\"data row0 col6\" >16442</td> \n",
              "        <td id=\"T_475fb7b8_ec71_11e8_9eb6_0242ac1c0002row0_col7\" class=\"data row0 col7\" >1028</td> \n",
              "    </tr>    <tr> \n",
              "        <th id=\"T_475fb7b8_ec71_11e8_9eb6_0242ac1c0002level0_row1\" class=\"row_heading level0 row1\" >11</th> \n",
              "        <td id=\"T_475fb7b8_ec71_11e8_9eb6_0242ac1c0002row1_col0\" class=\"data row1 col0\" >1</td> \n",
              "        <td id=\"T_475fb7b8_ec71_11e8_9eb6_0242ac1c0002row1_col1\" class=\"data row1 col1\" >849</td> \n",
              "        <td id=\"T_475fb7b8_ec71_11e8_9eb6_0242ac1c0002row1_col2\" class=\"data row1 col2\" >158</td> \n",
              "        <td id=\"T_475fb7b8_ec71_11e8_9eb6_0242ac1c0002row1_col3\" class=\"data row1 col3\" >914</td> \n",
              "        <td id=\"T_475fb7b8_ec71_11e8_9eb6_0242ac1c0002row1_col4\" class=\"data row1 col4\" >494</td> \n",
              "        <td id=\"T_475fb7b8_ec71_11e8_9eb6_0242ac1c0002row1_col5\" class=\"data row1 col5\" >540</td> \n",
              "        <td id=\"T_475fb7b8_ec71_11e8_9eb6_0242ac1c0002row1_col6\" class=\"data row1 col6\" >81753</td> \n",
              "        <td id=\"T_475fb7b8_ec71_11e8_9eb6_0242ac1c0002row1_col7\" class=\"data row1 col7\" >795</td> \n",
              "    </tr>    <tr> \n",
              "        <th id=\"T_475fb7b8_ec71_11e8_9eb6_0242ac1c0002level0_row2\" class=\"row_heading level0 row2\" >16</th> \n",
              "        <td id=\"T_475fb7b8_ec71_11e8_9eb6_0242ac1c0002row2_col0\" class=\"data row2 col0\" >2</td> \n",
              "        <td id=\"T_475fb7b8_ec71_11e8_9eb6_0242ac1c0002row2_col1\" class=\"data row2 col1\" >1247</td> \n",
              "        <td id=\"T_475fb7b8_ec71_11e8_9eb6_0242ac1c0002row2_col2\" class=\"data row2 col2\" >105</td> \n",
              "        <td id=\"T_475fb7b8_ec71_11e8_9eb6_0242ac1c0002row2_col3\" class=\"data row2 col3\" >275</td> \n",
              "        <td id=\"T_475fb7b8_ec71_11e8_9eb6_0242ac1c0002row2_col4\" class=\"data row2 col4\" >2947</td> \n",
              "        <td id=\"T_475fb7b8_ec71_11e8_9eb6_0242ac1c0002row2_col5\" class=\"data row2 col5\" >639</td> \n",
              "        <td id=\"T_475fb7b8_ec71_11e8_9eb6_0242ac1c0002row2_col6\" class=\"data row2 col6\" >2324</td> \n",
              "        <td id=\"T_475fb7b8_ec71_11e8_9eb6_0242ac1c0002row2_col7\" class=\"data row2 col7\" >725</td> \n",
              "    </tr>    <tr> \n",
              "        <th id=\"T_475fb7b8_ec71_11e8_9eb6_0242ac1c0002level0_row3\" class=\"row_heading level0 row3\" >17</th> \n",
              "        <td id=\"T_475fb7b8_ec71_11e8_9eb6_0242ac1c0002row3_col0\" class=\"data row3 col0\" >3</td> \n",
              "        <td id=\"T_475fb7b8_ec71_11e8_9eb6_0242ac1c0002row3_col1\" class=\"data row3 col1\" >1678</td> \n",
              "        <td id=\"T_475fb7b8_ec71_11e8_9eb6_0242ac1c0002row3_col2\" class=\"data row3 col2\" >77</td> \n",
              "        <td id=\"T_475fb7b8_ec71_11e8_9eb6_0242ac1c0002row3_col3\" class=\"data row3 col3\" >5177</td> \n",
              "        <td id=\"T_475fb7b8_ec71_11e8_9eb6_0242ac1c0002row3_col4\" class=\"data row3 col4\" >185</td> \n",
              "        <td id=\"T_475fb7b8_ec71_11e8_9eb6_0242ac1c0002row3_col5\" class=\"data row3 col5\" >169</td> \n",
              "        <td id=\"T_475fb7b8_ec71_11e8_9eb6_0242ac1c0002row3_col6\" class=\"data row3 col6\" >3340</td> \n",
              "        <td id=\"T_475fb7b8_ec71_11e8_9eb6_0242ac1c0002row3_col7\" class=\"data row3 col7\" >766</td> \n",
              "    </tr>    <tr> \n",
              "        <th id=\"T_475fb7b8_ec71_11e8_9eb6_0242ac1c0002level0_row4\" class=\"row_heading level0 row4\" >18</th> \n",
              "        <td id=\"T_475fb7b8_ec71_11e8_9eb6_0242ac1c0002row4_col0\" class=\"data row4 col0\" >4</td> \n",
              "        <td id=\"T_475fb7b8_ec71_11e8_9eb6_0242ac1c0002row4_col1\" class=\"data row4 col1\" >2437</td> \n",
              "        <td id=\"T_475fb7b8_ec71_11e8_9eb6_0242ac1c0002row4_col2\" class=\"data row4 col2\" >73</td> \n",
              "        <td id=\"T_475fb7b8_ec71_11e8_9eb6_0242ac1c0002row4_col3\" class=\"data row4 col3\" >43</td> \n",
              "        <td id=\"T_475fb7b8_ec71_11e8_9eb6_0242ac1c0002row4_col4\" class=\"data row4 col4\" >91</td> \n",
              "        <td id=\"T_475fb7b8_ec71_11e8_9eb6_0242ac1c0002row4_col5\" class=\"data row4 col5\" >75</td> \n",
              "        <td id=\"T_475fb7b8_ec71_11e8_9eb6_0242ac1c0002row4_col6\" class=\"data row4 col6\" >627</td> \n",
              "        <td id=\"T_475fb7b8_ec71_11e8_9eb6_0242ac1c0002row4_col7\" class=\"data row4 col7\" >58</td> \n",
              "    </tr>    <tr> \n",
              "        <th id=\"T_475fb7b8_ec71_11e8_9eb6_0242ac1c0002level0_row5\" class=\"row_heading level0 row5\" >19</th> \n",
              "        <td id=\"T_475fb7b8_ec71_11e8_9eb6_0242ac1c0002row5_col0\" class=\"data row5 col0\" >5</td> \n",
              "        <td id=\"T_475fb7b8_ec71_11e8_9eb6_0242ac1c0002row5_col1\" class=\"data row5 col1\" >2220</td> \n",
              "        <td id=\"T_475fb7b8_ec71_11e8_9eb6_0242ac1c0002row5_col2\" class=\"data row5 col2\" >193</td> \n",
              "        <td id=\"T_475fb7b8_ec71_11e8_9eb6_0242ac1c0002row5_col3\" class=\"data row5 col3\" >62</td> \n",
              "        <td id=\"T_475fb7b8_ec71_11e8_9eb6_0242ac1c0002row5_col4\" class=\"data row5 col4\" >38</td> \n",
              "        <td id=\"T_475fb7b8_ec71_11e8_9eb6_0242ac1c0002row5_col5\" class=\"data row5 col5\" >61</td> \n",
              "        <td id=\"T_475fb7b8_ec71_11e8_9eb6_0242ac1c0002row5_col6\" class=\"data row5 col6\" >722</td> \n",
              "        <td id=\"T_475fb7b8_ec71_11e8_9eb6_0242ac1c0002row5_col7\" class=\"data row5 col7\" >72</td> \n",
              "    </tr>    <tr> \n",
              "        <th id=\"T_475fb7b8_ec71_11e8_9eb6_0242ac1c0002level0_row6\" class=\"row_heading level0 row6\" >20</th> \n",
              "        <td id=\"T_475fb7b8_ec71_11e8_9eb6_0242ac1c0002row6_col0\" class=\"data row6 col0\" >6</td> \n",
              "        <td id=\"T_475fb7b8_ec71_11e8_9eb6_0242ac1c0002row6_col1\" class=\"data row6 col1\" >1813</td> \n",
              "        <td id=\"T_475fb7b8_ec71_11e8_9eb6_0242ac1c0002row6_col2\" class=\"data row6 col2\" >84</td> \n",
              "        <td id=\"T_475fb7b8_ec71_11e8_9eb6_0242ac1c0002row6_col3\" class=\"data row6 col3\" >13</td> \n",
              "        <td id=\"T_475fb7b8_ec71_11e8_9eb6_0242ac1c0002row6_col4\" class=\"data row6 col4\" >28</td> \n",
              "        <td id=\"T_475fb7b8_ec71_11e8_9eb6_0242ac1c0002row6_col5\" class=\"data row6 col5\" >32</td> \n",
              "        <td id=\"T_475fb7b8_ec71_11e8_9eb6_0242ac1c0002row6_col6\" class=\"data row6 col6\" >227</td> \n",
              "        <td id=\"T_475fb7b8_ec71_11e8_9eb6_0242ac1c0002row6_col7\" class=\"data row6 col7\" >69</td> \n",
              "    </tr>    <tr> \n",
              "        <th id=\"T_475fb7b8_ec71_11e8_9eb6_0242ac1c0002level0_row7\" class=\"row_heading level0 row7\" >21</th> \n",
              "        <td id=\"T_475fb7b8_ec71_11e8_9eb6_0242ac1c0002row7_col0\" class=\"data row7 col0\" >7</td> \n",
              "        <td id=\"T_475fb7b8_ec71_11e8_9eb6_0242ac1c0002row7_col1\" class=\"data row7 col1\" >2118</td> \n",
              "        <td id=\"T_475fb7b8_ec71_11e8_9eb6_0242ac1c0002row7_col2\" class=\"data row7 col2\" >101</td> \n",
              "        <td id=\"T_475fb7b8_ec71_11e8_9eb6_0242ac1c0002row7_col3\" class=\"data row7 col3\" >23</td> \n",
              "        <td id=\"T_475fb7b8_ec71_11e8_9eb6_0242ac1c0002row7_col4\" class=\"data row7 col4\" >18</td> \n",
              "        <td id=\"T_475fb7b8_ec71_11e8_9eb6_0242ac1c0002row7_col5\" class=\"data row7 col5\" >53</td> \n",
              "        <td id=\"T_475fb7b8_ec71_11e8_9eb6_0242ac1c0002row7_col6\" class=\"data row7 col6\" >360</td> \n",
              "        <td id=\"T_475fb7b8_ec71_11e8_9eb6_0242ac1c0002row7_col7\" class=\"data row7 col7\" >79</td> \n",
              "    </tr>    <tr> \n",
              "        <th id=\"T_475fb7b8_ec71_11e8_9eb6_0242ac1c0002level0_row8\" class=\"row_heading level0 row8\" >22</th> \n",
              "        <td id=\"T_475fb7b8_ec71_11e8_9eb6_0242ac1c0002row8_col0\" class=\"data row8 col0\" >8</td> \n",
              "        <td id=\"T_475fb7b8_ec71_11e8_9eb6_0242ac1c0002row8_col1\" class=\"data row8 col1\" >20</td> \n",
              "        <td id=\"T_475fb7b8_ec71_11e8_9eb6_0242ac1c0002row8_col2\" class=\"data row8 col2\" >38</td> \n",
              "        <td id=\"T_475fb7b8_ec71_11e8_9eb6_0242ac1c0002row8_col3\" class=\"data row8 col3\" >155</td> \n",
              "        <td id=\"T_475fb7b8_ec71_11e8_9eb6_0242ac1c0002row8_col4\" class=\"data row8 col4\" >393</td> \n",
              "        <td id=\"T_475fb7b8_ec71_11e8_9eb6_0242ac1c0002row8_col5\" class=\"data row8 col5\" >3422</td> \n",
              "        <td id=\"T_475fb7b8_ec71_11e8_9eb6_0242ac1c0002row8_col6\" class=\"data row8 col6\" >210</td> \n",
              "        <td id=\"T_475fb7b8_ec71_11e8_9eb6_0242ac1c0002row8_col7\" class=\"data row8 col7\" >33</td> \n",
              "    </tr>    <tr> \n",
              "        <th id=\"T_475fb7b8_ec71_11e8_9eb6_0242ac1c0002level0_row9\" class=\"row_heading level0 row9\" >23</th> \n",
              "        <td id=\"T_475fb7b8_ec71_11e8_9eb6_0242ac1c0002row9_col0\" class=\"data row9 col0\" >9</td> \n",
              "        <td id=\"T_475fb7b8_ec71_11e8_9eb6_0242ac1c0002row9_col1\" class=\"data row9 col1\" >29</td> \n",
              "        <td id=\"T_475fb7b8_ec71_11e8_9eb6_0242ac1c0002row9_col2\" class=\"data row9 col2\" >48</td> \n",
              "        <td id=\"T_475fb7b8_ec71_11e8_9eb6_0242ac1c0002row9_col3\" class=\"data row9 col3\" >347</td> \n",
              "        <td id=\"T_475fb7b8_ec71_11e8_9eb6_0242ac1c0002row9_col4\" class=\"data row9 col4\" >151</td> \n",
              "        <td id=\"T_475fb7b8_ec71_11e8_9eb6_0242ac1c0002row9_col5\" class=\"data row9 col5\" >1017</td> \n",
              "        <td id=\"T_475fb7b8_ec71_11e8_9eb6_0242ac1c0002row9_col6\" class=\"data row9 col6\" >416</td> \n",
              "        <td id=\"T_475fb7b8_ec71_11e8_9eb6_0242ac1c0002row9_col7\" class=\"data row9 col7\" >97</td> \n",
              "    </tr>    <tr> \n",
              "        <th id=\"T_475fb7b8_ec71_11e8_9eb6_0242ac1c0002level0_row10\" class=\"row_heading level0 row10\" >1</th> \n",
              "        <td id=\"T_475fb7b8_ec71_11e8_9eb6_0242ac1c0002row10_col0\" class=\"data row10 col0\" >10</td> \n",
              "        <td id=\"T_475fb7b8_ec71_11e8_9eb6_0242ac1c0002row10_col1\" class=\"data row10 col1\" >21</td> \n",
              "        <td id=\"T_475fb7b8_ec71_11e8_9eb6_0242ac1c0002row10_col2\" class=\"data row10 col2\" >43</td> \n",
              "        <td id=\"T_475fb7b8_ec71_11e8_9eb6_0242ac1c0002row10_col3\" class=\"data row10 col3\" >18</td> \n",
              "        <td id=\"T_475fb7b8_ec71_11e8_9eb6_0242ac1c0002row10_col4\" class=\"data row10 col4\" >435</td> \n",
              "        <td id=\"T_475fb7b8_ec71_11e8_9eb6_0242ac1c0002row10_col5\" class=\"data row10 col5\" >97</td> \n",
              "        <td id=\"T_475fb7b8_ec71_11e8_9eb6_0242ac1c0002row10_col6\" class=\"data row10 col6\" >59</td> \n",
              "        <td id=\"T_475fb7b8_ec71_11e8_9eb6_0242ac1c0002row10_col7\" class=\"data row10 col7\" >73</td> \n",
              "    </tr>    <tr> \n",
              "        <th id=\"T_475fb7b8_ec71_11e8_9eb6_0242ac1c0002level0_row11\" class=\"row_heading level0 row11\" >2</th> \n",
              "        <td id=\"T_475fb7b8_ec71_11e8_9eb6_0242ac1c0002row11_col0\" class=\"data row11 col0\" >11</td> \n",
              "        <td id=\"T_475fb7b8_ec71_11e8_9eb6_0242ac1c0002row11_col1\" class=\"data row11 col1\" >40</td> \n",
              "        <td id=\"T_475fb7b8_ec71_11e8_9eb6_0242ac1c0002row11_col2\" class=\"data row11 col2\" >29</td> \n",
              "        <td id=\"T_475fb7b8_ec71_11e8_9eb6_0242ac1c0002row11_col3\" class=\"data row11 col3\" >29</td> \n",
              "        <td id=\"T_475fb7b8_ec71_11e8_9eb6_0242ac1c0002row11_col4\" class=\"data row11 col4\" >115</td> \n",
              "        <td id=\"T_475fb7b8_ec71_11e8_9eb6_0242ac1c0002row11_col5\" class=\"data row11 col5\" >113</td> \n",
              "        <td id=\"T_475fb7b8_ec71_11e8_9eb6_0242ac1c0002row11_col6\" class=\"data row11 col6\" >122</td> \n",
              "        <td id=\"T_475fb7b8_ec71_11e8_9eb6_0242ac1c0002row11_col7\" class=\"data row11 col7\" >236</td> \n",
              "    </tr>    <tr> \n",
              "        <th id=\"T_475fb7b8_ec71_11e8_9eb6_0242ac1c0002level0_row12\" class=\"row_heading level0 row12\" >3</th> \n",
              "        <td id=\"T_475fb7b8_ec71_11e8_9eb6_0242ac1c0002row12_col0\" class=\"data row12 col0\" >12</td> \n",
              "        <td id=\"T_475fb7b8_ec71_11e8_9eb6_0242ac1c0002row12_col1\" class=\"data row12 col1\" >29</td> \n",
              "        <td id=\"T_475fb7b8_ec71_11e8_9eb6_0242ac1c0002row12_col2\" class=\"data row12 col2\" >44</td> \n",
              "        <td id=\"T_475fb7b8_ec71_11e8_9eb6_0242ac1c0002row12_col3\" class=\"data row12 col3\" >41</td> \n",
              "        <td id=\"T_475fb7b8_ec71_11e8_9eb6_0242ac1c0002row12_col4\" class=\"data row12 col4\" >128</td> \n",
              "        <td id=\"T_475fb7b8_ec71_11e8_9eb6_0242ac1c0002row12_col5\" class=\"data row12 col5\" >130</td> \n",
              "        <td id=\"T_475fb7b8_ec71_11e8_9eb6_0242ac1c0002row12_col6\" class=\"data row12 col6\" >205</td> \n",
              "        <td id=\"T_475fb7b8_ec71_11e8_9eb6_0242ac1c0002row12_col7\" class=\"data row12 col7\" >71</td> \n",
              "    </tr>    <tr> \n",
              "        <th id=\"T_475fb7b8_ec71_11e8_9eb6_0242ac1c0002level0_row13\" class=\"row_heading level0 row13\" >4</th> \n",
              "        <td id=\"T_475fb7b8_ec71_11e8_9eb6_0242ac1c0002row13_col0\" class=\"data row13 col0\" >13</td> \n",
              "        <td id=\"T_475fb7b8_ec71_11e8_9eb6_0242ac1c0002row13_col1\" class=\"data row13 col1\" >85</td> \n",
              "        <td id=\"T_475fb7b8_ec71_11e8_9eb6_0242ac1c0002row13_col2\" class=\"data row13 col2\" >132</td> \n",
              "        <td id=\"T_475fb7b8_ec71_11e8_9eb6_0242ac1c0002row13_col3\" class=\"data row13 col3\" >97</td> \n",
              "        <td id=\"T_475fb7b8_ec71_11e8_9eb6_0242ac1c0002row13_col4\" class=\"data row13 col4\" >138</td> \n",
              "        <td id=\"T_475fb7b8_ec71_11e8_9eb6_0242ac1c0002row13_col5\" class=\"data row13 col5\" >147</td> \n",
              "        <td id=\"T_475fb7b8_ec71_11e8_9eb6_0242ac1c0002row13_col6\" class=\"data row13 col6\" >530</td> \n",
              "        <td id=\"T_475fb7b8_ec71_11e8_9eb6_0242ac1c0002row13_col7\" class=\"data row13 col7\" >175</td> \n",
              "    </tr>    <tr> \n",
              "        <th id=\"T_475fb7b8_ec71_11e8_9eb6_0242ac1c0002level0_row14\" class=\"row_heading level0 row14\" >5</th> \n",
              "        <td id=\"T_475fb7b8_ec71_11e8_9eb6_0242ac1c0002row14_col0\" class=\"data row14 col0\" >14</td> \n",
              "        <td id=\"T_475fb7b8_ec71_11e8_9eb6_0242ac1c0002row14_col1\" class=\"data row14 col1\" >296</td> \n",
              "        <td id=\"T_475fb7b8_ec71_11e8_9eb6_0242ac1c0002row14_col2\" class=\"data row14 col2\" >345</td> \n",
              "        <td id=\"T_475fb7b8_ec71_11e8_9eb6_0242ac1c0002row14_col3\" class=\"data row14 col3\" >198</td> \n",
              "        <td id=\"T_475fb7b8_ec71_11e8_9eb6_0242ac1c0002row14_col4\" class=\"data row14 col4\" >125</td> \n",
              "        <td id=\"T_475fb7b8_ec71_11e8_9eb6_0242ac1c0002row14_col5\" class=\"data row14 col5\" >132</td> \n",
              "        <td id=\"T_475fb7b8_ec71_11e8_9eb6_0242ac1c0002row14_col6\" class=\"data row14 col6\" >957</td> \n",
              "        <td id=\"T_475fb7b8_ec71_11e8_9eb6_0242ac1c0002row14_col7\" class=\"data row14 col7\" >110</td> \n",
              "    </tr>    <tr> \n",
              "        <th id=\"T_475fb7b8_ec71_11e8_9eb6_0242ac1c0002level0_row15\" class=\"row_heading level0 row15\" >6</th> \n",
              "        <td id=\"T_475fb7b8_ec71_11e8_9eb6_0242ac1c0002row15_col0\" class=\"data row15 col0\" >15</td> \n",
              "        <td id=\"T_475fb7b8_ec71_11e8_9eb6_0242ac1c0002row15_col1\" class=\"data row15 col1\" >823</td> \n",
              "        <td id=\"T_475fb7b8_ec71_11e8_9eb6_0242ac1c0002row15_col2\" class=\"data row15 col2\" >875</td> \n",
              "        <td id=\"T_475fb7b8_ec71_11e8_9eb6_0242ac1c0002row15_col3\" class=\"data row15 col3\" >629</td> \n",
              "        <td id=\"T_475fb7b8_ec71_11e8_9eb6_0242ac1c0002row15_col4\" class=\"data row15 col4\" >515</td> \n",
              "        <td id=\"T_475fb7b8_ec71_11e8_9eb6_0242ac1c0002row15_col5\" class=\"data row15 col5\" >345</td> \n",
              "        <td id=\"T_475fb7b8_ec71_11e8_9eb6_0242ac1c0002row15_col6\" class=\"data row15 col6\" >1901</td> \n",
              "        <td id=\"T_475fb7b8_ec71_11e8_9eb6_0242ac1c0002row15_col7\" class=\"data row15 col7\" >146</td> \n",
              "    </tr>    <tr> \n",
              "        <th id=\"T_475fb7b8_ec71_11e8_9eb6_0242ac1c0002level0_row16\" class=\"row_heading level0 row16\" >7</th> \n",
              "        <td id=\"T_475fb7b8_ec71_11e8_9eb6_0242ac1c0002row16_col0\" class=\"data row16 col0\" >16</td> \n",
              "        <td id=\"T_475fb7b8_ec71_11e8_9eb6_0242ac1c0002row16_col1\" class=\"data row16 col1\" >358</td> \n",
              "        <td id=\"T_475fb7b8_ec71_11e8_9eb6_0242ac1c0002row16_col2\" class=\"data row16 col2\" >521</td> \n",
              "        <td id=\"T_475fb7b8_ec71_11e8_9eb6_0242ac1c0002row16_col3\" class=\"data row16 col3\" >638</td> \n",
              "        <td id=\"T_475fb7b8_ec71_11e8_9eb6_0242ac1c0002row16_col4\" class=\"data row16 col4\" >459</td> \n",
              "        <td id=\"T_475fb7b8_ec71_11e8_9eb6_0242ac1c0002row16_col5\" class=\"data row16 col5\" >281</td> \n",
              "        <td id=\"T_475fb7b8_ec71_11e8_9eb6_0242ac1c0002row16_col6\" class=\"data row16 col6\" >4008</td> \n",
              "        <td id=\"T_475fb7b8_ec71_11e8_9eb6_0242ac1c0002row16_col7\" class=\"data row16 col7\" >106</td> \n",
              "    </tr>    <tr> \n",
              "        <th id=\"T_475fb7b8_ec71_11e8_9eb6_0242ac1c0002level0_row17\" class=\"row_heading level0 row17\" >8</th> \n",
              "        <td id=\"T_475fb7b8_ec71_11e8_9eb6_0242ac1c0002row17_col0\" class=\"data row17 col0\" >17</td> \n",
              "        <td id=\"T_475fb7b8_ec71_11e8_9eb6_0242ac1c0002row17_col1\" class=\"data row17 col1\" >1706</td> \n",
              "        <td id=\"T_475fb7b8_ec71_11e8_9eb6_0242ac1c0002row17_col2\" class=\"data row17 col2\" >697</td> \n",
              "        <td id=\"T_475fb7b8_ec71_11e8_9eb6_0242ac1c0002row17_col3\" class=\"data row17 col3\" >1262</td> \n",
              "        <td id=\"T_475fb7b8_ec71_11e8_9eb6_0242ac1c0002row17_col4\" class=\"data row17 col4\" >280</td> \n",
              "        <td id=\"T_475fb7b8_ec71_11e8_9eb6_0242ac1c0002row17_col5\" class=\"data row17 col5\" >448</td> \n",
              "        <td id=\"T_475fb7b8_ec71_11e8_9eb6_0242ac1c0002row17_col6\" class=\"data row17 col6\" >13149</td> \n",
              "        <td id=\"T_475fb7b8_ec71_11e8_9eb6_0242ac1c0002row17_col7\" class=\"data row17 col7\" >318</td> \n",
              "    </tr>    <tr> \n",
              "        <th id=\"T_475fb7b8_ec71_11e8_9eb6_0242ac1c0002level0_row18\" class=\"row_heading level0 row18\" >9</th> \n",
              "        <td id=\"T_475fb7b8_ec71_11e8_9eb6_0242ac1c0002row18_col0\" class=\"data row18 col0\" >18</td> \n",
              "        <td id=\"T_475fb7b8_ec71_11e8_9eb6_0242ac1c0002row18_col1\" class=\"data row18 col1\" >1152</td> \n",
              "        <td id=\"T_475fb7b8_ec71_11e8_9eb6_0242ac1c0002row18_col2\" class=\"data row18 col2\" >263</td> \n",
              "        <td id=\"T_475fb7b8_ec71_11e8_9eb6_0242ac1c0002row18_col3\" class=\"data row18 col3\" >695</td> \n",
              "        <td id=\"T_475fb7b8_ec71_11e8_9eb6_0242ac1c0002row18_col4\" class=\"data row18 col4\" >1415</td> \n",
              "        <td id=\"T_475fb7b8_ec71_11e8_9eb6_0242ac1c0002row18_col5\" class=\"data row18 col5\" >1335</td> \n",
              "        <td id=\"T_475fb7b8_ec71_11e8_9eb6_0242ac1c0002row18_col6\" class=\"data row18 col6\" >405</td> \n",
              "        <td id=\"T_475fb7b8_ec71_11e8_9eb6_0242ac1c0002row18_col7\" class=\"data row18 col7\" >801</td> \n",
              "    </tr>    <tr> \n",
              "        <th id=\"T_475fb7b8_ec71_11e8_9eb6_0242ac1c0002level0_row19\" class=\"row_heading level0 row19\" >10</th> \n",
              "        <td id=\"T_475fb7b8_ec71_11e8_9eb6_0242ac1c0002row19_col0\" class=\"data row19 col0\" >19</td> \n",
              "        <td id=\"T_475fb7b8_ec71_11e8_9eb6_0242ac1c0002row19_col1\" class=\"data row19 col1\" >367</td> \n",
              "        <td id=\"T_475fb7b8_ec71_11e8_9eb6_0242ac1c0002row19_col2\" class=\"data row19 col2\" >280</td> \n",
              "        <td id=\"T_475fb7b8_ec71_11e8_9eb6_0242ac1c0002row19_col3\" class=\"data row19 col3\" >2235</td> \n",
              "        <td id=\"T_475fb7b8_ec71_11e8_9eb6_0242ac1c0002row19_col4\" class=\"data row19 col4\" >739</td> \n",
              "        <td id=\"T_475fb7b8_ec71_11e8_9eb6_0242ac1c0002row19_col5\" class=\"data row19 col5\" >871</td> \n",
              "        <td id=\"T_475fb7b8_ec71_11e8_9eb6_0242ac1c0002row19_col6\" class=\"data row19 col6\" >729</td> \n",
              "        <td id=\"T_475fb7b8_ec71_11e8_9eb6_0242ac1c0002row19_col7\" class=\"data row19 col7\" >947</td> \n",
              "    </tr>    <tr> \n",
              "        <th id=\"T_475fb7b8_ec71_11e8_9eb6_0242ac1c0002level0_row20\" class=\"row_heading level0 row20\" >12</th> \n",
              "        <td id=\"T_475fb7b8_ec71_11e8_9eb6_0242ac1c0002row20_col0\" class=\"data row20 col0\" >20</td> \n",
              "        <td id=\"T_475fb7b8_ec71_11e8_9eb6_0242ac1c0002row20_col1\" class=\"data row20 col1\" >2168</td> \n",
              "        <td id=\"T_475fb7b8_ec71_11e8_9eb6_0242ac1c0002row20_col2\" class=\"data row20 col2\" >1077</td> \n",
              "        <td id=\"T_475fb7b8_ec71_11e8_9eb6_0242ac1c0002row20_col3\" class=\"data row20 col3\" >2493</td> \n",
              "        <td id=\"T_475fb7b8_ec71_11e8_9eb6_0242ac1c0002row20_col4\" class=\"data row20 col4\" >627</td> \n",
              "        <td id=\"T_475fb7b8_ec71_11e8_9eb6_0242ac1c0002row20_col5\" class=\"data row20 col5\" >941</td> \n",
              "        <td id=\"T_475fb7b8_ec71_11e8_9eb6_0242ac1c0002row20_col6\" class=\"data row20 col6\" >2373</td> \n",
              "        <td id=\"T_475fb7b8_ec71_11e8_9eb6_0242ac1c0002row20_col7\" class=\"data row20 col7\" >1213</td> \n",
              "    </tr>    <tr> \n",
              "        <th id=\"T_475fb7b8_ec71_11e8_9eb6_0242ac1c0002level0_row21\" class=\"row_heading level0 row21\" >13</th> \n",
              "        <td id=\"T_475fb7b8_ec71_11e8_9eb6_0242ac1c0002row21_col0\" class=\"data row21 col0\" >21</td> \n",
              "        <td id=\"T_475fb7b8_ec71_11e8_9eb6_0242ac1c0002row21_col1\" class=\"data row21 col1\" >3435</td> \n",
              "        <td id=\"T_475fb7b8_ec71_11e8_9eb6_0242ac1c0002row21_col2\" class=\"data row21 col2\" >523</td> \n",
              "        <td id=\"T_475fb7b8_ec71_11e8_9eb6_0242ac1c0002row21_col3\" class=\"data row21 col3\" >535</td> \n",
              "        <td id=\"T_475fb7b8_ec71_11e8_9eb6_0242ac1c0002row21_col4\" class=\"data row21 col4\" >939</td> \n",
              "        <td id=\"T_475fb7b8_ec71_11e8_9eb6_0242ac1c0002row21_col5\" class=\"data row21 col5\" >1112</td> \n",
              "        <td id=\"T_475fb7b8_ec71_11e8_9eb6_0242ac1c0002row21_col6\" class=\"data row21 col6\" >1319</td> \n",
              "        <td id=\"T_475fb7b8_ec71_11e8_9eb6_0242ac1c0002row21_col7\" class=\"data row21 col7\" >549</td> \n",
              "    </tr>    <tr> \n",
              "        <th id=\"T_475fb7b8_ec71_11e8_9eb6_0242ac1c0002level0_row22\" class=\"row_heading level0 row22\" >14</th> \n",
              "        <td id=\"T_475fb7b8_ec71_11e8_9eb6_0242ac1c0002row22_col0\" class=\"data row22 col0\" >22</td> \n",
              "        <td id=\"T_475fb7b8_ec71_11e8_9eb6_0242ac1c0002row22_col1\" class=\"data row22 col1\" >2036</td> \n",
              "        <td id=\"T_475fb7b8_ec71_11e8_9eb6_0242ac1c0002row22_col2\" class=\"data row22 col2\" >602</td> \n",
              "        <td id=\"T_475fb7b8_ec71_11e8_9eb6_0242ac1c0002row22_col3\" class=\"data row22 col3\" >1267</td> \n",
              "        <td id=\"T_475fb7b8_ec71_11e8_9eb6_0242ac1c0002row22_col4\" class=\"data row22 col4\" >835</td> \n",
              "        <td id=\"T_475fb7b8_ec71_11e8_9eb6_0242ac1c0002row22_col5\" class=\"data row22 col5\" >819</td> \n",
              "        <td id=\"T_475fb7b8_ec71_11e8_9eb6_0242ac1c0002row22_col6\" class=\"data row22 col6\" >6247</td> \n",
              "        <td id=\"T_475fb7b8_ec71_11e8_9eb6_0242ac1c0002row22_col7\" class=\"data row22 col7\" >1017</td> \n",
              "    </tr>    <tr> \n",
              "        <th id=\"T_475fb7b8_ec71_11e8_9eb6_0242ac1c0002level0_row23\" class=\"row_heading level0 row23\" >15</th> \n",
              "        <td id=\"T_475fb7b8_ec71_11e8_9eb6_0242ac1c0002row23_col0\" class=\"data row23 col0\" >23</td> \n",
              "        <td id=\"T_475fb7b8_ec71_11e8_9eb6_0242ac1c0002row23_col1\" class=\"data row23 col1\" >519</td> \n",
              "        <td id=\"T_475fb7b8_ec71_11e8_9eb6_0242ac1c0002row23_col2\" class=\"data row23 col2\" >22975</td> \n",
              "        <td id=\"T_475fb7b8_ec71_11e8_9eb6_0242ac1c0002row23_col3\" class=\"data row23 col3\" >584</td> \n",
              "        <td id=\"T_475fb7b8_ec71_11e8_9eb6_0242ac1c0002row23_col4\" class=\"data row23 col4\" >2192</td> \n",
              "        <td id=\"T_475fb7b8_ec71_11e8_9eb6_0242ac1c0002row23_col5\" class=\"data row23 col5\" >2168</td> \n",
              "        <td id=\"T_475fb7b8_ec71_11e8_9eb6_0242ac1c0002row23_col6\" class=\"data row23 col6\" >2491</td> \n",
              "        <td id=\"T_475fb7b8_ec71_11e8_9eb6_0242ac1c0002row23_col7\" class=\"data row23 col7\" >280</td> \n",
              "    </tr></tbody> \n",
              "</table> "
            ],
            "text/plain": [
              "<pandas.io.formats.style.Styler at 0x7f118149ea58>"
            ]
          },
          "metadata": {
            "tags": []
          },
          "execution_count": 72
        }
      ]
    },
    {
      "metadata": {
        "id": "FsyztVXj5P3W",
        "colab_type": "code",
        "colab": {
          "base_uri": "https://localhost:8080/",
          "height": 679
        },
        "outputId": "54e33883-4609-42b7-a002-f090b8300249"
      },
      "cell_type": "code",
      "source": [
        "#https://python-graph-gallery.com/125-small-multiples-for-line-chart/  \n",
        "# Initialize the figure\n",
        "plt.style.use('seaborn-darkgrid')\n",
        "# create a color palette\n",
        "palette = plt.get_cmap('Set1')\n",
        "plt.figure(figsize=(10,10))\n",
        "plt.suptitle(\"Checkins variation across time\",fontsize=20)\n",
        "gridspec.GridSpec(3,3)\n",
        "plt.subplots_adjust(hspace=0.4)\n",
        "\n",
        "# multiple line plot\n",
        "num=0\n",
        "for column in df.drop('hour', axis=1):\n",
        "    num+=1\n",
        "    # Find the right spot on the plot\n",
        "    \n",
        "    if num==7:  # adjustment to fit sunday\n",
        "        plt.subplot2grid((3,3),(2,0),colspan=3)\n",
        "    else:\n",
        "        plt.subplot(3,3, num)\n",
        "    \n",
        "    # plot every groups, but discreet\n",
        "    for v in df.drop('hour', axis=1):\n",
        "        plt.plot(df['hour'], df[v], marker='', color='grey', linewidth=0.6, alpha=0.3)\n",
        "    # Plot the lineplot\n",
        "    plt.plot(df['hour'], df[column], marker='', color=palette(num), linewidth=2.4, alpha=0.9, label=column)\n",
        "    # Same limits for everybody!\n",
        "    plt.xlim(0,24)\n",
        "    plt.ylim(-2,260000)\n",
        "    # Not ticks everywhere\n",
        "    if num in range(4) :\n",
        "        plt.tick_params(labelbottom='off')\n",
        "    if num not in [1,4,7] :\n",
        "        plt.tick_params(labelleft='off')\n",
        "       \n",
        "    # Add title\n",
        "    plt.title(column, loc='left', fontsize=12, fontweight=0, color=palette(num))\n",
        "         \n",
        "    plt.ylabel('# of checkin', fontsize=12)\n",
        "    plt.xlabel('Time of checkins', fontsize=12)"
      ],
      "execution_count": 80,
      "outputs": [
        {
          "output_type": "display_data",
          "data": {
            "image/png": "[encoded data removed]",
            "text/plain": [
              "<matplotlib.figure.Figure at 0x7f11814815f8>"
            ]
          },
          "metadata": {
            "tags": []
          }
        }
      ]
    },
    {
      "metadata": {
        "id": "poeJYB4THZpX",
        "colab_type": "code",
        "colab": {}
      },
      "cell_type": "code",
      "source": [
        ""
      ],
      "execution_count": 0,
      "outputs": []
    }
  ]
}