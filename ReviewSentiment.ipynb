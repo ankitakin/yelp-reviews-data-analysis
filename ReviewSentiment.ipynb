{
 "cells": [
  {
   "cell_type": "code",
   "execution_count": 1,
   "metadata": {
    "collapsed": true
   },
   "outputs": [],
   "source": [
    "import numpy as np\n",
    "import pandas as pd\n",
    "import csv\n",
    "import json\n",
    "import matplotlib.pyplot as plt\n",
    "from datetime import datetime\n",
    "\n",
    "%matplotlib inline"
   ]
  },
  {
   "cell_type": "markdown",
   "metadata": {},
   "source": [
    "Install nltk library"
   ]
  },
  {
   "cell_type": "code",
   "execution_count": 4,
   "metadata": {},
   "outputs": [
    {
     "name": "stderr",
     "output_type": "stream",
     "text": [
      "/Users/bpadalkar/anaconda3/lib/python3.6/site-packages/nltk/twitter/__init__.py:20: UserWarning: The twython library has not been installed. Some functionality from the twitter package will not be available.\n",
      "  warnings.warn(\"The twython library has not been installed. \"\n"
     ]
    }
   ],
   "source": [
    "from nltk.sentiment.vader import SentimentIntensityAnalyzer as sia\n",
    "hal = sia()"
   ]
  },
  {
   "cell_type": "code",
   "execution_count": 27,
   "metadata": {},
   "outputs": [],
   "source": [
    "#Use appropriate JSON code.\n",
    "PATH_TO_FILE = \"yelp_academic_dataset_review\"\n",
    "reviews = pd.read_csv(PATH_TO_FILE+\".csv\")\n",
    "df = reviews.head(50)"
   ]
  },
  {
   "cell_type": "markdown",
   "metadata": {},
   "source": [
    "Now, you should have the rows u want from review table loaded in df. The following part will use only text column of reviews in df to calculate sentiment score. "
   ]
  },
  {
   "cell_type": "markdown",
   "metadata": {},
   "source": [
    "# OPTION 1: All scores (dict) + One type of score (float) - 2 new columns in df"
   ]
  },
  {
   "cell_type": "markdown",
   "metadata": {},
   "source": [
    "u will have all scores i.e. pos/neg/neu/compound and also individual float values from score type u specify for further analysis --- even though nltk runs model only once. If you do not want all_sentiment score, but just individual score of 1 type only.. run option 2"
   ]
  },
  {
   "cell_type": "code",
   "execution_count": 15,
   "metadata": {},
   "outputs": [
    {
     "name": "stderr",
     "output_type": "stream",
     "text": [
      "/Users/bpadalkar/anaconda3/lib/python3.6/site-packages/ipykernel_launcher.py:1: SettingWithCopyWarning: \n",
      "A value is trying to be set on a copy of a slice from a DataFrame.\n",
      "Try using .loc[row_indexer,col_indexer] = value instead\n",
      "\n",
      "See the caveats in the documentation: http://pandas.pydata.org/pandas-docs/stable/indexing.html#indexing-view-versus-copy\n",
      "  \"\"\"Entry point for launching an IPython kernel.\n"
     ]
    }
   ],
   "source": [
    "df['all_sentiment_score'] = df['text'].replace('b\"',\"\").apply(lambda x: hal.polarity_scores(x))\n"
   ]
  },
  {
   "cell_type": "code",
   "execution_count": 24,
   "metadata": {},
   "outputs": [
    {
     "name": "stderr",
     "output_type": "stream",
     "text": [
      "/Users/bpadalkar/anaconda3/lib/python3.6/site-packages/ipykernel_launcher.py:2: SettingWithCopyWarning: \n",
      "A value is trying to be set on a copy of a slice from a DataFrame.\n",
      "Try using .loc[row_indexer,col_indexer] = value instead\n",
      "\n",
      "See the caveats in the documentation: http://pandas.pydata.org/pandas-docs/stable/indexing.html#indexing-view-versus-copy\n",
      "  \n"
     ]
    }
   ],
   "source": [
    "score_type = \"compound\" # can also be 'neg' or 'neu' or 'pos' depending on which score u want.. pls replace only this string\n",
    "df[\"sentiment_\"+score_type+\"_score\"] = df['all_sentiment_score'].apply(lambda x: float(x[score_type]))"
   ]
  },
  {
   "cell_type": "code",
   "execution_count": 25,
   "metadata": {},
   "outputs": [
    {
     "data": {
      "text/html": [
       "<div>\n",
       "<style>\n",
       "    .dataframe thead tr:only-child th {\n",
       "        text-align: right;\n",
       "    }\n",
       "\n",
       "    .dataframe thead th {\n",
       "        text-align: left;\n",
       "    }\n",
       "\n",
       "    .dataframe tbody tr th {\n",
       "        vertical-align: top;\n",
       "    }\n",
       "</style>\n",
       "<table border=\"1\" class=\"dataframe\">\n",
       "  <thead>\n",
       "    <tr style=\"text-align: right;\">\n",
       "      <th></th>\n",
       "      <th>useful</th>\n",
       "      <th>date</th>\n",
       "      <th>text</th>\n",
       "      <th>stars</th>\n",
       "      <th>review_id</th>\n",
       "      <th>user_id</th>\n",
       "      <th>funny</th>\n",
       "      <th>business_id</th>\n",
       "      <th>cool</th>\n",
       "      <th>all_sentiment_score</th>\n",
       "      <th>sentiment_compound_score</th>\n",
       "    </tr>\n",
       "  </thead>\n",
       "  <tbody>\n",
       "    <tr>\n",
       "      <th>0</th>\n",
       "      <td>0</td>\n",
       "      <td>b'2011-02-25'</td>\n",
       "      <td>b\"The pizza was okay. Not the best I've had. I...</td>\n",
       "      <td>2</td>\n",
       "      <td>b'x7mDIiDB3jEiPGPHOmDzyw'</td>\n",
       "      <td>b'msQe1u7Z_XuqjGoqhB0J5g'</td>\n",
       "      <td>0</td>\n",
       "      <td>b'iCQpiavjjPzJ5_3gPD5Ebg'</td>\n",
       "      <td>0</td>\n",
       "      <td>{'neg': 0.053, 'neu': 0.751, 'pos': 0.197, 'co...</td>\n",
       "      <td>0.9247</td>\n",
       "    </tr>\n",
       "    <tr>\n",
       "      <th>1</th>\n",
       "      <td>0</td>\n",
       "      <td>b'2012-11-13'</td>\n",
       "      <td>b'I love this place! My fiance And I go here a...</td>\n",
       "      <td>5</td>\n",
       "      <td>b'dDl8zu1vWPdKGihJrwQbpw'</td>\n",
       "      <td>b'msQe1u7Z_XuqjGoqhB0J5g'</td>\n",
       "      <td>0</td>\n",
       "      <td>b'pomGBqfbxcqPv14c3XH-ZQ'</td>\n",
       "      <td>0</td>\n",
       "      <td>{'neg': 0.0, 'neu': 0.615, 'pos': 0.385, 'comp...</td>\n",
       "      <td>0.9841</td>\n",
       "    </tr>\n",
       "    <tr>\n",
       "      <th>2</th>\n",
       "      <td>3</td>\n",
       "      <td>b'2014-10-23'</td>\n",
       "      <td>b'Terrible. Dry corn bread. Rib tips were all ...</td>\n",
       "      <td>1</td>\n",
       "      <td>b'LZp4UX5zK3e-c5ZGSeo3kA'</td>\n",
       "      <td>b'msQe1u7Z_XuqjGoqhB0J5g'</td>\n",
       "      <td>1</td>\n",
       "      <td>b'jtQARsP6P-LbkyjbO1qNGg'</td>\n",
       "      <td>1</td>\n",
       "      <td>{'neg': 0.065, 'neu': 0.799, 'pos': 0.136, 'co...</td>\n",
       "      <td>0.3400</td>\n",
       "    </tr>\n",
       "    <tr>\n",
       "      <th>3</th>\n",
       "      <td>2</td>\n",
       "      <td>b'2011-02-25'</td>\n",
       "      <td>b'Back in 2005-2007 this place was my FAVORITE...</td>\n",
       "      <td>2</td>\n",
       "      <td>b'Er4NBWCmCD4nM8_p1GRdow'</td>\n",
       "      <td>b'msQe1u7Z_XuqjGoqhB0J5g'</td>\n",
       "      <td>0</td>\n",
       "      <td>b'elqbBhBfElMNSrjFqW3now'</td>\n",
       "      <td>0</td>\n",
       "      <td>{'neg': 0.099, 'neu': 0.796, 'pos': 0.106, 'co...</td>\n",
       "      <td>0.6576</td>\n",
       "    </tr>\n",
       "    <tr>\n",
       "      <th>4</th>\n",
       "      <td>0</td>\n",
       "      <td>b'2014-09-05'</td>\n",
       "      <td>b'Delicious healthy food. The steak is amazing...</td>\n",
       "      <td>5</td>\n",
       "      <td>b'jsDu6QEJHbwP2Blom1PLCA'</td>\n",
       "      <td>b'msQe1u7Z_XuqjGoqhB0J5g'</td>\n",
       "      <td>0</td>\n",
       "      <td>b'Ums3gaP2qM3W1XcA5r6SsQ'</td>\n",
       "      <td>0</td>\n",
       "      <td>{'neg': 0.087, 'neu': 0.596, 'pos': 0.317, 'co...</td>\n",
       "      <td>0.8516</td>\n",
       "    </tr>\n",
       "  </tbody>\n",
       "</table>\n",
       "</div>"
      ],
      "text/plain": [
       "   useful           date                                               text  \\\n",
       "0       0  b'2011-02-25'  b\"The pizza was okay. Not the best I've had. I...   \n",
       "1       0  b'2012-11-13'  b'I love this place! My fiance And I go here a...   \n",
       "2       3  b'2014-10-23'  b'Terrible. Dry corn bread. Rib tips were all ...   \n",
       "3       2  b'2011-02-25'  b'Back in 2005-2007 this place was my FAVORITE...   \n",
       "4       0  b'2014-09-05'  b'Delicious healthy food. The steak is amazing...   \n",
       "\n",
       "   stars                  review_id                    user_id  funny  \\\n",
       "0      2  b'x7mDIiDB3jEiPGPHOmDzyw'  b'msQe1u7Z_XuqjGoqhB0J5g'      0   \n",
       "1      5  b'dDl8zu1vWPdKGihJrwQbpw'  b'msQe1u7Z_XuqjGoqhB0J5g'      0   \n",
       "2      1  b'LZp4UX5zK3e-c5ZGSeo3kA'  b'msQe1u7Z_XuqjGoqhB0J5g'      1   \n",
       "3      2  b'Er4NBWCmCD4nM8_p1GRdow'  b'msQe1u7Z_XuqjGoqhB0J5g'      0   \n",
       "4      5  b'jsDu6QEJHbwP2Blom1PLCA'  b'msQe1u7Z_XuqjGoqhB0J5g'      0   \n",
       "\n",
       "                 business_id  cool  \\\n",
       "0  b'iCQpiavjjPzJ5_3gPD5Ebg'     0   \n",
       "1  b'pomGBqfbxcqPv14c3XH-ZQ'     0   \n",
       "2  b'jtQARsP6P-LbkyjbO1qNGg'     1   \n",
       "3  b'elqbBhBfElMNSrjFqW3now'     0   \n",
       "4  b'Ums3gaP2qM3W1XcA5r6SsQ'     0   \n",
       "\n",
       "                                 all_sentiment_score  sentiment_compound_score  \n",
       "0  {'neg': 0.053, 'neu': 0.751, 'pos': 0.197, 'co...                    0.9247  \n",
       "1  {'neg': 0.0, 'neu': 0.615, 'pos': 0.385, 'comp...                    0.9841  \n",
       "2  {'neg': 0.065, 'neu': 0.799, 'pos': 0.136, 'co...                    0.3400  \n",
       "3  {'neg': 0.099, 'neu': 0.796, 'pos': 0.106, 'co...                    0.6576  \n",
       "4  {'neg': 0.087, 'neu': 0.596, 'pos': 0.317, 'co...                    0.8516  "
      ]
     },
     "execution_count": 25,
     "metadata": {},
     "output_type": "execute_result"
    }
   ],
   "source": [
    "df.head(5)"
   ]
  },
  {
   "cell_type": "markdown",
   "metadata": {},
   "source": [
    "# OPTION 2: One type of score (float) --- 1 new columns in df"
   ]
  },
  {
   "cell_type": "code",
   "execution_count": 29,
   "metadata": {},
   "outputs": [
    {
     "name": "stderr",
     "output_type": "stream",
     "text": [
      "/Users/bpadalkar/anaconda3/lib/python3.6/site-packages/ipykernel_launcher.py:2: SettingWithCopyWarning: \n",
      "A value is trying to be set on a copy of a slice from a DataFrame.\n",
      "Try using .loc[row_indexer,col_indexer] = value instead\n",
      "\n",
      "See the caveats in the documentation: http://pandas.pydata.org/pandas-docs/stable/indexing.html#indexing-view-versus-copy\n",
      "  \n"
     ]
    }
   ],
   "source": [
    "score_type = \"compound\" # can also be 'neg' or 'neu' or 'pos' depending on which score u want.. pls replace only this string\n",
    "df[\"sentiment_\"+score_type+\"_score\"] = df['text'].replace('b\"',\"\").apply(lambda x: hal.polarity_scores(x.replace('b\"',\"\"))['compound'])"
   ]
  },
  {
   "cell_type": "code",
   "execution_count": 30,
   "metadata": {},
   "outputs": [
    {
     "data": {
      "text/html": [
       "<div>\n",
       "<style>\n",
       "    .dataframe thead tr:only-child th {\n",
       "        text-align: right;\n",
       "    }\n",
       "\n",
       "    .dataframe thead th {\n",
       "        text-align: left;\n",
       "    }\n",
       "\n",
       "    .dataframe tbody tr th {\n",
       "        vertical-align: top;\n",
       "    }\n",
       "</style>\n",
       "<table border=\"1\" class=\"dataframe\">\n",
       "  <thead>\n",
       "    <tr style=\"text-align: right;\">\n",
       "      <th></th>\n",
       "      <th>useful</th>\n",
       "      <th>date</th>\n",
       "      <th>text</th>\n",
       "      <th>stars</th>\n",
       "      <th>review_id</th>\n",
       "      <th>user_id</th>\n",
       "      <th>funny</th>\n",
       "      <th>business_id</th>\n",
       "      <th>cool</th>\n",
       "      <th>sentiment_compound_score</th>\n",
       "    </tr>\n",
       "  </thead>\n",
       "  <tbody>\n",
       "    <tr>\n",
       "      <th>0</th>\n",
       "      <td>0</td>\n",
       "      <td>b'2011-02-25'</td>\n",
       "      <td>b\"The pizza was okay. Not the best I've had. I...</td>\n",
       "      <td>2</td>\n",
       "      <td>b'x7mDIiDB3jEiPGPHOmDzyw'</td>\n",
       "      <td>b'msQe1u7Z_XuqjGoqhB0J5g'</td>\n",
       "      <td>0</td>\n",
       "      <td>b'iCQpiavjjPzJ5_3gPD5Ebg'</td>\n",
       "      <td>0</td>\n",
       "      <td>0.9247</td>\n",
       "    </tr>\n",
       "    <tr>\n",
       "      <th>1</th>\n",
       "      <td>0</td>\n",
       "      <td>b'2012-11-13'</td>\n",
       "      <td>b'I love this place! My fiance And I go here a...</td>\n",
       "      <td>5</td>\n",
       "      <td>b'dDl8zu1vWPdKGihJrwQbpw'</td>\n",
       "      <td>b'msQe1u7Z_XuqjGoqhB0J5g'</td>\n",
       "      <td>0</td>\n",
       "      <td>b'pomGBqfbxcqPv14c3XH-ZQ'</td>\n",
       "      <td>0</td>\n",
       "      <td>0.9841</td>\n",
       "    </tr>\n",
       "    <tr>\n",
       "      <th>2</th>\n",
       "      <td>3</td>\n",
       "      <td>b'2014-10-23'</td>\n",
       "      <td>b'Terrible. Dry corn bread. Rib tips were all ...</td>\n",
       "      <td>1</td>\n",
       "      <td>b'LZp4UX5zK3e-c5ZGSeo3kA'</td>\n",
       "      <td>b'msQe1u7Z_XuqjGoqhB0J5g'</td>\n",
       "      <td>1</td>\n",
       "      <td>b'jtQARsP6P-LbkyjbO1qNGg'</td>\n",
       "      <td>1</td>\n",
       "      <td>0.3400</td>\n",
       "    </tr>\n",
       "    <tr>\n",
       "      <th>3</th>\n",
       "      <td>2</td>\n",
       "      <td>b'2011-02-25'</td>\n",
       "      <td>b'Back in 2005-2007 this place was my FAVORITE...</td>\n",
       "      <td>2</td>\n",
       "      <td>b'Er4NBWCmCD4nM8_p1GRdow'</td>\n",
       "      <td>b'msQe1u7Z_XuqjGoqhB0J5g'</td>\n",
       "      <td>0</td>\n",
       "      <td>b'elqbBhBfElMNSrjFqW3now'</td>\n",
       "      <td>0</td>\n",
       "      <td>0.6576</td>\n",
       "    </tr>\n",
       "    <tr>\n",
       "      <th>4</th>\n",
       "      <td>0</td>\n",
       "      <td>b'2014-09-05'</td>\n",
       "      <td>b'Delicious healthy food. The steak is amazing...</td>\n",
       "      <td>5</td>\n",
       "      <td>b'jsDu6QEJHbwP2Blom1PLCA'</td>\n",
       "      <td>b'msQe1u7Z_XuqjGoqhB0J5g'</td>\n",
       "      <td>0</td>\n",
       "      <td>b'Ums3gaP2qM3W1XcA5r6SsQ'</td>\n",
       "      <td>0</td>\n",
       "      <td>0.8516</td>\n",
       "    </tr>\n",
       "  </tbody>\n",
       "</table>\n",
       "</div>"
      ],
      "text/plain": [
       "   useful           date                                               text  \\\n",
       "0       0  b'2011-02-25'  b\"The pizza was okay. Not the best I've had. I...   \n",
       "1       0  b'2012-11-13'  b'I love this place! My fiance And I go here a...   \n",
       "2       3  b'2014-10-23'  b'Terrible. Dry corn bread. Rib tips were all ...   \n",
       "3       2  b'2011-02-25'  b'Back in 2005-2007 this place was my FAVORITE...   \n",
       "4       0  b'2014-09-05'  b'Delicious healthy food. The steak is amazing...   \n",
       "\n",
       "   stars                  review_id                    user_id  funny  \\\n",
       "0      2  b'x7mDIiDB3jEiPGPHOmDzyw'  b'msQe1u7Z_XuqjGoqhB0J5g'      0   \n",
       "1      5  b'dDl8zu1vWPdKGihJrwQbpw'  b'msQe1u7Z_XuqjGoqhB0J5g'      0   \n",
       "2      1  b'LZp4UX5zK3e-c5ZGSeo3kA'  b'msQe1u7Z_XuqjGoqhB0J5g'      1   \n",
       "3      2  b'Er4NBWCmCD4nM8_p1GRdow'  b'msQe1u7Z_XuqjGoqhB0J5g'      0   \n",
       "4      5  b'jsDu6QEJHbwP2Blom1PLCA'  b'msQe1u7Z_XuqjGoqhB0J5g'      0   \n",
       "\n",
       "                 business_id  cool  sentiment_compound_score  \n",
       "0  b'iCQpiavjjPzJ5_3gPD5Ebg'     0                    0.9247  \n",
       "1  b'pomGBqfbxcqPv14c3XH-ZQ'     0                    0.9841  \n",
       "2  b'jtQARsP6P-LbkyjbO1qNGg'     1                    0.3400  \n",
       "3  b'elqbBhBfElMNSrjFqW3now'     0                    0.6576  \n",
       "4  b'Ums3gaP2qM3W1XcA5r6SsQ'     0                    0.8516  "
      ]
     },
     "execution_count": 30,
     "metadata": {},
     "output_type": "execute_result"
    }
   ],
   "source": [
    "df.head(5)"
   ]
  },
  {
   "cell_type": "code",
   "execution_count": null,
   "metadata": {
    "collapsed": true
   },
   "outputs": [],
   "source": []
  }
 ],
 "metadata": {
  "kernelspec": {
   "display_name": "Python 3",
   "language": "python",
   "name": "python3"
  },
  "language_info": {
   "codemirror_mode": {
    "name": "ipython",
    "version": 3
   },
   "file_extension": ".py",
   "mimetype": "text/x-python",
   "name": "python",
   "nbconvert_exporter": "python",
   "pygments_lexer": "ipython3",
   "version": "3.6.3"
  }
 },
 "nbformat": 4,
 "nbformat_minor": 2
}
